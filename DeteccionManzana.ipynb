{
  "cells": [
    {
      "cell_type": "markdown",
      "metadata": {
        "id": "view-in-github",
        "colab_type": "text"
      },
      "source": [
        "<a href=\"https://colab.research.google.com/github/Juanje932/Diplomado-IA/blob/master/DeteccionManzana.ipynb\" target=\"_parent\"><img src=\"https://colab.research.google.com/assets/colab-badge.svg\" alt=\"Open In Colab\"/></a>"
      ]
    },
    {
      "cell_type": "markdown",
      "metadata": {
        "id": "jVANNS1mwdKe"
      },
      "source": [
        "# Detección de strawberries"
      ]
    },
    {
      "cell_type": "markdown",
      "metadata": {
        "id": "XiqHKB8ywdKh"
      },
      "source": [
        "link del dataset: https://universe.roboflow.com/saruta-nonthasiriwat-sr2y9/strawberry-tyqqb/dataset/2\n",
        "\n",
        "Link interesante, datos de paga:  https://www.kaggle.com/datasets/trainingdatapro/ripe-strawberries-detection/data\n",
        "\n",
        "Mas imagenes, no revisadas: https://universe.roboflow.com/cs2/farm-detect9/dataset/3"
      ]
    },
    {
      "cell_type": "code",
      "execution_count": 1,
      "metadata": {
        "colab": {
          "base_uri": "https://localhost:8080/"
        },
        "collapsed": true,
        "id": "VQZOnG_UwdKj",
        "outputId": "0c5b9ea3-f729-49fc-8d85-07fda8876786"
      },
      "outputs": [
        {
          "output_type": "stream",
          "name": "stdout",
          "text": [
            "Collecting roboflow\n",
            "  Downloading roboflow-1.1.37-py3-none-any.whl.metadata (9.4 kB)\n",
            "Requirement already satisfied: certifi in /usr/local/lib/python3.10/dist-packages (from roboflow) (2024.7.4)\n",
            "Collecting chardet==4.0.0 (from roboflow)\n",
            "  Downloading chardet-4.0.0-py2.py3-none-any.whl.metadata (3.5 kB)\n",
            "Requirement already satisfied: idna==3.7 in /usr/local/lib/python3.10/dist-packages (from roboflow) (3.7)\n",
            "Requirement already satisfied: cycler in /usr/local/lib/python3.10/dist-packages (from roboflow) (0.12.1)\n",
            "Requirement already satisfied: kiwisolver>=1.3.1 in /usr/local/lib/python3.10/dist-packages (from roboflow) (1.4.5)\n",
            "Requirement already satisfied: matplotlib in /usr/local/lib/python3.10/dist-packages (from roboflow) (3.7.1)\n",
            "Requirement already satisfied: numpy>=1.18.5 in /usr/local/lib/python3.10/dist-packages (from roboflow) (1.26.4)\n",
            "Requirement already satisfied: opencv-python-headless==4.10.0.84 in /usr/local/lib/python3.10/dist-packages (from roboflow) (4.10.0.84)\n",
            "Requirement already satisfied: Pillow>=7.1.2 in /usr/local/lib/python3.10/dist-packages (from roboflow) (9.4.0)\n",
            "Requirement already satisfied: python-dateutil in /usr/local/lib/python3.10/dist-packages (from roboflow) (2.8.2)\n",
            "Collecting python-dotenv (from roboflow)\n",
            "  Downloading python_dotenv-1.0.1-py3-none-any.whl.metadata (23 kB)\n",
            "Requirement already satisfied: requests in /usr/local/lib/python3.10/dist-packages (from roboflow) (2.31.0)\n",
            "Requirement already satisfied: six in /usr/local/lib/python3.10/dist-packages (from roboflow) (1.16.0)\n",
            "Requirement already satisfied: urllib3>=1.26.6 in /usr/local/lib/python3.10/dist-packages (from roboflow) (2.0.7)\n",
            "Requirement already satisfied: tqdm>=4.41.0 in /usr/local/lib/python3.10/dist-packages (from roboflow) (4.66.4)\n",
            "Requirement already satisfied: PyYAML>=5.3.1 in /usr/local/lib/python3.10/dist-packages (from roboflow) (6.0.1)\n",
            "Collecting requests-toolbelt (from roboflow)\n",
            "  Downloading requests_toolbelt-1.0.0-py2.py3-none-any.whl.metadata (14 kB)\n",
            "Collecting filetype (from roboflow)\n",
            "  Downloading filetype-1.2.0-py2.py3-none-any.whl.metadata (6.5 kB)\n",
            "Requirement already satisfied: contourpy>=1.0.1 in /usr/local/lib/python3.10/dist-packages (from matplotlib->roboflow) (1.2.1)\n",
            "Requirement already satisfied: fonttools>=4.22.0 in /usr/local/lib/python3.10/dist-packages (from matplotlib->roboflow) (4.53.1)\n",
            "Requirement already satisfied: packaging>=20.0 in /usr/local/lib/python3.10/dist-packages (from matplotlib->roboflow) (24.1)\n",
            "Requirement already satisfied: pyparsing>=2.3.1 in /usr/local/lib/python3.10/dist-packages (from matplotlib->roboflow) (3.1.2)\n",
            "Requirement already satisfied: charset-normalizer<4,>=2 in /usr/local/lib/python3.10/dist-packages (from requests->roboflow) (3.3.2)\n",
            "Downloading roboflow-1.1.37-py3-none-any.whl (76 kB)\n",
            "\u001b[2K   \u001b[90m━━━━━━━━━━━━━━━━━━━━━━━━━━━━━━━━━━━━━━━━\u001b[0m \u001b[32m76.9/76.9 kB\u001b[0m \u001b[31m4.9 MB/s\u001b[0m eta \u001b[36m0:00:00\u001b[0m\n",
            "\u001b[?25hDownloading chardet-4.0.0-py2.py3-none-any.whl (178 kB)\n",
            "\u001b[2K   \u001b[90m━━━━━━━━━━━━━━━━━━━━━━━━━━━━━━━━━━━━━━━━\u001b[0m \u001b[32m178.7/178.7 kB\u001b[0m \u001b[31m15.2 MB/s\u001b[0m eta \u001b[36m0:00:00\u001b[0m\n",
            "\u001b[?25hDownloading filetype-1.2.0-py2.py3-none-any.whl (19 kB)\n",
            "Downloading python_dotenv-1.0.1-py3-none-any.whl (19 kB)\n",
            "Downloading requests_toolbelt-1.0.0-py2.py3-none-any.whl (54 kB)\n",
            "\u001b[2K   \u001b[90m━━━━━━━━━━━━━━━━━━━━━━━━━━━━━━━━━━━━━━━━\u001b[0m \u001b[32m54.5/54.5 kB\u001b[0m \u001b[31m5.7 MB/s\u001b[0m eta \u001b[36m0:00:00\u001b[0m\n",
            "\u001b[?25hInstalling collected packages: filetype, python-dotenv, chardet, requests-toolbelt, roboflow\n",
            "  Attempting uninstall: chardet\n",
            "    Found existing installation: chardet 5.2.0\n",
            "    Uninstalling chardet-5.2.0:\n",
            "      Successfully uninstalled chardet-5.2.0\n",
            "Successfully installed chardet-4.0.0 filetype-1.2.0 python-dotenv-1.0.1 requests-toolbelt-1.0.0 roboflow-1.1.37\n"
          ]
        }
      ],
      "source": [
        "# Uso de la API de roboflow\n",
        "%pip install roboflow"
      ]
    },
    {
      "cell_type": "markdown",
      "metadata": {
        "id": "sOD4f5S3wdKk"
      },
      "source": [
        "## Descargar el dataset\n"
      ]
    },
    {
      "cell_type": "code",
      "source": [
        "from roboflow import Roboflow\n",
        "rf = Roboflow(api_key=\"fDfY37GxkyGoaJ1AfIFM\")\n",
        "project = rf.workspace(\"juanjesus\").project(\"manzanas-clases\")\n",
        "version = project.version(1)\n",
        "dataset = version.download(\"yolov5\")\n",
        "\n"
      ],
      "metadata": {
        "colab": {
          "base_uri": "https://localhost:8080/"
        },
        "id": "EyPhLZx8y0oi",
        "outputId": "892acfcf-793b-4f64-fce4-161281eb6771"
      },
      "execution_count": 2,
      "outputs": [
        {
          "output_type": "stream",
          "name": "stdout",
          "text": [
            "loading Roboflow workspace...\n",
            "loading Roboflow project...\n"
          ]
        },
        {
          "output_type": "stream",
          "name": "stderr",
          "text": [
            "Downloading Dataset Version Zip in Manzanas-clases-1 to yolov5pytorch:: 100%|██████████| 39821/39821 [00:03<00:00, 11501.77it/s]"
          ]
        },
        {
          "output_type": "stream",
          "name": "stdout",
          "text": [
            "\n"
          ]
        },
        {
          "output_type": "stream",
          "name": "stderr",
          "text": [
            "\n",
            "Extracting Dataset Version Zip to Manzanas-clases-1 in yolov5pytorch:: 100%|██████████| 1580/1580 [00:00<00:00, 6671.05it/s]\n"
          ]
        }
      ]
    },
    {
      "cell_type": "markdown",
      "metadata": {
        "id": "dbBLdv_rwdKk"
      },
      "source": [
        "## Visualización de los datos"
      ]
    },
    {
      "cell_type": "code",
      "execution_count": 3,
      "metadata": {
        "id": "YznkBfXQwdKk"
      },
      "outputs": [],
      "source": [
        "# Codigo utilizable como libreria\n",
        "import os\n",
        "import yaml\n",
        "from collections import Counter\n",
        "import pandas as pd\n",
        "import matplotlib.pyplot as plt\n",
        "import shutil\n",
        "\n",
        "def load_yaml_config(yaml_path):\n",
        "    \"\"\"\n",
        "    Carga un archivo de configuración YAML.\n",
        "\n",
        "    Args:\n",
        "        yaml_path (str): Ruta al archivo YAML.\n",
        "\n",
        "    Returns:\n",
        "        dict: Contenido del YAML parseado.\n",
        "    \"\"\"\n",
        "    with open(yaml_path, 'r') as file:\n",
        "        return yaml.safe_load(file)\n",
        "\n",
        "def count_classes(labels_dir):\n",
        "    \"\"\"\n",
        "    Cuenta las ocurrencias de cada clase en los archivos de etiquetas de un directorio dado.\n",
        "\n",
        "    Args:\n",
        "        labels_dir (str): Ruta al directorio que contiene los archivos de etiquetas.\n",
        "\n",
        "    Returns:\n",
        "        Counter: Un objeto Counter con los conteos de clases.\n",
        "    \"\"\"\n",
        "    class_counter = Counter()\n",
        "    for label_file in os.listdir(labels_dir):\n",
        "        if label_file.endswith('.txt'):\n",
        "            with open(os.path.join(labels_dir, label_file), 'r') as file:\n",
        "                for line in file:\n",
        "                    class_id = int(line.split()[0])\n",
        "                    class_counter[class_id] += 1\n",
        "    return class_counter\n",
        "\n",
        "def analyze_class_balance(config_path):\n",
        "    \"\"\"\n",
        "    Analiza el balance de clases en el conjunto de datos según lo especificado en el archivo de configuración.\n",
        "\n",
        "    Args:\n",
        "        config_path (str): Ruta al archivo de configuración YAML.\n",
        "\n",
        "    Returns:\n",
        "        pd.DataFrame: DataFrame que contiene los conteos de clases para cada división del conjunto de datos.\n",
        "    \"\"\"\n",
        "    config = load_yaml_config(config_path)\n",
        "    classes = config['names']\n",
        "    datasets = ['train', 'valid', 'test']\n",
        "    base_dir = os.path.dirname(config_path)\n",
        "\n",
        "    results = {}\n",
        "    for dataset in datasets:\n",
        "        labels_dir = os.path.join(base_dir, dataset, 'labels')\n",
        "        if os.path.exists(labels_dir):\n",
        "            results[dataset] = count_classes(labels_dir)\n",
        "        else:\n",
        "            print(f\"Advertencia: El directorio '{labels_dir}' no existe. Saltando el conjunto de datos {dataset}.\")\n",
        "            results[dataset] = Counter()\n",
        "\n",
        "    # Creación del DataFrame\n",
        "    df = pd.DataFrame({dataset: [results[dataset].get(i, 0) for i in range(len(classes))] for dataset in datasets}, index=classes)\n",
        "\n",
        "    return df\n",
        "\n",
        "\n",
        "def plot_class_balance(df):\n",
        "    \"\"\"\n",
        "    Genera un gráfico de barras para visualizar el balance de clases en los diferentes conjuntos de datos.\n",
        "\n",
        "    Args:\n",
        "        df (pd.DataFrame): DataFrame que contiene los conteos de clases para cada división del conjunto de datos.\n",
        "    \"\"\"\n",
        "    ax = df.plot(kind='bar', figsize=(10, 6), width=0.8)\n",
        "    plt.title('Balance de Clases en los Conjuntos de Datos')\n",
        "    plt.xlabel('Clases')\n",
        "    plt.ylabel('Conteo')\n",
        "    plt.xticks(rotation=45)\n",
        "    plt.legend(title='Conjuntos de Datos')\n",
        "    plt.tight_layout()\n",
        "    plt.show()\n",
        "\n",
        "\n",
        "def remove_directory_if_exists(directory_path):\n",
        "    \"\"\"\n",
        "    Elimina un directorio si existe.\n",
        "\n",
        "    Args:\n",
        "        directory_path (str): La ruta del directorio a eliminar.\n",
        "    \"\"\"\n",
        "    if os.path.exists(directory_path):\n",
        "        shutil.rmtree(directory_path)\n",
        "        print(f\"Directorio '{directory_path}' eliminado exitosamente.\")\n",
        "    else:\n",
        "        print(f\"Directorio '{directory_path}' no existe.\")"
      ]
    },
    {
      "cell_type": "markdown",
      "metadata": {
        "id": "VKpaxfbawdKl"
      },
      "source": [
        "**NOTA: Es necesario que el dataset se encuentre en el siguiente formato.**\n",
        "\n",
        "\n",
        "```plaintext\n",
        "strawberry-2\n",
        "├── test\n",
        "├── train\n",
        "├── valid\n",
        "└── data.yaml\n",
        "```\n",
        "\n"
      ]
    },
    {
      "cell_type": "code",
      "execution_count": 4,
      "metadata": {
        "colab": {
          "base_uri": "https://localhost:8080/",
          "height": 683
        },
        "id": "94sw1oAZwdKm",
        "outputId": "cef16a1a-ac34-4ad6-88e9-4010475f2254"
      },
      "outputs": [
        {
          "output_type": "display_data",
          "data": {
            "text/plain": [
              "<Figure size 1000x600 with 1 Axes>"
            ],
            "image/png": "[encoded data removed]"
          },
          "metadata": {}
        },
        {
          "output_type": "stream",
          "name": "stdout",
          "text": [
            "        train  valid  test\n",
            "Gala      144     14     8\n",
            "Golden    141     14     8\n",
            "Granny    162     16     8\n",
            "Red       164     18     6\n"
          ]
        }
      ],
      "source": [
        "class_balance_df = analyze_class_balance(r'/content/Manzanas-clases-1/data.yaml')\n",
        "plot_class_balance(class_balance_df)\n",
        "print(class_balance_df)"
      ]
    },
    {
      "cell_type": "markdown",
      "metadata": {
        "id": "eG6k4hYewdKm"
      },
      "source": [
        "# Instalación de Ultralytics"
      ]
    },
    {
      "cell_type": "code",
      "execution_count": 5,
      "metadata": {
        "colab": {
          "base_uri": "https://localhost:8080/"
        },
        "collapsed": true,
        "id": "whETnWXJwdKn",
        "outputId": "39580893-7d98-40c5-8bcc-0082cfde0f64"
      },
      "outputs": [
        {
          "output_type": "stream",
          "name": "stdout",
          "text": [
            "Collecting ultralytics\n",
            "  Downloading ultralytics-8.2.69-py3-none-any.whl.metadata (41 kB)\n",
            "\u001b[?25l     \u001b[90m━━━━━━━━━━━━━━━━━━━━━━━━━━━━━━━━━━━━━━━━\u001b[0m \u001b[32m0.0/41.3 kB\u001b[0m \u001b[31m?\u001b[0m eta \u001b[36m-:--:--\u001b[0m\r\u001b[2K     \u001b[90m━━━━━━━━━━━━━━━━━━━━━━━━━━━━━━━━━━━━━━━━\u001b[0m \u001b[32m41.3/41.3 kB\u001b[0m \u001b[31m3.7 MB/s\u001b[0m eta \u001b[36m0:00:00\u001b[0m\n",
            "\u001b[?25hRequirement already satisfied: numpy<2.0.0,>=1.23.0 in /usr/local/lib/python3.10/dist-packages (from ultralytics) (1.26.4)\n",
            "Requirement already satisfied: matplotlib>=3.3.0 in /usr/local/lib/python3.10/dist-packages (from ultralytics) (3.7.1)\n",
            "Requirement already satisfied: opencv-python>=4.6.0 in /usr/local/lib/python3.10/dist-packages (from ultralytics) (4.10.0.84)\n",
            "Requirement already satisfied: pillow>=7.1.2 in /usr/local/lib/python3.10/dist-packages (from ultralytics) (9.4.0)\n",
            "Requirement already satisfied: pyyaml>=5.3.1 in /usr/local/lib/python3.10/dist-packages (from ultralytics) (6.0.1)\n",
            "Requirement already satisfied: requests>=2.23.0 in /usr/local/lib/python3.10/dist-packages (from ultralytics) (2.31.0)\n",
            "Requirement already satisfied: scipy>=1.4.1 in /usr/local/lib/python3.10/dist-packages (from ultralytics) (1.13.1)\n",
            "Requirement already satisfied: torch>=1.8.0 in /usr/local/lib/python3.10/dist-packages (from ultralytics) (2.3.1+cu121)\n",
            "Requirement already satisfied: torchvision>=0.9.0 in /usr/local/lib/python3.10/dist-packages (from ultralytics) (0.18.1+cu121)\n",
            "Requirement already satisfied: tqdm>=4.64.0 in /usr/local/lib/python3.10/dist-packages (from ultralytics) (4.66.4)\n",
            "Requirement already satisfied: psutil in /usr/local/lib/python3.10/dist-packages (from ultralytics) (5.9.5)\n",
            "Requirement already satisfied: py-cpuinfo in /usr/local/lib/python3.10/dist-packages (from ultralytics) (9.0.0)\n",
            "Requirement already satisfied: pandas>=1.1.4 in /usr/local/lib/python3.10/dist-packages (from ultralytics) (2.1.4)\n",
            "Requirement already satisfied: seaborn>=0.11.0 in /usr/local/lib/python3.10/dist-packages (from ultralytics) (0.13.1)\n",
            "Collecting ultralytics-thop>=2.0.0 (from ultralytics)\n",
            "  Downloading ultralytics_thop-2.0.0-py3-none-any.whl.metadata (8.5 kB)\n",
            "Requirement already satisfied: contourpy>=1.0.1 in /usr/local/lib/python3.10/dist-packages (from matplotlib>=3.3.0->ultralytics) (1.2.1)\n",
            "Requirement already satisfied: cycler>=0.10 in /usr/local/lib/python3.10/dist-packages (from matplotlib>=3.3.0->ultralytics) (0.12.1)\n",
            "Requirement already satisfied: fonttools>=4.22.0 in /usr/local/lib/python3.10/dist-packages (from matplotlib>=3.3.0->ultralytics) (4.53.1)\n",
            "Requirement already satisfied: kiwisolver>=1.0.1 in /usr/local/lib/python3.10/dist-packages (from matplotlib>=3.3.0->ultralytics) (1.4.5)\n",
            "Requirement already satisfied: packaging>=20.0 in /usr/local/lib/python3.10/dist-packages (from matplotlib>=3.3.0->ultralytics) (24.1)\n",
            "Requirement already satisfied: pyparsing>=2.3.1 in /usr/local/lib/python3.10/dist-packages (from matplotlib>=3.3.0->ultralytics) (3.1.2)\n",
            "Requirement already satisfied: python-dateutil>=2.7 in /usr/local/lib/python3.10/dist-packages (from matplotlib>=3.3.0->ultralytics) (2.8.2)\n",
            "Requirement already satisfied: pytz>=2020.1 in /usr/local/lib/python3.10/dist-packages (from pandas>=1.1.4->ultralytics) (2024.1)\n",
            "Requirement already satisfied: tzdata>=2022.1 in /usr/local/lib/python3.10/dist-packages (from pandas>=1.1.4->ultralytics) (2024.1)\n",
            "Requirement already satisfied: charset-normalizer<4,>=2 in /usr/local/lib/python3.10/dist-packages (from requests>=2.23.0->ultralytics) (3.3.2)\n",
            "Requirement already satisfied: idna<4,>=2.5 in /usr/local/lib/python3.10/dist-packages (from requests>=2.23.0->ultralytics) (3.7)\n",
            "Requirement already satisfied: urllib3<3,>=1.21.1 in /usr/local/lib/python3.10/dist-packages (from requests>=2.23.0->ultralytics) (2.0.7)\n",
            "Requirement already satisfied: certifi>=2017.4.17 in /usr/local/lib/python3.10/dist-packages (from requests>=2.23.0->ultralytics) (2024.7.4)\n",
            "Requirement already satisfied: filelock in /usr/local/lib/python3.10/dist-packages (from torch>=1.8.0->ultralytics) (3.15.4)\n",
            "Requirement already satisfied: typing-extensions>=4.8.0 in /usr/local/lib/python3.10/dist-packages (from torch>=1.8.0->ultralytics) (4.12.2)\n",
            "Requirement already satisfied: sympy in /usr/local/lib/python3.10/dist-packages (from torch>=1.8.0->ultralytics) (1.13.1)\n",
            "Requirement already satisfied: networkx in /usr/local/lib/python3.10/dist-packages (from torch>=1.8.0->ultralytics) (3.3)\n",
            "Requirement already satisfied: jinja2 in /usr/local/lib/python3.10/dist-packages (from torch>=1.8.0->ultralytics) (3.1.4)\n",
            "Requirement already satisfied: fsspec in /usr/local/lib/python3.10/dist-packages (from torch>=1.8.0->ultralytics) (2024.6.1)\n",
            "Collecting nvidia-cuda-nvrtc-cu12==12.1.105 (from torch>=1.8.0->ultralytics)\n",
            "  Using cached nvidia_cuda_nvrtc_cu12-12.1.105-py3-none-manylinux1_x86_64.whl.metadata (1.5 kB)\n",
            "Collecting nvidia-cuda-runtime-cu12==12.1.105 (from torch>=1.8.0->ultralytics)\n",
            "  Using cached nvidia_cuda_runtime_cu12-12.1.105-py3-none-manylinux1_x86_64.whl.metadata (1.5 kB)\n",
            "Collecting nvidia-cuda-cupti-cu12==12.1.105 (from torch>=1.8.0->ultralytics)\n",
            "  Using cached nvidia_cuda_cupti_cu12-12.1.105-py3-none-manylinux1_x86_64.whl.metadata (1.6 kB)\n",
            "Collecting nvidia-cudnn-cu12==8.9.2.26 (from torch>=1.8.0->ultralytics)\n",
            "  Using cached nvidia_cudnn_cu12-8.9.2.26-py3-none-manylinux1_x86_64.whl.metadata (1.6 kB)\n",
            "Collecting nvidia-cublas-cu12==12.1.3.1 (from torch>=1.8.0->ultralytics)\n",
            "  Using cached nvidia_cublas_cu12-12.1.3.1-py3-none-manylinux1_x86_64.whl.metadata (1.5 kB)\n",
            "Collecting nvidia-cufft-cu12==11.0.2.54 (from torch>=1.8.0->ultralytics)\n",
            "  Using cached nvidia_cufft_cu12-11.0.2.54-py3-none-manylinux1_x86_64.whl.metadata (1.5 kB)\n",
            "Collecting nvidia-curand-cu12==10.3.2.106 (from torch>=1.8.0->ultralytics)\n",
            "  Using cached nvidia_curand_cu12-10.3.2.106-py3-none-manylinux1_x86_64.whl.metadata (1.5 kB)\n",
            "Collecting nvidia-cusolver-cu12==11.4.5.107 (from torch>=1.8.0->ultralytics)\n",
            "  Using cached nvidia_cusolver_cu12-11.4.5.107-py3-none-manylinux1_x86_64.whl.metadata (1.6 kB)\n",
            "Collecting nvidia-cusparse-cu12==12.1.0.106 (from torch>=1.8.0->ultralytics)\n",
            "  Using cached nvidia_cusparse_cu12-12.1.0.106-py3-none-manylinux1_x86_64.whl.metadata (1.6 kB)\n",
            "Collecting nvidia-nccl-cu12==2.20.5 (from torch>=1.8.0->ultralytics)\n",
            "  Using cached nvidia_nccl_cu12-2.20.5-py3-none-manylinux2014_x86_64.whl.metadata (1.8 kB)\n",
            "Collecting nvidia-nvtx-cu12==12.1.105 (from torch>=1.8.0->ultralytics)\n",
            "  Using cached nvidia_nvtx_cu12-12.1.105-py3-none-manylinux1_x86_64.whl.metadata (1.7 kB)\n",
            "Requirement already satisfied: triton==2.3.1 in /usr/local/lib/python3.10/dist-packages (from torch>=1.8.0->ultralytics) (2.3.1)\n",
            "Collecting nvidia-nvjitlink-cu12 (from nvidia-cusolver-cu12==11.4.5.107->torch>=1.8.0->ultralytics)\n",
            "  Downloading nvidia_nvjitlink_cu12-12.5.82-py3-none-manylinux2014_x86_64.whl.metadata (1.5 kB)\n",
            "Requirement already satisfied: six>=1.5 in /usr/local/lib/python3.10/dist-packages (from python-dateutil>=2.7->matplotlib>=3.3.0->ultralytics) (1.16.0)\n",
            "Requirement already satisfied: MarkupSafe>=2.0 in /usr/local/lib/python3.10/dist-packages (from jinja2->torch>=1.8.0->ultralytics) (2.1.5)\n",
            "Requirement already satisfied: mpmath<1.4,>=1.1.0 in /usr/local/lib/python3.10/dist-packages (from sympy->torch>=1.8.0->ultralytics) (1.3.0)\n",
            "Downloading ultralytics-8.2.69-py3-none-any.whl (825 kB)\n",
            "\u001b[2K   \u001b[90m━━━━━━━━━━━━━━━━━━━━━━━━━━━━━━━━━━━━━━━━\u001b[0m \u001b[32m825.4/825.4 kB\u001b[0m \u001b[31m55.7 MB/s\u001b[0m eta \u001b[36m0:00:00\u001b[0m\n",
            "\u001b[?25hUsing cached nvidia_cublas_cu12-12.1.3.1-py3-none-manylinux1_x86_64.whl (410.6 MB)\n",
            "Using cached nvidia_cuda_cupti_cu12-12.1.105-py3-none-manylinux1_x86_64.whl (14.1 MB)\n",
            "Using cached nvidia_cuda_nvrtc_cu12-12.1.105-py3-none-manylinux1_x86_64.whl (23.7 MB)\n",
            "Using cached nvidia_cuda_runtime_cu12-12.1.105-py3-none-manylinux1_x86_64.whl (823 kB)\n",
            "Using cached nvidia_cudnn_cu12-8.9.2.26-py3-none-manylinux1_x86_64.whl (731.7 MB)\n",
            "Using cached nvidia_cufft_cu12-11.0.2.54-py3-none-manylinux1_x86_64.whl (121.6 MB)\n",
            "Using cached nvidia_curand_cu12-10.3.2.106-py3-none-manylinux1_x86_64.whl (56.5 MB)\n",
            "Using cached nvidia_cusolver_cu12-11.4.5.107-py3-none-manylinux1_x86_64.whl (124.2 MB)\n",
            "Using cached nvidia_cusparse_cu12-12.1.0.106-py3-none-manylinux1_x86_64.whl (196.0 MB)\n",
            "Using cached nvidia_nccl_cu12-2.20.5-py3-none-manylinux2014_x86_64.whl (176.2 MB)\n",
            "Using cached nvidia_nvtx_cu12-12.1.105-py3-none-manylinux1_x86_64.whl (99 kB)\n",
            "Downloading ultralytics_thop-2.0.0-py3-none-any.whl (25 kB)\n",
            "Downloading nvidia_nvjitlink_cu12-12.5.82-py3-none-manylinux2014_x86_64.whl (21.3 MB)\n",
            "\u001b[2K   \u001b[90m━━━━━━━━━━━━━━━━━━━━━━━━━━━━━━━━━━━━━━━━\u001b[0m \u001b[32m21.3/21.3 MB\u001b[0m \u001b[31m78.2 MB/s\u001b[0m eta \u001b[36m0:00:00\u001b[0m\n",
            "\u001b[?25hInstalling collected packages: nvidia-nvtx-cu12, nvidia-nvjitlink-cu12, nvidia-nccl-cu12, nvidia-curand-cu12, nvidia-cufft-cu12, nvidia-cuda-runtime-cu12, nvidia-cuda-nvrtc-cu12, nvidia-cuda-cupti-cu12, nvidia-cublas-cu12, nvidia-cusparse-cu12, nvidia-cudnn-cu12, nvidia-cusolver-cu12, ultralytics-thop, ultralytics\n",
            "Successfully installed nvidia-cublas-cu12-12.1.3.1 nvidia-cuda-cupti-cu12-12.1.105 nvidia-cuda-nvrtc-cu12-12.1.105 nvidia-cuda-runtime-cu12-12.1.105 nvidia-cudnn-cu12-8.9.2.26 nvidia-cufft-cu12-11.0.2.54 nvidia-curand-cu12-10.3.2.106 nvidia-cusolver-cu12-11.4.5.107 nvidia-cusparse-cu12-12.1.0.106 nvidia-nccl-cu12-2.20.5 nvidia-nvjitlink-cu12-12.5.82 nvidia-nvtx-cu12-12.1.105 ultralytics-8.2.69 ultralytics-thop-2.0.0\n"
          ]
        }
      ],
      "source": [
        "%pip install ultralytics"
      ]
    },
    {
      "cell_type": "code",
      "execution_count": 6,
      "metadata": {
        "colab": {
          "base_uri": "https://localhost:8080/"
        },
        "id": "TYNyR8X5wdKn",
        "outputId": "e8f14c9e-81f7-4f4f-baa0-cbddd1260cc6"
      },
      "outputs": [
        {
          "output_type": "stream",
          "name": "stdout",
          "text": [
            "Archivo data.yaml creado exitosamente.\n"
          ]
        }
      ],
      "source": [
        "import yaml\n",
        "\n",
        "# Definir el contenido del archivo YAML\n",
        "data = {\n",
        "    'names': ['Gala', 'Golden', 'Granny','Red'],\n",
        "    'nc': 4,\n",
        "    'test': '/content/Manzanas-clases-1/test',\n",
        "    'train': '/content/Manzanas-clases-1/train',\n",
        "    'val': '/content/Manzanas-clases-1/valid'\n",
        "}\n",
        "\n",
        "path = r'/content/Manzanas-clases-1/data.yaml'\n",
        "\n",
        "# Escribir el contenido en un archivo YAML\n",
        "with open(path , 'w') as file:\n",
        "    yaml.dump(data, file, default_flow_style=False)\n",
        "\n",
        "print(\"Archivo data.yaml creado exitosamente.\")\n"
      ]
    },
    {
      "cell_type": "markdown",
      "metadata": {
        "id": "EGTprVl5wdKo"
      },
      "source": [
        "Descripción de la Arquitectura: https://docs.ultralytics.com/yolov5/tutorials/architecture_description/"
      ]
    },
    {
      "cell_type": "code",
      "execution_count": null,
      "metadata": {
        "id": "C5-wAs81wdKo"
      },
      "outputs": [],
      "source": [
        "remove_directory_if_exists(r'D:\\Diplomado-IA\\Modulo_5_extendido\\Proyecto_1\\runs')"
      ]
    },
    {
      "cell_type": "code",
      "execution_count": 7,
      "metadata": {
        "colab": {
          "base_uri": "https://localhost:8080/"
        },
        "id": "XgR1dsShwdKp",
        "outputId": "53a829b3-6096-44d2-f6ea-a60feb9bac44"
      },
      "outputs": [
        {
          "output_type": "stream",
          "name": "stdout",
          "text": [
            "Downloading https://github.com/ultralytics/assets/releases/download/v8.2.0/yolov5nu.pt to 'yolov5nu.pt'...\n"
          ]
        },
        {
          "output_type": "stream",
          "name": "stderr",
          "text": [
            "100%|██████████| 5.31M/5.31M [00:00<00:00, 334MB/s]\n"
          ]
        },
        {
          "output_type": "stream",
          "name": "stdout",
          "text": [
            "Ultralytics YOLOv8.2.69 🚀 Python-3.10.12 torch-2.3.1+cu121 CUDA:0 (NVIDIA L4, 22700MiB)\n",
            "\u001b[34m\u001b[1mengine/trainer: \u001b[0mtask=detect, mode=train, model=yolov5nu.pt, data=/content/Manzanas-clases-1/data.yaml, epochs=50, time=None, patience=100, batch=16, imgsz=640, save=True, save_period=-1, cache=False, device=None, workers=8, project=None, name=exp-YOLOV5N, exist_ok=False, pretrained=True, optimizer=auto, verbose=True, seed=0, deterministic=True, single_cls=False, rect=False, cos_lr=False, close_mosaic=10, resume=False, amp=True, fraction=1.0, profile=False, freeze=None, multi_scale=False, overlap_mask=True, mask_ratio=4, dropout=0.0, val=True, split=val, save_json=False, save_hybrid=False, conf=None, iou=0.7, max_det=300, half=False, dnn=False, plots=True, source=None, vid_stride=1, stream_buffer=False, visualize=False, augment=False, agnostic_nms=False, classes=None, retina_masks=False, embed=None, show=False, save_frames=False, save_txt=False, save_conf=False, save_crop=False, show_labels=True, show_conf=True, show_boxes=True, line_width=None, format=torchscript, keras=False, optimize=False, int8=False, dynamic=False, simplify=False, opset=None, workspace=4, nms=False, lr0=0.01, lrf=0.01, momentum=0.937, weight_decay=0.0005, warmup_epochs=3.0, warmup_momentum=0.8, warmup_bias_lr=0.1, box=7.5, cls=0.5, dfl=1.5, pose=12.0, kobj=1.0, label_smoothing=0.0, nbs=64, hsv_h=0.015, hsv_s=0.7, hsv_v=0.4, degrees=0.0, translate=0.1, scale=0.5, shear=0.0, perspective=0.0, flipud=0.0, fliplr=0.5, bgr=0.0, mosaic=1.0, mixup=0.0, copy_paste=0.0, auto_augment=randaugment, erasing=0.4, crop_fraction=1.0, cfg=None, tracker=botsort.yaml, save_dir=runs/detect/exp-YOLOV5N\n",
            "Downloading https://ultralytics.com/assets/Arial.ttf to '/root/.config/Ultralytics/Arial.ttf'...\n"
          ]
        },
        {
          "output_type": "stream",
          "name": "stderr",
          "text": [
            "100%|██████████| 755k/755k [00:00<00:00, 117MB/s]\n"
          ]
        },
        {
          "output_type": "stream",
          "name": "stdout",
          "text": [
            "Overriding model.yaml nc=80 with nc=4\n",
            "\n",
            "                   from  n    params  module                                       arguments                     \n",
            "  0                  -1  1      1760  ultralytics.nn.modules.conv.Conv             [3, 16, 6, 2, 2]              \n",
            "  1                  -1  1      4672  ultralytics.nn.modules.conv.Conv             [16, 32, 3, 2]                \n",
            "  2                  -1  1      4800  ultralytics.nn.modules.block.C3              [32, 32, 1]                   \n",
            "  3                  -1  1     18560  ultralytics.nn.modules.conv.Conv             [32, 64, 3, 2]                \n",
            "  4                  -1  2     29184  ultralytics.nn.modules.block.C3              [64, 64, 2]                   \n",
            "  5                  -1  1     73984  ultralytics.nn.modules.conv.Conv             [64, 128, 3, 2]               \n",
            "  6                  -1  3    156928  ultralytics.nn.modules.block.C3              [128, 128, 3]                 \n",
            "  7                  -1  1    295424  ultralytics.nn.modules.conv.Conv             [128, 256, 3, 2]              \n",
            "  8                  -1  1    296448  ultralytics.nn.modules.block.C3              [256, 256, 1]                 \n",
            "  9                  -1  1    164608  ultralytics.nn.modules.block.SPPF            [256, 256, 5]                 \n",
            " 10                  -1  1     33024  ultralytics.nn.modules.conv.Conv             [256, 128, 1, 1]              \n",
            " 11                  -1  1         0  torch.nn.modules.upsampling.Upsample         [None, 2, 'nearest']          \n",
            " 12             [-1, 6]  1         0  ultralytics.nn.modules.conv.Concat           [1]                           \n",
            " 13                  -1  1     90880  ultralytics.nn.modules.block.C3              [256, 128, 1, False]          \n",
            " 14                  -1  1      8320  ultralytics.nn.modules.conv.Conv             [128, 64, 1, 1]               \n",
            " 15                  -1  1         0  torch.nn.modules.upsampling.Upsample         [None, 2, 'nearest']          \n",
            " 16             [-1, 4]  1         0  ultralytics.nn.modules.conv.Concat           [1]                           \n",
            " 17                  -1  1     22912  ultralytics.nn.modules.block.C3              [128, 64, 1, False]           \n",
            " 18                  -1  1     36992  ultralytics.nn.modules.conv.Conv             [64, 64, 3, 2]                \n",
            " 19            [-1, 14]  1         0  ultralytics.nn.modules.conv.Concat           [1]                           \n",
            " 20                  -1  1     74496  ultralytics.nn.modules.block.C3              [128, 128, 1, False]          \n",
            " 21                  -1  1    147712  ultralytics.nn.modules.conv.Conv             [128, 128, 3, 2]              \n",
            " 22            [-1, 10]  1         0  ultralytics.nn.modules.conv.Concat           [1]                           \n",
            " 23                  -1  1    296448  ultralytics.nn.modules.block.C3              [256, 256, 1, False]          \n",
            " 24        [17, 20, 23]  1    752092  ultralytics.nn.modules.head.Detect           [4, [64, 128, 256]]           \n",
            "YOLOv5n summary: 262 layers, 2,509,244 parameters, 2,509,228 gradients, 7.2 GFLOPs\n",
            "\n",
            "Transferred 391/427 items from pretrained weights\n",
            "\u001b[34m\u001b[1mTensorBoard: \u001b[0mStart with 'tensorboard --logdir runs/detect/exp-YOLOV5N', view at http://localhost:6006/\n",
            "Freezing layer 'model.24.dfl.conv.weight'\n",
            "\u001b[34m\u001b[1mAMP: \u001b[0mrunning Automatic Mixed Precision (AMP) checks with YOLOv8n...\n",
            "Downloading https://github.com/ultralytics/assets/releases/download/v8.2.0/yolov8n.pt to 'yolov8n.pt'...\n"
          ]
        },
        {
          "output_type": "stream",
          "name": "stderr",
          "text": [
            "100%|██████████| 6.25M/6.25M [00:00<00:00, 399MB/s]\n"
          ]
        },
        {
          "output_type": "stream",
          "name": "stdout",
          "text": [
            "\u001b[34m\u001b[1mAMP: \u001b[0mchecks passed ✅\n"
          ]
        },
        {
          "output_type": "stream",
          "name": "stderr",
          "text": [
            "\u001b[34m\u001b[1mtrain: \u001b[0mScanning /content/Manzanas-clases-1/train/labels... 684 images, 73 backgrounds, 0 corrupt: 100%|██████████| 684/684 [00:00<00:00, 1446.04it/s]"
          ]
        },
        {
          "output_type": "stream",
          "name": "stdout",
          "text": [
            "\u001b[34m\u001b[1mtrain: \u001b[0mNew cache created: /content/Manzanas-clases-1/train/labels.cache\n"
          ]
        },
        {
          "output_type": "stream",
          "name": "stderr",
          "text": [
            "\n"
          ]
        },
        {
          "output_type": "stream",
          "name": "stdout",
          "text": [
            "\u001b[34m\u001b[1malbumentations: \u001b[0mBlur(p=0.01, blur_limit=(3, 7)), MedianBlur(p=0.01, blur_limit=(3, 7)), ToGray(p=0.01), CLAHE(p=0.01, clip_limit=(1, 4.0), tile_grid_size=(8, 8))\n"
          ]
        },
        {
          "output_type": "stream",
          "name": "stderr",
          "text": [
            "os.fork() was called. os.fork() is incompatible with multithreaded code, and JAX is multithreaded, so this will likely lead to a deadlock.\n",
            "\u001b[34m\u001b[1mval: \u001b[0mScanning /content/Manzanas-clases-1/valid/labels... 68 images, 6 backgrounds, 0 corrupt: 100%|██████████| 68/68 [00:00<00:00, 1283.34it/s]"
          ]
        },
        {
          "output_type": "stream",
          "name": "stdout",
          "text": [
            "\u001b[34m\u001b[1mval: \u001b[0mNew cache created: /content/Manzanas-clases-1/valid/labels.cache\n"
          ]
        },
        {
          "output_type": "stream",
          "name": "stderr",
          "text": [
            "\n"
          ]
        },
        {
          "output_type": "stream",
          "name": "stdout",
          "text": [
            "Plotting labels to runs/detect/exp-YOLOV5N/labels.jpg... \n",
            "\u001b[34m\u001b[1moptimizer:\u001b[0m 'optimizer=auto' found, ignoring 'lr0=0.01' and 'momentum=0.937' and determining best 'optimizer', 'lr0' and 'momentum' automatically... \n",
            "\u001b[34m\u001b[1moptimizer:\u001b[0m AdamW(lr=0.00125, momentum=0.9) with parameter groups 69 weight(decay=0.0), 76 weight(decay=0.0005), 75 bias(decay=0.0)\n",
            "\u001b[34m\u001b[1mTensorBoard: \u001b[0mmodel graph visualization added ✅\n",
            "Image sizes 640 train, 640 val\n",
            "Using 8 dataloader workers\n",
            "Logging results to \u001b[1mruns/detect/exp-YOLOV5N\u001b[0m\n",
            "Starting training for 50 epochs...\n",
            "\n",
            "      Epoch    GPU_mem   box_loss   cls_loss   dfl_loss  Instances       Size\n"
          ]
        },
        {
          "output_type": "stream",
          "name": "stderr",
          "text": [
            "       1/50      2.16G      1.037      3.144       1.33         18        640: 100%|██████████| 43/43 [00:07<00:00,  6.07it/s]\n",
            "                 Class     Images  Instances      Box(P          R      mAP50  mAP50-95): 100%|██████████| 3/3 [00:01<00:00,  1.96it/s]"
          ]
        },
        {
          "output_type": "stream",
          "name": "stdout",
          "text": [
            "                   all         68         62      0.557      0.178      0.352       0.29\n"
          ]
        },
        {
          "output_type": "stream",
          "name": "stderr",
          "text": [
            "\n"
          ]
        },
        {
          "output_type": "stream",
          "name": "stdout",
          "text": [
            "\n",
            "      Epoch    GPU_mem   box_loss   cls_loss   dfl_loss  Instances       Size\n"
          ]
        },
        {
          "output_type": "stream",
          "name": "stderr",
          "text": [
            "       2/50      1.98G     0.9843      2.305      1.241         20        640: 100%|██████████| 43/43 [00:04<00:00,  9.36it/s]\n",
            "                 Class     Images  Instances      Box(P          R      mAP50  mAP50-95): 100%|██████████| 3/3 [00:00<00:00,  6.52it/s]\n"
          ]
        },
        {
          "output_type": "stream",
          "name": "stdout",
          "text": [
            "                   all         68         62      0.312      0.518      0.426      0.301\n",
            "\n",
            "      Epoch    GPU_mem   box_loss   cls_loss   dfl_loss  Instances       Size\n"
          ]
        },
        {
          "output_type": "stream",
          "name": "stderr",
          "text": [
            "       3/50      1.98G      1.002      2.111      1.257         15        640: 100%|██████████| 43/43 [00:04<00:00, 10.31it/s]\n",
            "                 Class     Images  Instances      Box(P          R      mAP50  mAP50-95): 100%|██████████| 3/3 [00:00<00:00,  8.39it/s]\n"
          ]
        },
        {
          "output_type": "stream",
          "name": "stdout",
          "text": [
            "                   all         68         62      0.488      0.538      0.548      0.414\n",
            "\n",
            "      Epoch    GPU_mem   box_loss   cls_loss   dfl_loss  Instances       Size\n"
          ]
        },
        {
          "output_type": "stream",
          "name": "stderr",
          "text": [
            "       4/50      1.98G     0.9642      1.746      1.235         18        640: 100%|██████████| 43/43 [00:04<00:00,  9.62it/s]\n",
            "                 Class     Images  Instances      Box(P          R      mAP50  mAP50-95): 100%|██████████| 3/3 [00:00<00:00,  7.59it/s]"
          ]
        },
        {
          "output_type": "stream",
          "name": "stdout",
          "text": [
            "                   all         68         62      0.831      0.403      0.568      0.449\n"
          ]
        },
        {
          "output_type": "stream",
          "name": "stderr",
          "text": [
            "\n"
          ]
        },
        {
          "output_type": "stream",
          "name": "stdout",
          "text": [
            "\n",
            "      Epoch    GPU_mem   box_loss   cls_loss   dfl_loss  Instances       Size\n"
          ]
        },
        {
          "output_type": "stream",
          "name": "stderr",
          "text": [
            "       5/50      1.98G      1.025      1.722      1.255         19        640: 100%|██████████| 43/43 [00:04<00:00,  9.15it/s]\n",
            "                 Class     Images  Instances      Box(P          R      mAP50  mAP50-95): 100%|██████████| 3/3 [00:00<00:00,  8.77it/s]\n"
          ]
        },
        {
          "output_type": "stream",
          "name": "stdout",
          "text": [
            "                   all         68         62      0.419      0.712      0.616      0.489\n",
            "\n",
            "      Epoch    GPU_mem   box_loss   cls_loss   dfl_loss  Instances       Size\n"
          ]
        },
        {
          "output_type": "stream",
          "name": "stderr",
          "text": [
            "       6/50      1.98G     0.9565      1.534      1.199         22        640: 100%|██████████| 43/43 [00:04<00:00, 10.42it/s]\n",
            "                 Class     Images  Instances      Box(P          R      mAP50  mAP50-95): 100%|██████████| 3/3 [00:00<00:00,  9.31it/s]"
          ]
        },
        {
          "output_type": "stream",
          "name": "stdout",
          "text": [
            "                   all         68         62      0.849      0.815      0.878      0.715\n"
          ]
        },
        {
          "output_type": "stream",
          "name": "stderr",
          "text": [
            "\n"
          ]
        },
        {
          "output_type": "stream",
          "name": "stdout",
          "text": [
            "\n",
            "      Epoch    GPU_mem   box_loss   cls_loss   dfl_loss  Instances       Size\n"
          ]
        },
        {
          "output_type": "stream",
          "name": "stderr",
          "text": [
            "       7/50      1.98G     0.9754      1.442      1.203         20        640: 100%|██████████| 43/43 [00:04<00:00, 10.49it/s]\n",
            "                 Class     Images  Instances      Box(P          R      mAP50  mAP50-95): 100%|██████████| 3/3 [00:00<00:00,  9.25it/s]"
          ]
        },
        {
          "output_type": "stream",
          "name": "stdout",
          "text": [
            "                   all         68         62      0.843      0.815      0.854      0.727\n"
          ]
        },
        {
          "output_type": "stream",
          "name": "stderr",
          "text": [
            "\n"
          ]
        },
        {
          "output_type": "stream",
          "name": "stdout",
          "text": [
            "\n",
            "      Epoch    GPU_mem   box_loss   cls_loss   dfl_loss  Instances       Size\n"
          ]
        },
        {
          "output_type": "stream",
          "name": "stderr",
          "text": [
            "       8/50      1.97G     0.9124      1.334      1.191         27        640: 100%|██████████| 43/43 [00:04<00:00,  9.73it/s]\n",
            "                 Class     Images  Instances      Box(P          R      mAP50  mAP50-95): 100%|██████████| 3/3 [00:00<00:00,  8.48it/s]"
          ]
        },
        {
          "output_type": "stream",
          "name": "stdout",
          "text": [
            "                   all         68         62      0.796       0.84      0.887      0.753\n"
          ]
        },
        {
          "output_type": "stream",
          "name": "stderr",
          "text": [
            "\n"
          ]
        },
        {
          "output_type": "stream",
          "name": "stdout",
          "text": [
            "\n",
            "      Epoch    GPU_mem   box_loss   cls_loss   dfl_loss  Instances       Size\n"
          ]
        },
        {
          "output_type": "stream",
          "name": "stderr",
          "text": [
            "       9/50      1.97G     0.8519      1.218       1.14         23        640: 100%|██████████| 43/43 [00:04<00:00, 10.19it/s]\n",
            "                 Class     Images  Instances      Box(P          R      mAP50  mAP50-95): 100%|██████████| 3/3 [00:00<00:00,  9.32it/s]"
          ]
        },
        {
          "output_type": "stream",
          "name": "stdout",
          "text": [
            "                   all         68         62      0.885      0.776       0.86      0.732\n"
          ]
        },
        {
          "output_type": "stream",
          "name": "stderr",
          "text": [
            "\n"
          ]
        },
        {
          "output_type": "stream",
          "name": "stdout",
          "text": [
            "\n",
            "      Epoch    GPU_mem   box_loss   cls_loss   dfl_loss  Instances       Size\n"
          ]
        },
        {
          "output_type": "stream",
          "name": "stderr",
          "text": [
            "      10/50      1.98G     0.8811      1.146      1.162         20        640: 100%|██████████| 43/43 [00:04<00:00, 10.27it/s]\n",
            "                 Class     Images  Instances      Box(P          R      mAP50  mAP50-95): 100%|██████████| 3/3 [00:00<00:00,  9.27it/s]"
          ]
        },
        {
          "output_type": "stream",
          "name": "stdout",
          "text": [
            "                   all         68         62      0.837      0.849      0.874      0.737\n"
          ]
        },
        {
          "output_type": "stream",
          "name": "stderr",
          "text": [
            "\n"
          ]
        },
        {
          "output_type": "stream",
          "name": "stdout",
          "text": [
            "\n",
            "      Epoch    GPU_mem   box_loss   cls_loss   dfl_loss  Instances       Size\n"
          ]
        },
        {
          "output_type": "stream",
          "name": "stderr",
          "text": [
            "      11/50      1.97G     0.8682      1.089      1.155         16        640: 100%|██████████| 43/43 [00:04<00:00,  9.83it/s]\n",
            "                 Class     Images  Instances      Box(P          R      mAP50  mAP50-95): 100%|██████████| 3/3 [00:00<00:00,  9.08it/s]"
          ]
        },
        {
          "output_type": "stream",
          "name": "stdout",
          "text": [
            "                   all         68         62      0.912      0.849      0.899      0.787\n"
          ]
        },
        {
          "output_type": "stream",
          "name": "stderr",
          "text": [
            "\n"
          ]
        },
        {
          "output_type": "stream",
          "name": "stdout",
          "text": [
            "\n",
            "      Epoch    GPU_mem   box_loss   cls_loss   dfl_loss  Instances       Size\n"
          ]
        },
        {
          "output_type": "stream",
          "name": "stderr",
          "text": [
            "      12/50      1.97G     0.8279      1.011      1.132         15        640: 100%|██████████| 43/43 [00:04<00:00, 10.04it/s]\n",
            "                 Class     Images  Instances      Box(P          R      mAP50  mAP50-95): 100%|██████████| 3/3 [00:00<00:00,  9.10it/s]"
          ]
        },
        {
          "output_type": "stream",
          "name": "stdout",
          "text": [
            "                   all         68         62       0.83      0.827      0.863      0.755\n"
          ]
        },
        {
          "output_type": "stream",
          "name": "stderr",
          "text": [
            "\n"
          ]
        },
        {
          "output_type": "stream",
          "name": "stdout",
          "text": [
            "\n",
            "      Epoch    GPU_mem   box_loss   cls_loss   dfl_loss  Instances       Size\n"
          ]
        },
        {
          "output_type": "stream",
          "name": "stderr",
          "text": [
            "      13/50      1.97G     0.8082     0.9528      1.115         20        640: 100%|██████████| 43/43 [00:04<00:00, 10.28it/s]\n",
            "                 Class     Images  Instances      Box(P          R      mAP50  mAP50-95): 100%|██████████| 3/3 [00:00<00:00,  9.72it/s]"
          ]
        },
        {
          "output_type": "stream",
          "name": "stdout",
          "text": [
            "                   all         68         62       0.91      0.853      0.881      0.786\n"
          ]
        },
        {
          "output_type": "stream",
          "name": "stderr",
          "text": [
            "\n"
          ]
        },
        {
          "output_type": "stream",
          "name": "stdout",
          "text": [
            "\n",
            "      Epoch    GPU_mem   box_loss   cls_loss   dfl_loss  Instances       Size\n"
          ]
        },
        {
          "output_type": "stream",
          "name": "stderr",
          "text": [
            "      14/50      1.98G      0.833     0.9538       1.12         17        640: 100%|██████████| 43/43 [00:04<00:00,  9.81it/s]\n",
            "                 Class     Images  Instances      Box(P          R      mAP50  mAP50-95): 100%|██████████| 3/3 [00:00<00:00,  8.96it/s]"
          ]
        },
        {
          "output_type": "stream",
          "name": "stdout",
          "text": [
            "                   all         68         62      0.942      0.784      0.892      0.749\n"
          ]
        },
        {
          "output_type": "stream",
          "name": "stderr",
          "text": [
            "\n"
          ]
        },
        {
          "output_type": "stream",
          "name": "stdout",
          "text": [
            "\n",
            "      Epoch    GPU_mem   box_loss   cls_loss   dfl_loss  Instances       Size\n"
          ]
        },
        {
          "output_type": "stream",
          "name": "stderr",
          "text": [
            "      15/50      1.97G     0.8301       0.92      1.116         18        640: 100%|██████████| 43/43 [00:04<00:00,  9.79it/s]\n",
            "                 Class     Images  Instances      Box(P          R      mAP50  mAP50-95): 100%|██████████| 3/3 [00:00<00:00,  9.68it/s]"
          ]
        },
        {
          "output_type": "stream",
          "name": "stdout",
          "text": [
            "                   all         68         62       0.94      0.863      0.911      0.771\n"
          ]
        },
        {
          "output_type": "stream",
          "name": "stderr",
          "text": [
            "\n"
          ]
        },
        {
          "output_type": "stream",
          "name": "stdout",
          "text": [
            "\n",
            "      Epoch    GPU_mem   box_loss   cls_loss   dfl_loss  Instances       Size\n"
          ]
        },
        {
          "output_type": "stream",
          "name": "stderr",
          "text": [
            "      16/50      1.97G     0.7982     0.8972      1.103         22        640: 100%|██████████| 43/43 [00:04<00:00, 10.26it/s]\n",
            "                 Class     Images  Instances      Box(P          R      mAP50  mAP50-95): 100%|██████████| 3/3 [00:00<00:00,  9.46it/s]"
          ]
        },
        {
          "output_type": "stream",
          "name": "stdout",
          "text": [
            "                   all         68         62      0.901      0.864      0.914      0.801\n"
          ]
        },
        {
          "output_type": "stream",
          "name": "stderr",
          "text": [
            "\n"
          ]
        },
        {
          "output_type": "stream",
          "name": "stdout",
          "text": [
            "\n",
            "      Epoch    GPU_mem   box_loss   cls_loss   dfl_loss  Instances       Size\n"
          ]
        },
        {
          "output_type": "stream",
          "name": "stderr",
          "text": [
            "      17/50      1.97G     0.7586     0.8326      1.079         22        640: 100%|██████████| 43/43 [00:04<00:00, 10.14it/s]\n",
            "                 Class     Images  Instances      Box(P          R      mAP50  mAP50-95): 100%|██████████| 3/3 [00:00<00:00,  9.67it/s]"
          ]
        },
        {
          "output_type": "stream",
          "name": "stdout",
          "text": [
            "                   all         68         62      0.911      0.831      0.879       0.79\n"
          ]
        },
        {
          "output_type": "stream",
          "name": "stderr",
          "text": [
            "\n"
          ]
        },
        {
          "output_type": "stream",
          "name": "stdout",
          "text": [
            "\n",
            "      Epoch    GPU_mem   box_loss   cls_loss   dfl_loss  Instances       Size\n"
          ]
        },
        {
          "output_type": "stream",
          "name": "stderr",
          "text": [
            "      18/50      1.98G     0.7781     0.8507      1.085         19        640: 100%|██████████| 43/43 [00:04<00:00,  9.67it/s]\n",
            "                 Class     Images  Instances      Box(P          R      mAP50  mAP50-95): 100%|██████████| 3/3 [00:00<00:00,  9.59it/s]"
          ]
        },
        {
          "output_type": "stream",
          "name": "stdout",
          "text": [
            "                   all         68         62      0.902      0.866       0.88      0.804\n"
          ]
        },
        {
          "output_type": "stream",
          "name": "stderr",
          "text": [
            "\n"
          ]
        },
        {
          "output_type": "stream",
          "name": "stdout",
          "text": [
            "\n",
            "      Epoch    GPU_mem   box_loss   cls_loss   dfl_loss  Instances       Size\n"
          ]
        },
        {
          "output_type": "stream",
          "name": "stderr",
          "text": [
            "      19/50      1.97G     0.7701     0.7831      1.084         23        640: 100%|██████████| 43/43 [00:04<00:00, 10.29it/s]\n",
            "                 Class     Images  Instances      Box(P          R      mAP50  mAP50-95): 100%|██████████| 3/3 [00:00<00:00,  9.21it/s]"
          ]
        },
        {
          "output_type": "stream",
          "name": "stdout",
          "text": [
            "                   all         68         62      0.892      0.833      0.843      0.711\n"
          ]
        },
        {
          "output_type": "stream",
          "name": "stderr",
          "text": [
            "\n"
          ]
        },
        {
          "output_type": "stream",
          "name": "stdout",
          "text": [
            "\n",
            "      Epoch    GPU_mem   box_loss   cls_loss   dfl_loss  Instances       Size\n"
          ]
        },
        {
          "output_type": "stream",
          "name": "stderr",
          "text": [
            "      20/50      1.97G     0.7614     0.8105      1.089         23        640: 100%|██████████| 43/43 [00:04<00:00, 10.49it/s]\n",
            "                 Class     Images  Instances      Box(P          R      mAP50  mAP50-95): 100%|██████████| 3/3 [00:00<00:00,  9.67it/s]"
          ]
        },
        {
          "output_type": "stream",
          "name": "stdout",
          "text": [
            "                   all         68         62      0.943      0.879      0.901      0.768\n"
          ]
        },
        {
          "output_type": "stream",
          "name": "stderr",
          "text": [
            "\n"
          ]
        },
        {
          "output_type": "stream",
          "name": "stdout",
          "text": [
            "\n",
            "      Epoch    GPU_mem   box_loss   cls_loss   dfl_loss  Instances       Size\n"
          ]
        },
        {
          "output_type": "stream",
          "name": "stderr",
          "text": [
            "      21/50      1.97G      0.761      0.801      1.083         21        640: 100%|██████████| 43/43 [00:04<00:00,  9.67it/s]\n",
            "                 Class     Images  Instances      Box(P          R      mAP50  mAP50-95): 100%|██████████| 3/3 [00:00<00:00,  9.07it/s]"
          ]
        },
        {
          "output_type": "stream",
          "name": "stdout",
          "text": [
            "                   all         68         62      0.969      0.871      0.907      0.799\n"
          ]
        },
        {
          "output_type": "stream",
          "name": "stderr",
          "text": [
            "\n"
          ]
        },
        {
          "output_type": "stream",
          "name": "stdout",
          "text": [
            "\n",
            "      Epoch    GPU_mem   box_loss   cls_loss   dfl_loss  Instances       Size\n"
          ]
        },
        {
          "output_type": "stream",
          "name": "stderr",
          "text": [
            "      22/50      1.98G      0.728     0.7366      1.076         23        640: 100%|██████████| 43/43 [00:04<00:00, 10.27it/s]\n",
            "                 Class     Images  Instances      Box(P          R      mAP50  mAP50-95): 100%|██████████| 3/3 [00:00<00:00,  9.83it/s]"
          ]
        },
        {
          "output_type": "stream",
          "name": "stdout",
          "text": [
            "                   all         68         62      0.962      0.852      0.904      0.804\n"
          ]
        },
        {
          "output_type": "stream",
          "name": "stderr",
          "text": [
            "\n"
          ]
        },
        {
          "output_type": "stream",
          "name": "stdout",
          "text": [
            "\n",
            "      Epoch    GPU_mem   box_loss   cls_loss   dfl_loss  Instances       Size\n"
          ]
        },
        {
          "output_type": "stream",
          "name": "stderr",
          "text": [
            "      23/50      1.97G      0.683     0.7078      1.061         32        640: 100%|██████████| 43/43 [00:04<00:00, 10.40it/s]\n",
            "                 Class     Images  Instances      Box(P          R      mAP50  mAP50-95): 100%|██████████| 3/3 [00:00<00:00,  9.33it/s]"
          ]
        },
        {
          "output_type": "stream",
          "name": "stdout",
          "text": [
            "                   all         68         62      0.951      0.917      0.921      0.847\n"
          ]
        },
        {
          "output_type": "stream",
          "name": "stderr",
          "text": [
            "\n"
          ]
        },
        {
          "output_type": "stream",
          "name": "stdout",
          "text": [
            "\n",
            "      Epoch    GPU_mem   box_loss   cls_loss   dfl_loss  Instances       Size\n"
          ]
        },
        {
          "output_type": "stream",
          "name": "stderr",
          "text": [
            "      24/50      1.97G     0.7092     0.7063      1.054         17        640: 100%|██████████| 43/43 [00:04<00:00,  9.67it/s]\n",
            "                 Class     Images  Instances      Box(P          R      mAP50  mAP50-95): 100%|██████████| 3/3 [00:00<00:00,  9.44it/s]"
          ]
        },
        {
          "output_type": "stream",
          "name": "stdout",
          "text": [
            "                   all         68         62      0.973      0.906      0.918      0.835\n"
          ]
        },
        {
          "output_type": "stream",
          "name": "stderr",
          "text": [
            "\n"
          ]
        },
        {
          "output_type": "stream",
          "name": "stdout",
          "text": [
            "\n",
            "      Epoch    GPU_mem   box_loss   cls_loss   dfl_loss  Instances       Size\n"
          ]
        },
        {
          "output_type": "stream",
          "name": "stderr",
          "text": [
            "      25/50      1.97G     0.6913     0.6912      1.046         22        640: 100%|██████████| 43/43 [00:04<00:00,  9.96it/s]\n",
            "                 Class     Images  Instances      Box(P          R      mAP50  mAP50-95): 100%|██████████| 3/3 [00:00<00:00,  9.71it/s]"
          ]
        },
        {
          "output_type": "stream",
          "name": "stdout",
          "text": [
            "                   all         68         62       0.88       0.81      0.889      0.771\n"
          ]
        },
        {
          "output_type": "stream",
          "name": "stderr",
          "text": [
            "\n"
          ]
        },
        {
          "output_type": "stream",
          "name": "stdout",
          "text": [
            "\n",
            "      Epoch    GPU_mem   box_loss   cls_loss   dfl_loss  Instances       Size\n"
          ]
        },
        {
          "output_type": "stream",
          "name": "stderr",
          "text": [
            "      26/50      1.98G     0.7149     0.7025      1.066         23        640: 100%|██████████| 43/43 [00:04<00:00, 10.23it/s]\n",
            "                 Class     Images  Instances      Box(P          R      mAP50  mAP50-95): 100%|██████████| 3/3 [00:00<00:00, 10.03it/s]"
          ]
        },
        {
          "output_type": "stream",
          "name": "stdout",
          "text": [
            "                   all         68         62      0.939      0.907      0.911      0.814\n"
          ]
        },
        {
          "output_type": "stream",
          "name": "stderr",
          "text": [
            "\n"
          ]
        },
        {
          "output_type": "stream",
          "name": "stdout",
          "text": [
            "\n",
            "      Epoch    GPU_mem   box_loss   cls_loss   dfl_loss  Instances       Size\n"
          ]
        },
        {
          "output_type": "stream",
          "name": "stderr",
          "text": [
            "      27/50      1.97G      0.714     0.6719      1.051         20        640: 100%|██████████| 43/43 [00:04<00:00,  9.83it/s]\n",
            "                 Class     Images  Instances      Box(P          R      mAP50  mAP50-95): 100%|██████████| 3/3 [00:00<00:00,  8.83it/s]"
          ]
        },
        {
          "output_type": "stream",
          "name": "stdout",
          "text": [
            "                   all         68         62      0.895      0.909      0.909      0.834\n"
          ]
        },
        {
          "output_type": "stream",
          "name": "stderr",
          "text": [
            "\n"
          ]
        },
        {
          "output_type": "stream",
          "name": "stdout",
          "text": [
            "\n",
            "      Epoch    GPU_mem   box_loss   cls_loss   dfl_loss  Instances       Size\n"
          ]
        },
        {
          "output_type": "stream",
          "name": "stderr",
          "text": [
            "      28/50      1.97G     0.6894     0.6548      1.045         20        640: 100%|██████████| 43/43 [00:04<00:00,  9.80it/s]\n",
            "                 Class     Images  Instances      Box(P          R      mAP50  mAP50-95): 100%|██████████| 3/3 [00:00<00:00,  9.52it/s]"
          ]
        },
        {
          "output_type": "stream",
          "name": "stdout",
          "text": [
            "                   all         68         62      0.954      0.895      0.921      0.839\n"
          ]
        },
        {
          "output_type": "stream",
          "name": "stderr",
          "text": [
            "\n"
          ]
        },
        {
          "output_type": "stream",
          "name": "stdout",
          "text": [
            "\n",
            "      Epoch    GPU_mem   box_loss   cls_loss   dfl_loss  Instances       Size\n"
          ]
        },
        {
          "output_type": "stream",
          "name": "stderr",
          "text": [
            "      29/50      1.97G     0.6669      0.612      1.025         17        640: 100%|██████████| 43/43 [00:04<00:00, 10.25it/s]\n",
            "                 Class     Images  Instances      Box(P          R      mAP50  mAP50-95): 100%|██████████| 3/3 [00:00<00:00,  9.43it/s]"
          ]
        },
        {
          "output_type": "stream",
          "name": "stdout",
          "text": [
            "                   all         68         62      0.964      0.902      0.918      0.844\n"
          ]
        },
        {
          "output_type": "stream",
          "name": "stderr",
          "text": [
            "\n"
          ]
        },
        {
          "output_type": "stream",
          "name": "stdout",
          "text": [
            "\n",
            "      Epoch    GPU_mem   box_loss   cls_loss   dfl_loss  Instances       Size\n"
          ]
        },
        {
          "output_type": "stream",
          "name": "stderr",
          "text": [
            "      30/50      1.98G       0.69     0.6209      1.059         12        640: 100%|██████████| 43/43 [00:04<00:00,  9.93it/s]\n",
            "                 Class     Images  Instances      Box(P          R      mAP50  mAP50-95): 100%|██████████| 3/3 [00:00<00:00,  9.74it/s]"
          ]
        },
        {
          "output_type": "stream",
          "name": "stdout",
          "text": [
            "                   all         68         62      0.911      0.891      0.903      0.813\n"
          ]
        },
        {
          "output_type": "stream",
          "name": "stderr",
          "text": [
            "\n"
          ]
        },
        {
          "output_type": "stream",
          "name": "stdout",
          "text": [
            "\n",
            "      Epoch    GPU_mem   box_loss   cls_loss   dfl_loss  Instances       Size\n"
          ]
        },
        {
          "output_type": "stream",
          "name": "stderr",
          "text": [
            "      31/50      1.97G     0.6645      0.616      1.034         25        640: 100%|██████████| 43/43 [00:04<00:00,  9.83it/s]\n",
            "                 Class     Images  Instances      Box(P          R      mAP50  mAP50-95): 100%|██████████| 3/3 [00:00<00:00,  9.97it/s]"
          ]
        },
        {
          "output_type": "stream",
          "name": "stdout",
          "text": [
            "                   all         68         62      0.958      0.897      0.911      0.833\n"
          ]
        },
        {
          "output_type": "stream",
          "name": "stderr",
          "text": [
            "\n"
          ]
        },
        {
          "output_type": "stream",
          "name": "stdout",
          "text": [
            "\n",
            "      Epoch    GPU_mem   box_loss   cls_loss   dfl_loss  Instances       Size\n"
          ]
        },
        {
          "output_type": "stream",
          "name": "stderr",
          "text": [
            "      32/50      1.97G     0.6808     0.6401       1.05         29        640: 100%|██████████| 43/43 [00:04<00:00, 10.51it/s]\n",
            "                 Class     Images  Instances      Box(P          R      mAP50  mAP50-95): 100%|██████████| 3/3 [00:00<00:00,  9.93it/s]"
          ]
        },
        {
          "output_type": "stream",
          "name": "stdout",
          "text": [
            "                   all         68         62      0.942      0.864      0.912      0.823\n"
          ]
        },
        {
          "output_type": "stream",
          "name": "stderr",
          "text": [
            "\n"
          ]
        },
        {
          "output_type": "stream",
          "name": "stdout",
          "text": [
            "\n",
            "      Epoch    GPU_mem   box_loss   cls_loss   dfl_loss  Instances       Size\n"
          ]
        },
        {
          "output_type": "stream",
          "name": "stderr",
          "text": [
            "      33/50      1.97G     0.6523     0.6168      1.031         18        640: 100%|██████████| 43/43 [00:04<00:00, 10.20it/s]\n",
            "                 Class     Images  Instances      Box(P          R      mAP50  mAP50-95): 100%|██████████| 3/3 [00:00<00:00,  8.89it/s]"
          ]
        },
        {
          "output_type": "stream",
          "name": "stdout",
          "text": [
            "                   all         68         62      0.953      0.907      0.916      0.848\n"
          ]
        },
        {
          "output_type": "stream",
          "name": "stderr",
          "text": [
            "\n"
          ]
        },
        {
          "output_type": "stream",
          "name": "stdout",
          "text": [
            "\n",
            "      Epoch    GPU_mem   box_loss   cls_loss   dfl_loss  Instances       Size\n"
          ]
        },
        {
          "output_type": "stream",
          "name": "stderr",
          "text": [
            "      34/50      1.98G     0.6434     0.5899      1.023         17        640: 100%|██████████| 43/43 [00:04<00:00,  9.76it/s]\n",
            "                 Class     Images  Instances      Box(P          R      mAP50  mAP50-95): 100%|██████████| 3/3 [00:00<00:00,  9.53it/s]"
          ]
        },
        {
          "output_type": "stream",
          "name": "stdout",
          "text": [
            "                   all         68         62      0.976      0.904       0.92      0.857\n"
          ]
        },
        {
          "output_type": "stream",
          "name": "stderr",
          "text": [
            "\n"
          ]
        },
        {
          "output_type": "stream",
          "name": "stdout",
          "text": [
            "\n",
            "      Epoch    GPU_mem   box_loss   cls_loss   dfl_loss  Instances       Size\n"
          ]
        },
        {
          "output_type": "stream",
          "name": "stderr",
          "text": [
            "      35/50      1.97G     0.6301     0.5689      1.021         19        640: 100%|██████████| 43/43 [00:04<00:00, 10.48it/s]\n",
            "                 Class     Images  Instances      Box(P          R      mAP50  mAP50-95): 100%|██████████| 3/3 [00:00<00:00,  9.50it/s]"
          ]
        },
        {
          "output_type": "stream",
          "name": "stdout",
          "text": [
            "                   all         68         62      0.955       0.87      0.912      0.837\n"
          ]
        },
        {
          "output_type": "stream",
          "name": "stderr",
          "text": [
            "\n"
          ]
        },
        {
          "output_type": "stream",
          "name": "stdout",
          "text": [
            "\n",
            "      Epoch    GPU_mem   box_loss   cls_loss   dfl_loss  Instances       Size\n"
          ]
        },
        {
          "output_type": "stream",
          "name": "stderr",
          "text": [
            "      36/50      1.97G     0.6308     0.5697      1.019         20        640: 100%|██████████| 43/43 [00:04<00:00, 10.40it/s]\n",
            "                 Class     Images  Instances      Box(P          R      mAP50  mAP50-95): 100%|██████████| 3/3 [00:00<00:00,  9.77it/s]"
          ]
        },
        {
          "output_type": "stream",
          "name": "stdout",
          "text": [
            "                   all         68         62      0.958      0.909      0.915       0.83\n"
          ]
        },
        {
          "output_type": "stream",
          "name": "stderr",
          "text": [
            "\n"
          ]
        },
        {
          "output_type": "stream",
          "name": "stdout",
          "text": [
            "\n",
            "      Epoch    GPU_mem   box_loss   cls_loss   dfl_loss  Instances       Size\n"
          ]
        },
        {
          "output_type": "stream",
          "name": "stderr",
          "text": [
            "      37/50      1.97G     0.6148     0.5423      1.022         17        640: 100%|██████████| 43/43 [00:04<00:00,  9.72it/s]\n",
            "                 Class     Images  Instances      Box(P          R      mAP50  mAP50-95): 100%|██████████| 3/3 [00:00<00:00,  9.13it/s]\n"
          ]
        },
        {
          "output_type": "stream",
          "name": "stdout",
          "text": [
            "                   all         68         62      0.945      0.896      0.915      0.837\n",
            "\n",
            "      Epoch    GPU_mem   box_loss   cls_loss   dfl_loss  Instances       Size\n"
          ]
        },
        {
          "output_type": "stream",
          "name": "stderr",
          "text": [
            "      38/50      1.98G     0.6131     0.5581      1.009         22        640: 100%|██████████| 43/43 [00:04<00:00, 10.24it/s]\n",
            "                 Class     Images  Instances      Box(P          R      mAP50  mAP50-95): 100%|██████████| 3/3 [00:00<00:00,  9.84it/s]"
          ]
        },
        {
          "output_type": "stream",
          "name": "stdout",
          "text": [
            "                   all         68         62      0.899      0.883      0.911      0.817\n"
          ]
        },
        {
          "output_type": "stream",
          "name": "stderr",
          "text": [
            "\n"
          ]
        },
        {
          "output_type": "stream",
          "name": "stdout",
          "text": [
            "\n",
            "      Epoch    GPU_mem   box_loss   cls_loss   dfl_loss  Instances       Size\n"
          ]
        },
        {
          "output_type": "stream",
          "name": "stderr",
          "text": [
            "      39/50      1.97G     0.6011     0.5586      1.009         29        640: 100%|██████████| 43/43 [00:04<00:00, 10.48it/s]\n",
            "                 Class     Images  Instances      Box(P          R      mAP50  mAP50-95): 100%|██████████| 3/3 [00:00<00:00,  9.65it/s]"
          ]
        },
        {
          "output_type": "stream",
          "name": "stdout",
          "text": [
            "                   all         68         62      0.988      0.897      0.922       0.85\n"
          ]
        },
        {
          "output_type": "stream",
          "name": "stderr",
          "text": [
            "\n"
          ]
        },
        {
          "output_type": "stream",
          "name": "stdout",
          "text": [
            "\n",
            "      Epoch    GPU_mem   box_loss   cls_loss   dfl_loss  Instances       Size\n"
          ]
        },
        {
          "output_type": "stream",
          "name": "stderr",
          "text": [
            "      40/50      1.97G     0.5981     0.5529      1.004         18        640: 100%|██████████| 43/43 [00:04<00:00,  9.20it/s]\n",
            "                 Class     Images  Instances      Box(P          R      mAP50  mAP50-95): 100%|██████████| 3/3 [00:00<00:00,  7.95it/s]\n"
          ]
        },
        {
          "output_type": "stream",
          "name": "stdout",
          "text": [
            "                   all         68         62      0.926      0.907      0.921      0.856\n",
            "Closing dataloader mosaic\n",
            "\u001b[34m\u001b[1malbumentations: \u001b[0mBlur(p=0.01, blur_limit=(3, 7)), MedianBlur(p=0.01, blur_limit=(3, 7)), ToGray(p=0.01), CLAHE(p=0.01, clip_limit=(1, 4.0), tile_grid_size=(8, 8))\n"
          ]
        },
        {
          "output_type": "stream",
          "name": "stderr",
          "text": [
            "os.fork() was called. os.fork() is incompatible with multithreaded code, and JAX is multithreaded, so this will likely lead to a deadlock.\n"
          ]
        },
        {
          "output_type": "stream",
          "name": "stdout",
          "text": [
            "\n",
            "      Epoch    GPU_mem   box_loss   cls_loss   dfl_loss  Instances       Size\n"
          ]
        },
        {
          "output_type": "stream",
          "name": "stderr",
          "text": [
            "      41/50      1.98G     0.6062     0.5119      1.046          9        640: 100%|██████████| 43/43 [00:05<00:00,  7.85it/s]\n",
            "                 Class     Images  Instances      Box(P          R      mAP50  mAP50-95): 100%|██████████| 3/3 [00:00<00:00,  9.39it/s]"
          ]
        },
        {
          "output_type": "stream",
          "name": "stdout",
          "text": [
            "                   all         68         62      0.955      0.909      0.916      0.858\n"
          ]
        },
        {
          "output_type": "stream",
          "name": "stderr",
          "text": [
            "\n"
          ]
        },
        {
          "output_type": "stream",
          "name": "stdout",
          "text": [
            "\n",
            "      Epoch    GPU_mem   box_loss   cls_loss   dfl_loss  Instances       Size\n"
          ]
        },
        {
          "output_type": "stream",
          "name": "stderr",
          "text": [
            "      42/50      1.98G     0.6051     0.4801      1.047         10        640: 100%|██████████| 43/43 [00:04<00:00, 10.42it/s]\n",
            "                 Class     Images  Instances      Box(P          R      mAP50  mAP50-95): 100%|██████████| 3/3 [00:00<00:00,  9.73it/s]"
          ]
        },
        {
          "output_type": "stream",
          "name": "stdout",
          "text": [
            "                   all         68         62      0.987      0.902      0.925      0.841\n"
          ]
        },
        {
          "output_type": "stream",
          "name": "stderr",
          "text": [
            "\n"
          ]
        },
        {
          "output_type": "stream",
          "name": "stdout",
          "text": [
            "\n",
            "      Epoch    GPU_mem   box_loss   cls_loss   dfl_loss  Instances       Size\n"
          ]
        },
        {
          "output_type": "stream",
          "name": "stderr",
          "text": [
            "      43/50      1.98G      0.577     0.4675      1.031         11        640: 100%|██████████| 43/43 [00:04<00:00,  9.88it/s]\n",
            "                 Class     Images  Instances      Box(P          R      mAP50  mAP50-95): 100%|██████████| 3/3 [00:00<00:00,  9.41it/s]"
          ]
        },
        {
          "output_type": "stream",
          "name": "stdout",
          "text": [
            "                   all         68         62      0.954      0.909       0.91      0.843\n"
          ]
        },
        {
          "output_type": "stream",
          "name": "stderr",
          "text": [
            "\n"
          ]
        },
        {
          "output_type": "stream",
          "name": "stdout",
          "text": [
            "\n",
            "      Epoch    GPU_mem   box_loss   cls_loss   dfl_loss  Instances       Size\n"
          ]
        },
        {
          "output_type": "stream",
          "name": "stderr",
          "text": [
            "      44/50      1.98G     0.5669     0.4462      1.019          9        640: 100%|██████████| 43/43 [00:04<00:00, 10.31it/s]\n",
            "                 Class     Images  Instances      Box(P          R      mAP50  mAP50-95): 100%|██████████| 3/3 [00:00<00:00,  9.85it/s]"
          ]
        },
        {
          "output_type": "stream",
          "name": "stdout",
          "text": [
            "                   all         68         62      0.965      0.902      0.918      0.843\n"
          ]
        },
        {
          "output_type": "stream",
          "name": "stderr",
          "text": [
            "\n"
          ]
        },
        {
          "output_type": "stream",
          "name": "stdout",
          "text": [
            "\n",
            "      Epoch    GPU_mem   box_loss   cls_loss   dfl_loss  Instances       Size\n"
          ]
        },
        {
          "output_type": "stream",
          "name": "stderr",
          "text": [
            "      45/50      1.98G     0.5633     0.4565      1.018         10        640: 100%|██████████| 43/43 [00:04<00:00, 10.50it/s]\n",
            "                 Class     Images  Instances      Box(P          R      mAP50  mAP50-95): 100%|██████████| 3/3 [00:00<00:00,  9.63it/s]"
          ]
        },
        {
          "output_type": "stream",
          "name": "stdout",
          "text": [
            "                   all         68         62       0.97      0.905       0.91       0.84\n"
          ]
        },
        {
          "output_type": "stream",
          "name": "stderr",
          "text": [
            "\n"
          ]
        },
        {
          "output_type": "stream",
          "name": "stdout",
          "text": [
            "\n",
            "      Epoch    GPU_mem   box_loss   cls_loss   dfl_loss  Instances       Size\n"
          ]
        },
        {
          "output_type": "stream",
          "name": "stderr",
          "text": [
            "      46/50      1.98G     0.5693     0.4573       1.02         12        640: 100%|██████████| 43/43 [00:04<00:00,  9.88it/s]\n",
            "                 Class     Images  Instances      Box(P          R      mAP50  mAP50-95): 100%|██████████| 3/3 [00:00<00:00,  9.40it/s]"
          ]
        },
        {
          "output_type": "stream",
          "name": "stdout",
          "text": [
            "                   all         68         62       0.97      0.906      0.932      0.842\n"
          ]
        },
        {
          "output_type": "stream",
          "name": "stderr",
          "text": [
            "\n"
          ]
        },
        {
          "output_type": "stream",
          "name": "stdout",
          "text": [
            "\n",
            "      Epoch    GPU_mem   box_loss   cls_loss   dfl_loss  Instances       Size\n"
          ]
        },
        {
          "output_type": "stream",
          "name": "stderr",
          "text": [
            "      47/50      1.98G     0.5483     0.4431      1.012         10        640: 100%|██████████| 43/43 [00:04<00:00, 10.08it/s]\n",
            "                 Class     Images  Instances      Box(P          R      mAP50  mAP50-95): 100%|██████████| 3/3 [00:00<00:00,  9.40it/s]"
          ]
        },
        {
          "output_type": "stream",
          "name": "stdout",
          "text": [
            "                   all         68         62      0.972      0.908      0.932      0.856\n"
          ]
        },
        {
          "output_type": "stream",
          "name": "stderr",
          "text": [
            "\n"
          ]
        },
        {
          "output_type": "stream",
          "name": "stdout",
          "text": [
            "\n",
            "      Epoch    GPU_mem   box_loss   cls_loss   dfl_loss  Instances       Size\n"
          ]
        },
        {
          "output_type": "stream",
          "name": "stderr",
          "text": [
            "      48/50      1.98G     0.5376     0.4232     0.9992          8        640: 100%|██████████| 43/43 [00:04<00:00, 10.44it/s]\n",
            "                 Class     Images  Instances      Box(P          R      mAP50  mAP50-95): 100%|██████████| 3/3 [00:00<00:00,  9.56it/s]"
          ]
        },
        {
          "output_type": "stream",
          "name": "stdout",
          "text": [
            "                   all         68         62      0.971       0.92      0.926      0.861\n"
          ]
        },
        {
          "output_type": "stream",
          "name": "stderr",
          "text": [
            "\n"
          ]
        },
        {
          "output_type": "stream",
          "name": "stdout",
          "text": [
            "\n",
            "      Epoch    GPU_mem   box_loss   cls_loss   dfl_loss  Instances       Size\n"
          ]
        },
        {
          "output_type": "stream",
          "name": "stderr",
          "text": [
            "      49/50      1.97G     0.5054     0.3842     0.9981         11        640: 100%|██████████| 43/43 [00:04<00:00, 10.07it/s]\n",
            "                 Class     Images  Instances      Box(P          R      mAP50  mAP50-95): 100%|██████████| 3/3 [00:00<00:00,  9.66it/s]"
          ]
        },
        {
          "output_type": "stream",
          "name": "stdout",
          "text": [
            "                   all         68         62      0.978      0.912      0.932      0.858\n"
          ]
        },
        {
          "output_type": "stream",
          "name": "stderr",
          "text": [
            "\n"
          ]
        },
        {
          "output_type": "stream",
          "name": "stdout",
          "text": [
            "\n",
            "      Epoch    GPU_mem   box_loss   cls_loss   dfl_loss  Instances       Size\n"
          ]
        },
        {
          "output_type": "stream",
          "name": "stderr",
          "text": [
            "      50/50      1.98G     0.4962      0.379     0.9729          8        640: 100%|██████████| 43/43 [00:04<00:00,  9.96it/s]\n",
            "                 Class     Images  Instances      Box(P          R      mAP50  mAP50-95): 100%|██████████| 3/3 [00:00<00:00,  9.52it/s]"
          ]
        },
        {
          "output_type": "stream",
          "name": "stdout",
          "text": [
            "                   all         68         62      0.978      0.914      0.935      0.861\n"
          ]
        },
        {
          "output_type": "stream",
          "name": "stderr",
          "text": [
            "\n"
          ]
        },
        {
          "output_type": "stream",
          "name": "stdout",
          "text": [
            "\n",
            "50 epochs completed in 0.075 hours.\n",
            "Optimizer stripped from runs/detect/exp-YOLOV5N/weights/last.pt, 5.3MB\n",
            "Optimizer stripped from runs/detect/exp-YOLOV5N/weights/best.pt, 5.3MB\n",
            "\n",
            "Validating runs/detect/exp-YOLOV5N/weights/best.pt...\n",
            "Ultralytics YOLOv8.2.69 🚀 Python-3.10.12 torch-2.3.1+cu121 CUDA:0 (NVIDIA L4, 22700MiB)\n",
            "YOLOv5n summary (fused): 193 layers, 2,503,724 parameters, 0 gradients, 7.1 GFLOPs\n"
          ]
        },
        {
          "output_type": "stream",
          "name": "stderr",
          "text": [
            "                 Class     Images  Instances      Box(P          R      mAP50  mAP50-95): 100%|██████████| 3/3 [00:00<00:00,  8.94it/s]\n"
          ]
        },
        {
          "output_type": "stream",
          "name": "stdout",
          "text": [
            "                   all         68         62      0.978      0.914      0.934      0.861\n",
            "                  Gala         14         14      0.995      0.857       0.91      0.793\n",
            "                Golden         14         14      0.989          1      0.995      0.955\n",
            "                Granny         16         16      0.994          1      0.995      0.977\n",
            "                   Red         18         18      0.935      0.798      0.837      0.721\n",
            "Speed: 0.2ms preprocess, 1.0ms inference, 0.0ms loss, 1.3ms postprocess per image\n",
            "Results saved to \u001b[1mruns/detect/exp-YOLOV5N\u001b[0m\n"
          ]
        },
        {
          "output_type": "execute_result",
          "data": {
            "text/plain": [
              "ultralytics.utils.metrics.DetMetrics object with attributes:\n",
              "\n",
              "ap_class_index: array([0, 1, 2, 3])\n",
              "box: ultralytics.utils.metrics.Metric object\n",
              "confusion_matrix: <ultralytics.utils.metrics.ConfusionMatrix object at 0x7aaadc0b28f0>\n",
              "curves: ['Precision-Recall(B)', 'F1-Confidence(B)', 'Precision-Confidence(B)', 'Recall-Confidence(B)']\n",
              "curves_results: [[array([          0,    0.001001,    0.002002,    0.003003,    0.004004,    0.005005,    0.006006,    0.007007,    0.008008,    0.009009,     0.01001,    0.011011,    0.012012,    0.013013,    0.014014,    0.015015,    0.016016,    0.017017,    0.018018,    0.019019,     0.02002,    0.021021,    0.022022,    0.023023,\n",
              "          0.024024,    0.025025,    0.026026,    0.027027,    0.028028,    0.029029,     0.03003,    0.031031,    0.032032,    0.033033,    0.034034,    0.035035,    0.036036,    0.037037,    0.038038,    0.039039,     0.04004,    0.041041,    0.042042,    0.043043,    0.044044,    0.045045,    0.046046,    0.047047,\n",
              "          0.048048,    0.049049,     0.05005,    0.051051,    0.052052,    0.053053,    0.054054,    0.055055,    0.056056,    0.057057,    0.058058,    0.059059,     0.06006,    0.061061,    0.062062,    0.063063,    0.064064,    0.065065,    0.066066,    0.067067,    0.068068,    0.069069,     0.07007,    0.071071,\n",
              "          0.072072,    0.073073,    0.074074,    0.075075,    0.076076,    0.077077,    0.078078,    0.079079,     0.08008,    0.081081,    0.082082,    0.083083,    0.084084,    0.085085,    0.086086,    0.087087,    0.088088,    0.089089,     0.09009,    0.091091,    0.092092,    0.093093,    0.094094,    0.095095,\n",
              "          0.096096,    0.097097,    0.098098,    0.099099,      0.1001,      0.1011,      0.1021,      0.1031,      0.1041,     0.10511,     0.10611,     0.10711,     0.10811,     0.10911,     0.11011,     0.11111,     0.11211,     0.11311,     0.11411,     0.11512,     0.11612,     0.11712,     0.11812,     0.11912,\n",
              "           0.12012,     0.12112,     0.12212,     0.12312,     0.12412,     0.12513,     0.12613,     0.12713,     0.12813,     0.12913,     0.13013,     0.13113,     0.13213,     0.13313,     0.13413,     0.13514,     0.13614,     0.13714,     0.13814,     0.13914,     0.14014,     0.14114,     0.14214,     0.14314,\n",
              "           0.14414,     0.14515,     0.14615,     0.14715,     0.14815,     0.14915,     0.15015,     0.15115,     0.15215,     0.15315,     0.15415,     0.15516,     0.15616,     0.15716,     0.15816,     0.15916,     0.16016,     0.16116,     0.16216,     0.16316,     0.16416,     0.16517,     0.16617,     0.16717,\n",
              "           0.16817,     0.16917,     0.17017,     0.17117,     0.17217,     0.17317,     0.17417,     0.17518,     0.17618,     0.17718,     0.17818,     0.17918,     0.18018,     0.18118,     0.18218,     0.18318,     0.18418,     0.18519,     0.18619,     0.18719,     0.18819,     0.18919,     0.19019,     0.19119,\n",
              "           0.19219,     0.19319,     0.19419,      0.1952,      0.1962,      0.1972,      0.1982,      0.1992,      0.2002,      0.2012,      0.2022,      0.2032,      0.2042,     0.20521,     0.20621,     0.20721,     0.20821,     0.20921,     0.21021,     0.21121,     0.21221,     0.21321,     0.21421,     0.21522,\n",
              "           0.21622,     0.21722,     0.21822,     0.21922,     0.22022,     0.22122,     0.22222,     0.22322,     0.22422,     0.22523,     0.22623,     0.22723,     0.22823,     0.22923,     0.23023,     0.23123,     0.23223,     0.23323,     0.23423,     0.23524,     0.23624,     0.23724,     0.23824,     0.23924,\n",
              "           0.24024,     0.24124,     0.24224,     0.24324,     0.24424,     0.24525,     0.24625,     0.24725,     0.24825,     0.24925,     0.25025,     0.25125,     0.25225,     0.25325,     0.25425,     0.25526,     0.25626,     0.25726,     0.25826,     0.25926,     0.26026,     0.26126,     0.26226,     0.26326,\n",
              "           0.26426,     0.26527,     0.26627,     0.26727,     0.26827,     0.26927,     0.27027,     0.27127,     0.27227,     0.27327,     0.27427,     0.27528,     0.27628,     0.27728,     0.27828,     0.27928,     0.28028,     0.28128,     0.28228,     0.28328,     0.28428,     0.28529,     0.28629,     0.28729,\n",
              "           0.28829,     0.28929,     0.29029,     0.29129,     0.29229,     0.29329,     0.29429,      0.2953,      0.2963,      0.2973,      0.2983,      0.2993,      0.3003,      0.3013,      0.3023,      0.3033,      0.3043,     0.30531,     0.30631,     0.30731,     0.30831,     0.30931,     0.31031,     0.31131,\n",
              "           0.31231,     0.31331,     0.31431,     0.31532,     0.31632,     0.31732,     0.31832,     0.31932,     0.32032,     0.32132,     0.32232,     0.32332,     0.32432,     0.32533,     0.32633,     0.32733,     0.32833,     0.32933,     0.33033,     0.33133,     0.33233,     0.33333,     0.33433,     0.33534,\n",
              "           0.33634,     0.33734,     0.33834,     0.33934,     0.34034,     0.34134,     0.34234,     0.34334,     0.34434,     0.34535,     0.34635,     0.34735,     0.34835,     0.34935,     0.35035,     0.35135,     0.35235,     0.35335,     0.35435,     0.35536,     0.35636,     0.35736,     0.35836,     0.35936,\n",
              "           0.36036,     0.36136,     0.36236,     0.36336,     0.36436,     0.36537,     0.36637,     0.36737,     0.36837,     0.36937,     0.37037,     0.37137,     0.37237,     0.37337,     0.37437,     0.37538,     0.37638,     0.37738,     0.37838,     0.37938,     0.38038,     0.38138,     0.38238,     0.38338,\n",
              "           0.38438,     0.38539,     0.38639,     0.38739,     0.38839,     0.38939,     0.39039,     0.39139,     0.39239,     0.39339,     0.39439,      0.3954,      0.3964,      0.3974,      0.3984,      0.3994,      0.4004,      0.4014,      0.4024,      0.4034,      0.4044,     0.40541,     0.40641,     0.40741,\n",
              "           0.40841,     0.40941,     0.41041,     0.41141,     0.41241,     0.41341,     0.41441,     0.41542,     0.41642,     0.41742,     0.41842,     0.41942,     0.42042,     0.42142,     0.42242,     0.42342,     0.42442,     0.42543,     0.42643,     0.42743,     0.42843,     0.42943,     0.43043,     0.43143,\n",
              "           0.43243,     0.43343,     0.43443,     0.43544,     0.43644,     0.43744,     0.43844,     0.43944,     0.44044,     0.44144,     0.44244,     0.44344,     0.44444,     0.44545,     0.44645,     0.44745,     0.44845,     0.44945,     0.45045,     0.45145,     0.45245,     0.45345,     0.45445,     0.45546,\n",
              "           0.45646,     0.45746,     0.45846,     0.45946,     0.46046,     0.46146,     0.46246,     0.46346,     0.46446,     0.46547,     0.46647,     0.46747,     0.46847,     0.46947,     0.47047,     0.47147,     0.47247,     0.47347,     0.47447,     0.47548,     0.47648,     0.47748,     0.47848,     0.47948,\n",
              "           0.48048,     0.48148,     0.48248,     0.48348,     0.48448,     0.48549,     0.48649,     0.48749,     0.48849,     0.48949,     0.49049,     0.49149,     0.49249,     0.49349,     0.49449,      0.4955,      0.4965,      0.4975,      0.4985,      0.4995,      0.5005,      0.5015,      0.5025,      0.5035,\n",
              "            0.5045,     0.50551,     0.50651,     0.50751,     0.50851,     0.50951,     0.51051,     0.51151,     0.51251,     0.51351,     0.51451,     0.51552,     0.51652,     0.51752,     0.51852,     0.51952,     0.52052,     0.52152,     0.52252,     0.52352,     0.52452,     0.52553,     0.52653,     0.52753,\n",
              "           0.52853,     0.52953,     0.53053,     0.53153,     0.53253,     0.53353,     0.53453,     0.53554,     0.53654,     0.53754,     0.53854,     0.53954,     0.54054,     0.54154,     0.54254,     0.54354,     0.54454,     0.54555,     0.54655,     0.54755,     0.54855,     0.54955,     0.55055,     0.55155,\n",
              "           0.55255,     0.55355,     0.55455,     0.55556,     0.55656,     0.55756,     0.55856,     0.55956,     0.56056,     0.56156,     0.56256,     0.56356,     0.56456,     0.56557,     0.56657,     0.56757,     0.56857,     0.56957,     0.57057,     0.57157,     0.57257,     0.57357,     0.57457,     0.57558,\n",
              "           0.57658,     0.57758,     0.57858,     0.57958,     0.58058,     0.58158,     0.58258,     0.58358,     0.58458,     0.58559,     0.58659,     0.58759,     0.58859,     0.58959,     0.59059,     0.59159,     0.59259,     0.59359,     0.59459,      0.5956,      0.5966,      0.5976,      0.5986,      0.5996,\n",
              "            0.6006,      0.6016,      0.6026,      0.6036,      0.6046,     0.60561,     0.60661,     0.60761,     0.60861,     0.60961,     0.61061,     0.61161,     0.61261,     0.61361,     0.61461,     0.61562,     0.61662,     0.61762,     0.61862,     0.61962,     0.62062,     0.62162,     0.62262,     0.62362,\n",
              "           0.62462,     0.62563,     0.62663,     0.62763,     0.62863,     0.62963,     0.63063,     0.63163,     0.63263,     0.63363,     0.63463,     0.63564,     0.63664,     0.63764,     0.63864,     0.63964,     0.64064,     0.64164,     0.64264,     0.64364,     0.64464,     0.64565,     0.64665,     0.64765,\n",
              "           0.64865,     0.64965,     0.65065,     0.65165,     0.65265,     0.65365,     0.65465,     0.65566,     0.65666,     0.65766,     0.65866,     0.65966,     0.66066,     0.66166,     0.66266,     0.66366,     0.66466,     0.66567,     0.66667,     0.66767,     0.66867,     0.66967,     0.67067,     0.67167,\n",
              "           0.67267,     0.67367,     0.67467,     0.67568,     0.67668,     0.67768,     0.67868,     0.67968,     0.68068,     0.68168,     0.68268,     0.68368,     0.68468,     0.68569,     0.68669,     0.68769,     0.68869,     0.68969,     0.69069,     0.69169,     0.69269,     0.69369,     0.69469,      0.6957,\n",
              "            0.6967,      0.6977,      0.6987,      0.6997,      0.7007,      0.7017,      0.7027,      0.7037,      0.7047,     0.70571,     0.70671,     0.70771,     0.70871,     0.70971,     0.71071,     0.71171,     0.71271,     0.71371,     0.71471,     0.71572,     0.71672,     0.71772,     0.71872,     0.71972,\n",
              "           0.72072,     0.72172,     0.72272,     0.72372,     0.72472,     0.72573,     0.72673,     0.72773,     0.72873,     0.72973,     0.73073,     0.73173,     0.73273,     0.73373,     0.73473,     0.73574,     0.73674,     0.73774,     0.73874,     0.73974,     0.74074,     0.74174,     0.74274,     0.74374,\n",
              "           0.74474,     0.74575,     0.74675,     0.74775,     0.74875,     0.74975,     0.75075,     0.75175,     0.75275,     0.75375,     0.75475,     0.75576,     0.75676,     0.75776,     0.75876,     0.75976,     0.76076,     0.76176,     0.76276,     0.76376,     0.76476,     0.76577,     0.76677,     0.76777,\n",
              "           0.76877,     0.76977,     0.77077,     0.77177,     0.77277,     0.77377,     0.77477,     0.77578,     0.77678,     0.77778,     0.77878,     0.77978,     0.78078,     0.78178,     0.78278,     0.78378,     0.78478,     0.78579,     0.78679,     0.78779,     0.78879,     0.78979,     0.79079,     0.79179,\n",
              "           0.79279,     0.79379,     0.79479,      0.7958,      0.7968,      0.7978,      0.7988,      0.7998,      0.8008,      0.8018,      0.8028,      0.8038,      0.8048,     0.80581,     0.80681,     0.80781,     0.80881,     0.80981,     0.81081,     0.81181,     0.81281,     0.81381,     0.81481,     0.81582,\n",
              "           0.81682,     0.81782,     0.81882,     0.81982,     0.82082,     0.82182,     0.82282,     0.82382,     0.82482,     0.82583,     0.82683,     0.82783,     0.82883,     0.82983,     0.83083,     0.83183,     0.83283,     0.83383,     0.83483,     0.83584,     0.83684,     0.83784,     0.83884,     0.83984,\n",
              "           0.84084,     0.84184,     0.84284,     0.84384,     0.84484,     0.84585,     0.84685,     0.84785,     0.84885,     0.84985,     0.85085,     0.85185,     0.85285,     0.85385,     0.85485,     0.85586,     0.85686,     0.85786,     0.85886,     0.85986,     0.86086,     0.86186,     0.86286,     0.86386,\n",
              "           0.86486,     0.86587,     0.86687,     0.86787,     0.86887,     0.86987,     0.87087,     0.87187,     0.87287,     0.87387,     0.87487,     0.87588,     0.87688,     0.87788,     0.87888,     0.87988,     0.88088,     0.88188,     0.88288,     0.88388,     0.88488,     0.88589,     0.88689,     0.88789,\n",
              "           0.88889,     0.88989,     0.89089,     0.89189,     0.89289,     0.89389,     0.89489,      0.8959,      0.8969,      0.8979,      0.8989,      0.8999,      0.9009,      0.9019,      0.9029,      0.9039,      0.9049,     0.90591,     0.90691,     0.90791,     0.90891,     0.90991,     0.91091,     0.91191,\n",
              "           0.91291,     0.91391,     0.91491,     0.91592,     0.91692,     0.91792,     0.91892,     0.91992,     0.92092,     0.92192,     0.92292,     0.92392,     0.92492,     0.92593,     0.92693,     0.92793,     0.92893,     0.92993,     0.93093,     0.93193,     0.93293,     0.93393,     0.93493,     0.93594,\n",
              "           0.93694,     0.93794,     0.93894,     0.93994,     0.94094,     0.94194,     0.94294,     0.94394,     0.94494,     0.94595,     0.94695,     0.94795,     0.94895,     0.94995,     0.95095,     0.95195,     0.95295,     0.95395,     0.95495,     0.95596,     0.95696,     0.95796,     0.95896,     0.95996,\n",
              "           0.96096,     0.96196,     0.96296,     0.96396,     0.96496,     0.96597,     0.96697,     0.96797,     0.96897,     0.96997,     0.97097,     0.97197,     0.97297,     0.97397,     0.97497,     0.97598,     0.97698,     0.97798,     0.97898,     0.97998,     0.98098,     0.98198,     0.98298,     0.98398,\n",
              "           0.98498,     0.98599,     0.98699,     0.98799,     0.98899,     0.98999,     0.99099,     0.99199,     0.99299,     0.99399,     0.99499,       0.996,       0.997,       0.998,       0.999,           1]), array([[          1,           1,           1, ...,   0.0071444,   0.0035722,           0],\n",
              "       [          1,           1,           1, ...,           1,           1,           0],\n",
              "       [          1,           1,           1, ...,           1,           1,           0],\n",
              "       [          1,           1,           1, ...,    0.001056,    0.000528,           0]]), 'Recall', 'Precision'], [array([          0,    0.001001,    0.002002,    0.003003,    0.004004,    0.005005,    0.006006,    0.007007,    0.008008,    0.009009,     0.01001,    0.011011,    0.012012,    0.013013,    0.014014,    0.015015,    0.016016,    0.017017,    0.018018,    0.019019,     0.02002,    0.021021,    0.022022,    0.023023,\n",
              "          0.024024,    0.025025,    0.026026,    0.027027,    0.028028,    0.029029,     0.03003,    0.031031,    0.032032,    0.033033,    0.034034,    0.035035,    0.036036,    0.037037,    0.038038,    0.039039,     0.04004,    0.041041,    0.042042,    0.043043,    0.044044,    0.045045,    0.046046,    0.047047,\n",
              "          0.048048,    0.049049,     0.05005,    0.051051,    0.052052,    0.053053,    0.054054,    0.055055,    0.056056,    0.057057,    0.058058,    0.059059,     0.06006,    0.061061,    0.062062,    0.063063,    0.064064,    0.065065,    0.066066,    0.067067,    0.068068,    0.069069,     0.07007,    0.071071,\n",
              "          0.072072,    0.073073,    0.074074,    0.075075,    0.076076,    0.077077,    0.078078,    0.079079,     0.08008,    0.081081,    0.082082,    0.083083,    0.084084,    0.085085,    0.086086,    0.087087,    0.088088,    0.089089,     0.09009,    0.091091,    0.092092,    0.093093,    0.094094,    0.095095,\n",
              "          0.096096,    0.097097,    0.098098,    0.099099,      0.1001,      0.1011,      0.1021,      0.1031,      0.1041,     0.10511,     0.10611,     0.10711,     0.10811,     0.10911,     0.11011,     0.11111,     0.11211,     0.11311,     0.11411,     0.11512,     0.11612,     0.11712,     0.11812,     0.11912,\n",
              "           0.12012,     0.12112,     0.12212,     0.12312,     0.12412,     0.12513,     0.12613,     0.12713,     0.12813,     0.12913,     0.13013,     0.13113,     0.13213,     0.13313,     0.13413,     0.13514,     0.13614,     0.13714,     0.13814,     0.13914,     0.14014,     0.14114,     0.14214,     0.14314,\n",
              "           0.14414,     0.14515,     0.14615,     0.14715,     0.14815,     0.14915,     0.15015,     0.15115,     0.15215,     0.15315,     0.15415,     0.15516,     0.15616,     0.15716,     0.15816,     0.15916,     0.16016,     0.16116,     0.16216,     0.16316,     0.16416,     0.16517,     0.16617,     0.16717,\n",
              "           0.16817,     0.16917,     0.17017,     0.17117,     0.17217,     0.17317,     0.17417,     0.17518,     0.17618,     0.17718,     0.17818,     0.17918,     0.18018,     0.18118,     0.18218,     0.18318,     0.18418,     0.18519,     0.18619,     0.18719,     0.18819,     0.18919,     0.19019,     0.19119,\n",
              "           0.19219,     0.19319,     0.19419,      0.1952,      0.1962,      0.1972,      0.1982,      0.1992,      0.2002,      0.2012,      0.2022,      0.2032,      0.2042,     0.20521,     0.20621,     0.20721,     0.20821,     0.20921,     0.21021,     0.21121,     0.21221,     0.21321,     0.21421,     0.21522,\n",
              "           0.21622,     0.21722,     0.21822,     0.21922,     0.22022,     0.22122,     0.22222,     0.22322,     0.22422,     0.22523,     0.22623,     0.22723,     0.22823,     0.22923,     0.23023,     0.23123,     0.23223,     0.23323,     0.23423,     0.23524,     0.23624,     0.23724,     0.23824,     0.23924,\n",
              "           0.24024,     0.24124,     0.24224,     0.24324,     0.24424,     0.24525,     0.24625,     0.24725,     0.24825,     0.24925,     0.25025,     0.25125,     0.25225,     0.25325,     0.25425,     0.25526,     0.25626,     0.25726,     0.25826,     0.25926,     0.26026,     0.26126,     0.26226,     0.26326,\n",
              "           0.26426,     0.26527,     0.26627,     0.26727,     0.26827,     0.26927,     0.27027,     0.27127,     0.27227,     0.27327,     0.27427,     0.27528,     0.27628,     0.27728,     0.27828,     0.27928,     0.28028,     0.28128,     0.28228,     0.28328,     0.28428,     0.28529,     0.28629,     0.28729,\n",
              "           0.28829,     0.28929,     0.29029,     0.29129,     0.29229,     0.29329,     0.29429,      0.2953,      0.2963,      0.2973,      0.2983,      0.2993,      0.3003,      0.3013,      0.3023,      0.3033,      0.3043,     0.30531,     0.30631,     0.30731,     0.30831,     0.30931,     0.31031,     0.31131,\n",
              "           0.31231,     0.31331,     0.31431,     0.31532,     0.31632,     0.31732,     0.31832,     0.31932,     0.32032,     0.32132,     0.32232,     0.32332,     0.32432,     0.32533,     0.32633,     0.32733,     0.32833,     0.32933,     0.33033,     0.33133,     0.33233,     0.33333,     0.33433,     0.33534,\n",
              "           0.33634,     0.33734,     0.33834,     0.33934,     0.34034,     0.34134,     0.34234,     0.34334,     0.34434,     0.34535,     0.34635,     0.34735,     0.34835,     0.34935,     0.35035,     0.35135,     0.35235,     0.35335,     0.35435,     0.35536,     0.35636,     0.35736,     0.35836,     0.35936,\n",
              "           0.36036,     0.36136,     0.36236,     0.36336,     0.36436,     0.36537,     0.36637,     0.36737,     0.36837,     0.36937,     0.37037,     0.37137,     0.37237,     0.37337,     0.37437,     0.37538,     0.37638,     0.37738,     0.37838,     0.37938,     0.38038,     0.38138,     0.38238,     0.38338,\n",
              "           0.38438,     0.38539,     0.38639,     0.38739,     0.38839,     0.38939,     0.39039,     0.39139,     0.39239,     0.39339,     0.39439,      0.3954,      0.3964,      0.3974,      0.3984,      0.3994,      0.4004,      0.4014,      0.4024,      0.4034,      0.4044,     0.40541,     0.40641,     0.40741,\n",
              "           0.40841,     0.40941,     0.41041,     0.41141,     0.41241,     0.41341,     0.41441,     0.41542,     0.41642,     0.41742,     0.41842,     0.41942,     0.42042,     0.42142,     0.42242,     0.42342,     0.42442,     0.42543,     0.42643,     0.42743,     0.42843,     0.42943,     0.43043,     0.43143,\n",
              "           0.43243,     0.43343,     0.43443,     0.43544,     0.43644,     0.43744,     0.43844,     0.43944,     0.44044,     0.44144,     0.44244,     0.44344,     0.44444,     0.44545,     0.44645,     0.44745,     0.44845,     0.44945,     0.45045,     0.45145,     0.45245,     0.45345,     0.45445,     0.45546,\n",
              "           0.45646,     0.45746,     0.45846,     0.45946,     0.46046,     0.46146,     0.46246,     0.46346,     0.46446,     0.46547,     0.46647,     0.46747,     0.46847,     0.46947,     0.47047,     0.47147,     0.47247,     0.47347,     0.47447,     0.47548,     0.47648,     0.47748,     0.47848,     0.47948,\n",
              "           0.48048,     0.48148,     0.48248,     0.48348,     0.48448,     0.48549,     0.48649,     0.48749,     0.48849,     0.48949,     0.49049,     0.49149,     0.49249,     0.49349,     0.49449,      0.4955,      0.4965,      0.4975,      0.4985,      0.4995,      0.5005,      0.5015,      0.5025,      0.5035,\n",
              "            0.5045,     0.50551,     0.50651,     0.50751,     0.50851,     0.50951,     0.51051,     0.51151,     0.51251,     0.51351,     0.51451,     0.51552,     0.51652,     0.51752,     0.51852,     0.51952,     0.52052,     0.52152,     0.52252,     0.52352,     0.52452,     0.52553,     0.52653,     0.52753,\n",
              "           0.52853,     0.52953,     0.53053,     0.53153,     0.53253,     0.53353,     0.53453,     0.53554,     0.53654,     0.53754,     0.53854,     0.53954,     0.54054,     0.54154,     0.54254,     0.54354,     0.54454,     0.54555,     0.54655,     0.54755,     0.54855,     0.54955,     0.55055,     0.55155,\n",
              "           0.55255,     0.55355,     0.55455,     0.55556,     0.55656,     0.55756,     0.55856,     0.55956,     0.56056,     0.56156,     0.56256,     0.56356,     0.56456,     0.56557,     0.56657,     0.56757,     0.56857,     0.56957,     0.57057,     0.57157,     0.57257,     0.57357,     0.57457,     0.57558,\n",
              "           0.57658,     0.57758,     0.57858,     0.57958,     0.58058,     0.58158,     0.58258,     0.58358,     0.58458,     0.58559,     0.58659,     0.58759,     0.58859,     0.58959,     0.59059,     0.59159,     0.59259,     0.59359,     0.59459,      0.5956,      0.5966,      0.5976,      0.5986,      0.5996,\n",
              "            0.6006,      0.6016,      0.6026,      0.6036,      0.6046,     0.60561,     0.60661,     0.60761,     0.60861,     0.60961,     0.61061,     0.61161,     0.61261,     0.61361,     0.61461,     0.61562,     0.61662,     0.61762,     0.61862,     0.61962,     0.62062,     0.62162,     0.62262,     0.62362,\n",
              "           0.62462,     0.62563,     0.62663,     0.62763,     0.62863,     0.62963,     0.63063,     0.63163,     0.63263,     0.63363,     0.63463,     0.63564,     0.63664,     0.63764,     0.63864,     0.63964,     0.64064,     0.64164,     0.64264,     0.64364,     0.64464,     0.64565,     0.64665,     0.64765,\n",
              "           0.64865,     0.64965,     0.65065,     0.65165,     0.65265,     0.65365,     0.65465,     0.65566,     0.65666,     0.65766,     0.65866,     0.65966,     0.66066,     0.66166,     0.66266,     0.66366,     0.66466,     0.66567,     0.66667,     0.66767,     0.66867,     0.66967,     0.67067,     0.67167,\n",
              "           0.67267,     0.67367,     0.67467,     0.67568,     0.67668,     0.67768,     0.67868,     0.67968,     0.68068,     0.68168,     0.68268,     0.68368,     0.68468,     0.68569,     0.68669,     0.68769,     0.68869,     0.68969,     0.69069,     0.69169,     0.69269,     0.69369,     0.69469,      0.6957,\n",
              "            0.6967,      0.6977,      0.6987,      0.6997,      0.7007,      0.7017,      0.7027,      0.7037,      0.7047,     0.70571,     0.70671,     0.70771,     0.70871,     0.70971,     0.71071,     0.71171,     0.71271,     0.71371,     0.71471,     0.71572,     0.71672,     0.71772,     0.71872,     0.71972,\n",
              "           0.72072,     0.72172,     0.72272,     0.72372,     0.72472,     0.72573,     0.72673,     0.72773,     0.72873,     0.72973,     0.73073,     0.73173,     0.73273,     0.73373,     0.73473,     0.73574,     0.73674,     0.73774,     0.73874,     0.73974,     0.74074,     0.74174,     0.74274,     0.74374,\n",
              "           0.74474,     0.74575,     0.74675,     0.74775,     0.74875,     0.74975,     0.75075,     0.75175,     0.75275,     0.75375,     0.75475,     0.75576,     0.75676,     0.75776,     0.75876,     0.75976,     0.76076,     0.76176,     0.76276,     0.76376,     0.76476,     0.76577,     0.76677,     0.76777,\n",
              "           0.76877,     0.76977,     0.77077,     0.77177,     0.77277,     0.77377,     0.77477,     0.77578,     0.77678,     0.77778,     0.77878,     0.77978,     0.78078,     0.78178,     0.78278,     0.78378,     0.78478,     0.78579,     0.78679,     0.78779,     0.78879,     0.78979,     0.79079,     0.79179,\n",
              "           0.79279,     0.79379,     0.79479,      0.7958,      0.7968,      0.7978,      0.7988,      0.7998,      0.8008,      0.8018,      0.8028,      0.8038,      0.8048,     0.80581,     0.80681,     0.80781,     0.80881,     0.80981,     0.81081,     0.81181,     0.81281,     0.81381,     0.81481,     0.81582,\n",
              "           0.81682,     0.81782,     0.81882,     0.81982,     0.82082,     0.82182,     0.82282,     0.82382,     0.82482,     0.82583,     0.82683,     0.82783,     0.82883,     0.82983,     0.83083,     0.83183,     0.83283,     0.83383,     0.83483,     0.83584,     0.83684,     0.83784,     0.83884,     0.83984,\n",
              "           0.84084,     0.84184,     0.84284,     0.84384,     0.84484,     0.84585,     0.84685,     0.84785,     0.84885,     0.84985,     0.85085,     0.85185,     0.85285,     0.85385,     0.85485,     0.85586,     0.85686,     0.85786,     0.85886,     0.85986,     0.86086,     0.86186,     0.86286,     0.86386,\n",
              "           0.86486,     0.86587,     0.86687,     0.86787,     0.86887,     0.86987,     0.87087,     0.87187,     0.87287,     0.87387,     0.87487,     0.87588,     0.87688,     0.87788,     0.87888,     0.87988,     0.88088,     0.88188,     0.88288,     0.88388,     0.88488,     0.88589,     0.88689,     0.88789,\n",
              "           0.88889,     0.88989,     0.89089,     0.89189,     0.89289,     0.89389,     0.89489,      0.8959,      0.8969,      0.8979,      0.8989,      0.8999,      0.9009,      0.9019,      0.9029,      0.9039,      0.9049,     0.90591,     0.90691,     0.90791,     0.90891,     0.90991,     0.91091,     0.91191,\n",
              "           0.91291,     0.91391,     0.91491,     0.91592,     0.91692,     0.91792,     0.91892,     0.91992,     0.92092,     0.92192,     0.92292,     0.92392,     0.92492,     0.92593,     0.92693,     0.92793,     0.92893,     0.92993,     0.93093,     0.93193,     0.93293,     0.93393,     0.93493,     0.93594,\n",
              "           0.93694,     0.93794,     0.93894,     0.93994,     0.94094,     0.94194,     0.94294,     0.94394,     0.94494,     0.94595,     0.94695,     0.94795,     0.94895,     0.94995,     0.95095,     0.95195,     0.95295,     0.95395,     0.95495,     0.95596,     0.95696,     0.95796,     0.95896,     0.95996,\n",
              "           0.96096,     0.96196,     0.96296,     0.96396,     0.96496,     0.96597,     0.96697,     0.96797,     0.96897,     0.96997,     0.97097,     0.97197,     0.97297,     0.97397,     0.97497,     0.97598,     0.97698,     0.97798,     0.97898,     0.97998,     0.98098,     0.98198,     0.98298,     0.98398,\n",
              "           0.98498,     0.98599,     0.98699,     0.98799,     0.98899,     0.98999,     0.99099,     0.99199,     0.99299,     0.99399,     0.99499,       0.996,       0.997,       0.998,       0.999,           1]), array([[        0.4,         0.4,      0.6571, ...,           0,           0,           0],\n",
              "       [    0.17949,     0.17949,      0.2718, ...,           0,           0,           0],\n",
              "       [    0.38095,     0.38095,     0.52355, ...,           0,           0,           0],\n",
              "       [    0.10997,     0.10997,     0.17541, ...,           0,           0,           0]]), 'Confidence', 'F1'], [array([          0,    0.001001,    0.002002,    0.003003,    0.004004,    0.005005,    0.006006,    0.007007,    0.008008,    0.009009,     0.01001,    0.011011,    0.012012,    0.013013,    0.014014,    0.015015,    0.016016,    0.017017,    0.018018,    0.019019,     0.02002,    0.021021,    0.022022,    0.023023,\n",
              "          0.024024,    0.025025,    0.026026,    0.027027,    0.028028,    0.029029,     0.03003,    0.031031,    0.032032,    0.033033,    0.034034,    0.035035,    0.036036,    0.037037,    0.038038,    0.039039,     0.04004,    0.041041,    0.042042,    0.043043,    0.044044,    0.045045,    0.046046,    0.047047,\n",
              "          0.048048,    0.049049,     0.05005,    0.051051,    0.052052,    0.053053,    0.054054,    0.055055,    0.056056,    0.057057,    0.058058,    0.059059,     0.06006,    0.061061,    0.062062,    0.063063,    0.064064,    0.065065,    0.066066,    0.067067,    0.068068,    0.069069,     0.07007,    0.071071,\n",
              "          0.072072,    0.073073,    0.074074,    0.075075,    0.076076,    0.077077,    0.078078,    0.079079,     0.08008,    0.081081,    0.082082,    0.083083,    0.084084,    0.085085,    0.086086,    0.087087,    0.088088,    0.089089,     0.09009,    0.091091,    0.092092,    0.093093,    0.094094,    0.095095,\n",
              "          0.096096,    0.097097,    0.098098,    0.099099,      0.1001,      0.1011,      0.1021,      0.1031,      0.1041,     0.10511,     0.10611,     0.10711,     0.10811,     0.10911,     0.11011,     0.11111,     0.11211,     0.11311,     0.11411,     0.11512,     0.11612,     0.11712,     0.11812,     0.11912,\n",
              "           0.12012,     0.12112,     0.12212,     0.12312,     0.12412,     0.12513,     0.12613,     0.12713,     0.12813,     0.12913,     0.13013,     0.13113,     0.13213,     0.13313,     0.13413,     0.13514,     0.13614,     0.13714,     0.13814,     0.13914,     0.14014,     0.14114,     0.14214,     0.14314,\n",
              "           0.14414,     0.14515,     0.14615,     0.14715,     0.14815,     0.14915,     0.15015,     0.15115,     0.15215,     0.15315,     0.15415,     0.15516,     0.15616,     0.15716,     0.15816,     0.15916,     0.16016,     0.16116,     0.16216,     0.16316,     0.16416,     0.16517,     0.16617,     0.16717,\n",
              "           0.16817,     0.16917,     0.17017,     0.17117,     0.17217,     0.17317,     0.17417,     0.17518,     0.17618,     0.17718,     0.17818,     0.17918,     0.18018,     0.18118,     0.18218,     0.18318,     0.18418,     0.18519,     0.18619,     0.18719,     0.18819,     0.18919,     0.19019,     0.19119,\n",
              "           0.19219,     0.19319,     0.19419,      0.1952,      0.1962,      0.1972,      0.1982,      0.1992,      0.2002,      0.2012,      0.2022,      0.2032,      0.2042,     0.20521,     0.20621,     0.20721,     0.20821,     0.20921,     0.21021,     0.21121,     0.21221,     0.21321,     0.21421,     0.21522,\n",
              "           0.21622,     0.21722,     0.21822,     0.21922,     0.22022,     0.22122,     0.22222,     0.22322,     0.22422,     0.22523,     0.22623,     0.22723,     0.22823,     0.22923,     0.23023,     0.23123,     0.23223,     0.23323,     0.23423,     0.23524,     0.23624,     0.23724,     0.23824,     0.23924,\n",
              "           0.24024,     0.24124,     0.24224,     0.24324,     0.24424,     0.24525,     0.24625,     0.24725,     0.24825,     0.24925,     0.25025,     0.25125,     0.25225,     0.25325,     0.25425,     0.25526,     0.25626,     0.25726,     0.25826,     0.25926,     0.26026,     0.26126,     0.26226,     0.26326,\n",
              "           0.26426,     0.26527,     0.26627,     0.26727,     0.26827,     0.26927,     0.27027,     0.27127,     0.27227,     0.27327,     0.27427,     0.27528,     0.27628,     0.27728,     0.27828,     0.27928,     0.28028,     0.28128,     0.28228,     0.28328,     0.28428,     0.28529,     0.28629,     0.28729,\n",
              "           0.28829,     0.28929,     0.29029,     0.29129,     0.29229,     0.29329,     0.29429,      0.2953,      0.2963,      0.2973,      0.2983,      0.2993,      0.3003,      0.3013,      0.3023,      0.3033,      0.3043,     0.30531,     0.30631,     0.30731,     0.30831,     0.30931,     0.31031,     0.31131,\n",
              "           0.31231,     0.31331,     0.31431,     0.31532,     0.31632,     0.31732,     0.31832,     0.31932,     0.32032,     0.32132,     0.32232,     0.32332,     0.32432,     0.32533,     0.32633,     0.32733,     0.32833,     0.32933,     0.33033,     0.33133,     0.33233,     0.33333,     0.33433,     0.33534,\n",
              "           0.33634,     0.33734,     0.33834,     0.33934,     0.34034,     0.34134,     0.34234,     0.34334,     0.34434,     0.34535,     0.34635,     0.34735,     0.34835,     0.34935,     0.35035,     0.35135,     0.35235,     0.35335,     0.35435,     0.35536,     0.35636,     0.35736,     0.35836,     0.35936,\n",
              "           0.36036,     0.36136,     0.36236,     0.36336,     0.36436,     0.36537,     0.36637,     0.36737,     0.36837,     0.36937,     0.37037,     0.37137,     0.37237,     0.37337,     0.37437,     0.37538,     0.37638,     0.37738,     0.37838,     0.37938,     0.38038,     0.38138,     0.38238,     0.38338,\n",
              "           0.38438,     0.38539,     0.38639,     0.38739,     0.38839,     0.38939,     0.39039,     0.39139,     0.39239,     0.39339,     0.39439,      0.3954,      0.3964,      0.3974,      0.3984,      0.3994,      0.4004,      0.4014,      0.4024,      0.4034,      0.4044,     0.40541,     0.40641,     0.40741,\n",
              "           0.40841,     0.40941,     0.41041,     0.41141,     0.41241,     0.41341,     0.41441,     0.41542,     0.41642,     0.41742,     0.41842,     0.41942,     0.42042,     0.42142,     0.42242,     0.42342,     0.42442,     0.42543,     0.42643,     0.42743,     0.42843,     0.42943,     0.43043,     0.43143,\n",
              "           0.43243,     0.43343,     0.43443,     0.43544,     0.43644,     0.43744,     0.43844,     0.43944,     0.44044,     0.44144,     0.44244,     0.44344,     0.44444,     0.44545,     0.44645,     0.44745,     0.44845,     0.44945,     0.45045,     0.45145,     0.45245,     0.45345,     0.45445,     0.45546,\n",
              "           0.45646,     0.45746,     0.45846,     0.45946,     0.46046,     0.46146,     0.46246,     0.46346,     0.46446,     0.46547,     0.46647,     0.46747,     0.46847,     0.46947,     0.47047,     0.47147,     0.47247,     0.47347,     0.47447,     0.47548,     0.47648,     0.47748,     0.47848,     0.47948,\n",
              "           0.48048,     0.48148,     0.48248,     0.48348,     0.48448,     0.48549,     0.48649,     0.48749,     0.48849,     0.48949,     0.49049,     0.49149,     0.49249,     0.49349,     0.49449,      0.4955,      0.4965,      0.4975,      0.4985,      0.4995,      0.5005,      0.5015,      0.5025,      0.5035,\n",
              "            0.5045,     0.50551,     0.50651,     0.50751,     0.50851,     0.50951,     0.51051,     0.51151,     0.51251,     0.51351,     0.51451,     0.51552,     0.51652,     0.51752,     0.51852,     0.51952,     0.52052,     0.52152,     0.52252,     0.52352,     0.52452,     0.52553,     0.52653,     0.52753,\n",
              "           0.52853,     0.52953,     0.53053,     0.53153,     0.53253,     0.53353,     0.53453,     0.53554,     0.53654,     0.53754,     0.53854,     0.53954,     0.54054,     0.54154,     0.54254,     0.54354,     0.54454,     0.54555,     0.54655,     0.54755,     0.54855,     0.54955,     0.55055,     0.55155,\n",
              "           0.55255,     0.55355,     0.55455,     0.55556,     0.55656,     0.55756,     0.55856,     0.55956,     0.56056,     0.56156,     0.56256,     0.56356,     0.56456,     0.56557,     0.56657,     0.56757,     0.56857,     0.56957,     0.57057,     0.57157,     0.57257,     0.57357,     0.57457,     0.57558,\n",
              "           0.57658,     0.57758,     0.57858,     0.57958,     0.58058,     0.58158,     0.58258,     0.58358,     0.58458,     0.58559,     0.58659,     0.58759,     0.58859,     0.58959,     0.59059,     0.59159,     0.59259,     0.59359,     0.59459,      0.5956,      0.5966,      0.5976,      0.5986,      0.5996,\n",
              "            0.6006,      0.6016,      0.6026,      0.6036,      0.6046,     0.60561,     0.60661,     0.60761,     0.60861,     0.60961,     0.61061,     0.61161,     0.61261,     0.61361,     0.61461,     0.61562,     0.61662,     0.61762,     0.61862,     0.61962,     0.62062,     0.62162,     0.62262,     0.62362,\n",
              "           0.62462,     0.62563,     0.62663,     0.62763,     0.62863,     0.62963,     0.63063,     0.63163,     0.63263,     0.63363,     0.63463,     0.63564,     0.63664,     0.63764,     0.63864,     0.63964,     0.64064,     0.64164,     0.64264,     0.64364,     0.64464,     0.64565,     0.64665,     0.64765,\n",
              "           0.64865,     0.64965,     0.65065,     0.65165,     0.65265,     0.65365,     0.65465,     0.65566,     0.65666,     0.65766,     0.65866,     0.65966,     0.66066,     0.66166,     0.66266,     0.66366,     0.66466,     0.66567,     0.66667,     0.66767,     0.66867,     0.66967,     0.67067,     0.67167,\n",
              "           0.67267,     0.67367,     0.67467,     0.67568,     0.67668,     0.67768,     0.67868,     0.67968,     0.68068,     0.68168,     0.68268,     0.68368,     0.68468,     0.68569,     0.68669,     0.68769,     0.68869,     0.68969,     0.69069,     0.69169,     0.69269,     0.69369,     0.69469,      0.6957,\n",
              "            0.6967,      0.6977,      0.6987,      0.6997,      0.7007,      0.7017,      0.7027,      0.7037,      0.7047,     0.70571,     0.70671,     0.70771,     0.70871,     0.70971,     0.71071,     0.71171,     0.71271,     0.71371,     0.71471,     0.71572,     0.71672,     0.71772,     0.71872,     0.71972,\n",
              "           0.72072,     0.72172,     0.72272,     0.72372,     0.72472,     0.72573,     0.72673,     0.72773,     0.72873,     0.72973,     0.73073,     0.73173,     0.73273,     0.73373,     0.73473,     0.73574,     0.73674,     0.73774,     0.73874,     0.73974,     0.74074,     0.74174,     0.74274,     0.74374,\n",
              "           0.74474,     0.74575,     0.74675,     0.74775,     0.74875,     0.74975,     0.75075,     0.75175,     0.75275,     0.75375,     0.75475,     0.75576,     0.75676,     0.75776,     0.75876,     0.75976,     0.76076,     0.76176,     0.76276,     0.76376,     0.76476,     0.76577,     0.76677,     0.76777,\n",
              "           0.76877,     0.76977,     0.77077,     0.77177,     0.77277,     0.77377,     0.77477,     0.77578,     0.77678,     0.77778,     0.77878,     0.77978,     0.78078,     0.78178,     0.78278,     0.78378,     0.78478,     0.78579,     0.78679,     0.78779,     0.78879,     0.78979,     0.79079,     0.79179,\n",
              "           0.79279,     0.79379,     0.79479,      0.7958,      0.7968,      0.7978,      0.7988,      0.7998,      0.8008,      0.8018,      0.8028,      0.8038,      0.8048,     0.80581,     0.80681,     0.80781,     0.80881,     0.80981,     0.81081,     0.81181,     0.81281,     0.81381,     0.81481,     0.81582,\n",
              "           0.81682,     0.81782,     0.81882,     0.81982,     0.82082,     0.82182,     0.82282,     0.82382,     0.82482,     0.82583,     0.82683,     0.82783,     0.82883,     0.82983,     0.83083,     0.83183,     0.83283,     0.83383,     0.83483,     0.83584,     0.83684,     0.83784,     0.83884,     0.83984,\n",
              "           0.84084,     0.84184,     0.84284,     0.84384,     0.84484,     0.84585,     0.84685,     0.84785,     0.84885,     0.84985,     0.85085,     0.85185,     0.85285,     0.85385,     0.85485,     0.85586,     0.85686,     0.85786,     0.85886,     0.85986,     0.86086,     0.86186,     0.86286,     0.86386,\n",
              "           0.86486,     0.86587,     0.86687,     0.86787,     0.86887,     0.86987,     0.87087,     0.87187,     0.87287,     0.87387,     0.87487,     0.87588,     0.87688,     0.87788,     0.87888,     0.87988,     0.88088,     0.88188,     0.88288,     0.88388,     0.88488,     0.88589,     0.88689,     0.88789,\n",
              "           0.88889,     0.88989,     0.89089,     0.89189,     0.89289,     0.89389,     0.89489,      0.8959,      0.8969,      0.8979,      0.8989,      0.8999,      0.9009,      0.9019,      0.9029,      0.9039,      0.9049,     0.90591,     0.90691,     0.90791,     0.90891,     0.90991,     0.91091,     0.91191,\n",
              "           0.91291,     0.91391,     0.91491,     0.91592,     0.91692,     0.91792,     0.91892,     0.91992,     0.92092,     0.92192,     0.92292,     0.92392,     0.92492,     0.92593,     0.92693,     0.92793,     0.92893,     0.92993,     0.93093,     0.93193,     0.93293,     0.93393,     0.93493,     0.93594,\n",
              "           0.93694,     0.93794,     0.93894,     0.93994,     0.94094,     0.94194,     0.94294,     0.94394,     0.94494,     0.94595,     0.94695,     0.94795,     0.94895,     0.94995,     0.95095,     0.95195,     0.95295,     0.95395,     0.95495,     0.95596,     0.95696,     0.95796,     0.95896,     0.95996,\n",
              "           0.96096,     0.96196,     0.96296,     0.96396,     0.96496,     0.96597,     0.96697,     0.96797,     0.96897,     0.96997,     0.97097,     0.97197,     0.97297,     0.97397,     0.97497,     0.97598,     0.97698,     0.97798,     0.97898,     0.97998,     0.98098,     0.98198,     0.98298,     0.98398,\n",
              "           0.98498,     0.98599,     0.98699,     0.98799,     0.98899,     0.98999,     0.99099,     0.99199,     0.99299,     0.99399,     0.99499,       0.996,       0.997,       0.998,       0.999,           1]), array([[     0.2549,      0.2549,     0.50845, ...,           1,           1,           1],\n",
              "       [   0.098592,    0.098592,     0.15727, ...,           1,           1,           1],\n",
              "       [    0.23529,     0.23529,      0.3546, ...,           1,           1,           1],\n",
              "       [   0.058608,    0.058608,    0.098024, ...,           1,           1,           1]]), 'Confidence', 'Precision'], [array([          0,    0.001001,    0.002002,    0.003003,    0.004004,    0.005005,    0.006006,    0.007007,    0.008008,    0.009009,     0.01001,    0.011011,    0.012012,    0.013013,    0.014014,    0.015015,    0.016016,    0.017017,    0.018018,    0.019019,     0.02002,    0.021021,    0.022022,    0.023023,\n",
              "          0.024024,    0.025025,    0.026026,    0.027027,    0.028028,    0.029029,     0.03003,    0.031031,    0.032032,    0.033033,    0.034034,    0.035035,    0.036036,    0.037037,    0.038038,    0.039039,     0.04004,    0.041041,    0.042042,    0.043043,    0.044044,    0.045045,    0.046046,    0.047047,\n",
              "          0.048048,    0.049049,     0.05005,    0.051051,    0.052052,    0.053053,    0.054054,    0.055055,    0.056056,    0.057057,    0.058058,    0.059059,     0.06006,    0.061061,    0.062062,    0.063063,    0.064064,    0.065065,    0.066066,    0.067067,    0.068068,    0.069069,     0.07007,    0.071071,\n",
              "          0.072072,    0.073073,    0.074074,    0.075075,    0.076076,    0.077077,    0.078078,    0.079079,     0.08008,    0.081081,    0.082082,    0.083083,    0.084084,    0.085085,    0.086086,    0.087087,    0.088088,    0.089089,     0.09009,    0.091091,    0.092092,    0.093093,    0.094094,    0.095095,\n",
              "          0.096096,    0.097097,    0.098098,    0.099099,      0.1001,      0.1011,      0.1021,      0.1031,      0.1041,     0.10511,     0.10611,     0.10711,     0.10811,     0.10911,     0.11011,     0.11111,     0.11211,     0.11311,     0.11411,     0.11512,     0.11612,     0.11712,     0.11812,     0.11912,\n",
              "           0.12012,     0.12112,     0.12212,     0.12312,     0.12412,     0.12513,     0.12613,     0.12713,     0.12813,     0.12913,     0.13013,     0.13113,     0.13213,     0.13313,     0.13413,     0.13514,     0.13614,     0.13714,     0.13814,     0.13914,     0.14014,     0.14114,     0.14214,     0.14314,\n",
              "           0.14414,     0.14515,     0.14615,     0.14715,     0.14815,     0.14915,     0.15015,     0.15115,     0.15215,     0.15315,     0.15415,     0.15516,     0.15616,     0.15716,     0.15816,     0.15916,     0.16016,     0.16116,     0.16216,     0.16316,     0.16416,     0.16517,     0.16617,     0.16717,\n",
              "           0.16817,     0.16917,     0.17017,     0.17117,     0.17217,     0.17317,     0.17417,     0.17518,     0.17618,     0.17718,     0.17818,     0.17918,     0.18018,     0.18118,     0.18218,     0.18318,     0.18418,     0.18519,     0.18619,     0.18719,     0.18819,     0.18919,     0.19019,     0.19119,\n",
              "           0.19219,     0.19319,     0.19419,      0.1952,      0.1962,      0.1972,      0.1982,      0.1992,      0.2002,      0.2012,      0.2022,      0.2032,      0.2042,     0.20521,     0.20621,     0.20721,     0.20821,     0.20921,     0.21021,     0.21121,     0.21221,     0.21321,     0.21421,     0.21522,\n",
              "           0.21622,     0.21722,     0.21822,     0.21922,     0.22022,     0.22122,     0.22222,     0.22322,     0.22422,     0.22523,     0.22623,     0.22723,     0.22823,     0.22923,     0.23023,     0.23123,     0.23223,     0.23323,     0.23423,     0.23524,     0.23624,     0.23724,     0.23824,     0.23924,\n",
              "           0.24024,     0.24124,     0.24224,     0.24324,     0.24424,     0.24525,     0.24625,     0.24725,     0.24825,     0.24925,     0.25025,     0.25125,     0.25225,     0.25325,     0.25425,     0.25526,     0.25626,     0.25726,     0.25826,     0.25926,     0.26026,     0.26126,     0.26226,     0.26326,\n",
              "           0.26426,     0.26527,     0.26627,     0.26727,     0.26827,     0.26927,     0.27027,     0.27127,     0.27227,     0.27327,     0.27427,     0.27528,     0.27628,     0.27728,     0.27828,     0.27928,     0.28028,     0.28128,     0.28228,     0.28328,     0.28428,     0.28529,     0.28629,     0.28729,\n",
              "           0.28829,     0.28929,     0.29029,     0.29129,     0.29229,     0.29329,     0.29429,      0.2953,      0.2963,      0.2973,      0.2983,      0.2993,      0.3003,      0.3013,      0.3023,      0.3033,      0.3043,     0.30531,     0.30631,     0.30731,     0.30831,     0.30931,     0.31031,     0.31131,\n",
              "           0.31231,     0.31331,     0.31431,     0.31532,     0.31632,     0.31732,     0.31832,     0.31932,     0.32032,     0.32132,     0.32232,     0.32332,     0.32432,     0.32533,     0.32633,     0.32733,     0.32833,     0.32933,     0.33033,     0.33133,     0.33233,     0.33333,     0.33433,     0.33534,\n",
              "           0.33634,     0.33734,     0.33834,     0.33934,     0.34034,     0.34134,     0.34234,     0.34334,     0.34434,     0.34535,     0.34635,     0.34735,     0.34835,     0.34935,     0.35035,     0.35135,     0.35235,     0.35335,     0.35435,     0.35536,     0.35636,     0.35736,     0.35836,     0.35936,\n",
              "           0.36036,     0.36136,     0.36236,     0.36336,     0.36436,     0.36537,     0.36637,     0.36737,     0.36837,     0.36937,     0.37037,     0.37137,     0.37237,     0.37337,     0.37437,     0.37538,     0.37638,     0.37738,     0.37838,     0.37938,     0.38038,     0.38138,     0.38238,     0.38338,\n",
              "           0.38438,     0.38539,     0.38639,     0.38739,     0.38839,     0.38939,     0.39039,     0.39139,     0.39239,     0.39339,     0.39439,      0.3954,      0.3964,      0.3974,      0.3984,      0.3994,      0.4004,      0.4014,      0.4024,      0.4034,      0.4044,     0.40541,     0.40641,     0.40741,\n",
              "           0.40841,     0.40941,     0.41041,     0.41141,     0.41241,     0.41341,     0.41441,     0.41542,     0.41642,     0.41742,     0.41842,     0.41942,     0.42042,     0.42142,     0.42242,     0.42342,     0.42442,     0.42543,     0.42643,     0.42743,     0.42843,     0.42943,     0.43043,     0.43143,\n",
              "           0.43243,     0.43343,     0.43443,     0.43544,     0.43644,     0.43744,     0.43844,     0.43944,     0.44044,     0.44144,     0.44244,     0.44344,     0.44444,     0.44545,     0.44645,     0.44745,     0.44845,     0.44945,     0.45045,     0.45145,     0.45245,     0.45345,     0.45445,     0.45546,\n",
              "           0.45646,     0.45746,     0.45846,     0.45946,     0.46046,     0.46146,     0.46246,     0.46346,     0.46446,     0.46547,     0.46647,     0.46747,     0.46847,     0.46947,     0.47047,     0.47147,     0.47247,     0.47347,     0.47447,     0.47548,     0.47648,     0.47748,     0.47848,     0.47948,\n",
              "           0.48048,     0.48148,     0.48248,     0.48348,     0.48448,     0.48549,     0.48649,     0.48749,     0.48849,     0.48949,     0.49049,     0.49149,     0.49249,     0.49349,     0.49449,      0.4955,      0.4965,      0.4975,      0.4985,      0.4995,      0.5005,      0.5015,      0.5025,      0.5035,\n",
              "            0.5045,     0.50551,     0.50651,     0.50751,     0.50851,     0.50951,     0.51051,     0.51151,     0.51251,     0.51351,     0.51451,     0.51552,     0.51652,     0.51752,     0.51852,     0.51952,     0.52052,     0.52152,     0.52252,     0.52352,     0.52452,     0.52553,     0.52653,     0.52753,\n",
              "           0.52853,     0.52953,     0.53053,     0.53153,     0.53253,     0.53353,     0.53453,     0.53554,     0.53654,     0.53754,     0.53854,     0.53954,     0.54054,     0.54154,     0.54254,     0.54354,     0.54454,     0.54555,     0.54655,     0.54755,     0.54855,     0.54955,     0.55055,     0.55155,\n",
              "           0.55255,     0.55355,     0.55455,     0.55556,     0.55656,     0.55756,     0.55856,     0.55956,     0.56056,     0.56156,     0.56256,     0.56356,     0.56456,     0.56557,     0.56657,     0.56757,     0.56857,     0.56957,     0.57057,     0.57157,     0.57257,     0.57357,     0.57457,     0.57558,\n",
              "           0.57658,     0.57758,     0.57858,     0.57958,     0.58058,     0.58158,     0.58258,     0.58358,     0.58458,     0.58559,     0.58659,     0.58759,     0.58859,     0.58959,     0.59059,     0.59159,     0.59259,     0.59359,     0.59459,      0.5956,      0.5966,      0.5976,      0.5986,      0.5996,\n",
              "            0.6006,      0.6016,      0.6026,      0.6036,      0.6046,     0.60561,     0.60661,     0.60761,     0.60861,     0.60961,     0.61061,     0.61161,     0.61261,     0.61361,     0.61461,     0.61562,     0.61662,     0.61762,     0.61862,     0.61962,     0.62062,     0.62162,     0.62262,     0.62362,\n",
              "           0.62462,     0.62563,     0.62663,     0.62763,     0.62863,     0.62963,     0.63063,     0.63163,     0.63263,     0.63363,     0.63463,     0.63564,     0.63664,     0.63764,     0.63864,     0.63964,     0.64064,     0.64164,     0.64264,     0.64364,     0.64464,     0.64565,     0.64665,     0.64765,\n",
              "           0.64865,     0.64965,     0.65065,     0.65165,     0.65265,     0.65365,     0.65465,     0.65566,     0.65666,     0.65766,     0.65866,     0.65966,     0.66066,     0.66166,     0.66266,     0.66366,     0.66466,     0.66567,     0.66667,     0.66767,     0.66867,     0.66967,     0.67067,     0.67167,\n",
              "           0.67267,     0.67367,     0.67467,     0.67568,     0.67668,     0.67768,     0.67868,     0.67968,     0.68068,     0.68168,     0.68268,     0.68368,     0.68468,     0.68569,     0.68669,     0.68769,     0.68869,     0.68969,     0.69069,     0.69169,     0.69269,     0.69369,     0.69469,      0.6957,\n",
              "            0.6967,      0.6977,      0.6987,      0.6997,      0.7007,      0.7017,      0.7027,      0.7037,      0.7047,     0.70571,     0.70671,     0.70771,     0.70871,     0.70971,     0.71071,     0.71171,     0.71271,     0.71371,     0.71471,     0.71572,     0.71672,     0.71772,     0.71872,     0.71972,\n",
              "           0.72072,     0.72172,     0.72272,     0.72372,     0.72472,     0.72573,     0.72673,     0.72773,     0.72873,     0.72973,     0.73073,     0.73173,     0.73273,     0.73373,     0.73473,     0.73574,     0.73674,     0.73774,     0.73874,     0.73974,     0.74074,     0.74174,     0.74274,     0.74374,\n",
              "           0.74474,     0.74575,     0.74675,     0.74775,     0.74875,     0.74975,     0.75075,     0.75175,     0.75275,     0.75375,     0.75475,     0.75576,     0.75676,     0.75776,     0.75876,     0.75976,     0.76076,     0.76176,     0.76276,     0.76376,     0.76476,     0.76577,     0.76677,     0.76777,\n",
              "           0.76877,     0.76977,     0.77077,     0.77177,     0.77277,     0.77377,     0.77477,     0.77578,     0.77678,     0.77778,     0.77878,     0.77978,     0.78078,     0.78178,     0.78278,     0.78378,     0.78478,     0.78579,     0.78679,     0.78779,     0.78879,     0.78979,     0.79079,     0.79179,\n",
              "           0.79279,     0.79379,     0.79479,      0.7958,      0.7968,      0.7978,      0.7988,      0.7998,      0.8008,      0.8018,      0.8028,      0.8038,      0.8048,     0.80581,     0.80681,     0.80781,     0.80881,     0.80981,     0.81081,     0.81181,     0.81281,     0.81381,     0.81481,     0.81582,\n",
              "           0.81682,     0.81782,     0.81882,     0.81982,     0.82082,     0.82182,     0.82282,     0.82382,     0.82482,     0.82583,     0.82683,     0.82783,     0.82883,     0.82983,     0.83083,     0.83183,     0.83283,     0.83383,     0.83483,     0.83584,     0.83684,     0.83784,     0.83884,     0.83984,\n",
              "           0.84084,     0.84184,     0.84284,     0.84384,     0.84484,     0.84585,     0.84685,     0.84785,     0.84885,     0.84985,     0.85085,     0.85185,     0.85285,     0.85385,     0.85485,     0.85586,     0.85686,     0.85786,     0.85886,     0.85986,     0.86086,     0.86186,     0.86286,     0.86386,\n",
              "           0.86486,     0.86587,     0.86687,     0.86787,     0.86887,     0.86987,     0.87087,     0.87187,     0.87287,     0.87387,     0.87487,     0.87588,     0.87688,     0.87788,     0.87888,     0.87988,     0.88088,     0.88188,     0.88288,     0.88388,     0.88488,     0.88589,     0.88689,     0.88789,\n",
              "           0.88889,     0.88989,     0.89089,     0.89189,     0.89289,     0.89389,     0.89489,      0.8959,      0.8969,      0.8979,      0.8989,      0.8999,      0.9009,      0.9019,      0.9029,      0.9039,      0.9049,     0.90591,     0.90691,     0.90791,     0.90891,     0.90991,     0.91091,     0.91191,\n",
              "           0.91291,     0.91391,     0.91491,     0.91592,     0.91692,     0.91792,     0.91892,     0.91992,     0.92092,     0.92192,     0.92292,     0.92392,     0.92492,     0.92593,     0.92693,     0.92793,     0.92893,     0.92993,     0.93093,     0.93193,     0.93293,     0.93393,     0.93493,     0.93594,\n",
              "           0.93694,     0.93794,     0.93894,     0.93994,     0.94094,     0.94194,     0.94294,     0.94394,     0.94494,     0.94595,     0.94695,     0.94795,     0.94895,     0.94995,     0.95095,     0.95195,     0.95295,     0.95395,     0.95495,     0.95596,     0.95696,     0.95796,     0.95896,     0.95996,\n",
              "           0.96096,     0.96196,     0.96296,     0.96396,     0.96496,     0.96597,     0.96697,     0.96797,     0.96897,     0.96997,     0.97097,     0.97197,     0.97297,     0.97397,     0.97497,     0.97598,     0.97698,     0.97798,     0.97898,     0.97998,     0.98098,     0.98198,     0.98298,     0.98398,\n",
              "           0.98498,     0.98599,     0.98699,     0.98799,     0.98899,     0.98999,     0.99099,     0.99199,     0.99299,     0.99399,     0.99499,       0.996,       0.997,       0.998,       0.999,           1]), array([[    0.92857,     0.92857,     0.92857, ...,           0,           0,           0],\n",
              "       [          1,           1,           1, ...,           0,           0,           0],\n",
              "       [          1,           1,           1, ...,           0,           0,           0],\n",
              "       [    0.88889,     0.88889,     0.83333, ...,           0,           0,           0]]), 'Confidence', 'Recall']]\n",
              "fitness: 0.8687171747209079\n",
              "keys: ['metrics/precision(B)', 'metrics/recall(B)', 'metrics/mAP50(B)', 'metrics/mAP50-95(B)']\n",
              "maps: array([    0.79251,     0.95485,     0.97728,     0.72109])\n",
              "names: {0: 'Gala', 1: 'Golden', 2: 'Granny', 3: 'Red'}\n",
              "plot: True\n",
              "results_dict: {'metrics/precision(B)': 0.9779975807667063, 'metrics/recall(B)': 0.9138366234465091, 'metrics/mAP50(B)': 0.9342668549108607, 'metrics/mAP50-95(B)': 0.8614338769220243, 'fitness': 0.8687171747209079}\n",
              "save_dir: PosixPath('runs/detect/exp-YOLOV5N')\n",
              "speed: {'preprocess': 0.17251337275785558, 'inference': 1.0290040689356188, 'loss': 0.0005399479585535386, 'postprocess': 1.2552597943474264}\n",
              "task: 'detect'"
            ]
          },
          "metadata": {},
          "execution_count": 7
        }
      ],
      "source": [
        "from ultralytics import YOLO\n",
        "\n",
        "model = YOLO(\"yolov5nu.pt\")  # Entrenamiento con pesos pre-entrenados\n",
        "\n",
        "#model = YOLO(\"yolov5s.yaml\") # Entrenamiento desde cero, revisar los modelos en https://docs.ultralytics.com/models/yolov5/#supported-tasks-and-modes\n",
        "# NOTA: Yolov5su  has moved towards an anchor-free, objectness-free approach. Sin embargo los detalles arquitectonicos son no cambian, solo el cabezal de detección\n",
        "\n",
        "model.train(\n",
        "    data=r\"/content/Manzanas-clases-1/data.yaml\",\n",
        "    task=\"detect\",\n",
        "    mode='train',\n",
        "    epochs=50,          # Número de épocas de entrenamiento\n",
        "    patience=100,       # Paciencia para el early stopping\n",
        "    batch=16,           # Tamaño del batch\n",
        "    imgsz=640,          # Tamaño de la imagen\n",
        "    save=True,          # Guardar el modelo después de entrenar\n",
        "    cache=False,        # Usar caché de datos\n",
        "    device=None,        # Dispositivo para el entrenamiento (None para auto-detectar)\n",
        "    workers=8,          # Número de workers para el data loading\n",
        "    pretrained=True,    # Usar pesos pre-entrenados\n",
        "    optimizer='auto',   # Optimizador\n",
        "    verbose=True,       # Imprimir información durante el entrenamiento\n",
        "    seed=0,             # Semilla para la reproducibilidad\n",
        "    deterministic=True, # Asegurar entrenamiento determinista\n",
        "    amp=True,           # Mixed precision training\n",
        "    val=True,           # Validar después de cada época\n",
        "    split='val',        # División para validación\n",
        "    iou=0.7,            # Umbral de IoU\n",
        "    max_det=300,        # Máximo número de detecciones por imagen\n",
        "    lr0=0.01,           # Tasa de aprendizaje inicial\n",
        "    lrf=0.01,           # Factor de reducción de la tasa de aprendizaje\n",
        "    momentum=0.937,     # Momento para SGD\n",
        "    weight_decay=0.0005,# Decaimiento de peso\n",
        "    warmup_epochs=3.0,  # Número de épocas de calentamiento\n",
        "    warmup_momentum=0.8,# Momento durante el calentamiento\n",
        "    warmup_bias_lr=0.1, # Tasa de aprendizaje para el sesgo durante el calentamiento\n",
        "    box=7.5,            # Pérdida de la caja\n",
        "    cls=0.5,            # Pérdida de la clase\n",
        "    dfl=1.5,            # Pérdida de distribución focal\n",
        "    mosaic=1.0,         # Probabilidad de aplicar la técnica de mosaic\n",
        "    auto_augment='randaugment', # Tipo de aumento automático\n",
        "    erasing=0.4,        # Probabilidad de borrado aleatorio\n",
        "    save_dir='runs/detect/train', # Directorio para guardar los resultados\n",
        "    name = 'exp-YOLOV5N'\n",
        ")\n"
      ]
    },
    {
      "cell_type": "markdown",
      "metadata": {
        "id": "zbMtlbhVwdKp"
      },
      "source": [
        "## Evaluación del modelo entrenado"
      ]
    },
    {
      "cell_type": "markdown",
      "metadata": {
        "id": "EC7Eh3yUwdKq"
      },
      "source": [
        "https://docs.ultralytics.com/modes/val/"
      ]
    },
    {
      "cell_type": "code",
      "execution_count": 8,
      "metadata": {
        "colab": {
          "base_uri": "https://localhost:8080/"
        },
        "id": "vRRYgAorwdKq",
        "outputId": "06839de4-880e-45b6-e4f0-254a9a5ebd70"
      },
      "outputs": [
        {
          "output_type": "stream",
          "name": "stdout",
          "text": [
            "Ultralytics YOLOv8.2.69 🚀 Python-3.10.12 torch-2.3.1+cu121 CUDA:0 (NVIDIA L4, 22700MiB)\n",
            "YOLOv5n summary (fused): 193 layers, 2,503,724 parameters, 0 gradients, 7.1 GFLOPs\n"
          ]
        },
        {
          "output_type": "stream",
          "name": "stderr",
          "text": [
            "\u001b[34m\u001b[1mval: \u001b[0mScanning /content/Manzanas-clases-1/test/labels... 32 images, 2 backgrounds, 0 corrupt: 100%|██████████| 32/32 [00:00<00:00, 1427.88it/s]"
          ]
        },
        {
          "output_type": "stream",
          "name": "stdout",
          "text": [
            "\u001b[34m\u001b[1mval: \u001b[0mNew cache created: /content/Manzanas-clases-1/test/labels.cache\n"
          ]
        },
        {
          "output_type": "stream",
          "name": "stderr",
          "text": [
            "\n",
            "os.fork() was called. os.fork() is incompatible with multithreaded code, and JAX is multithreaded, so this will likely lead to a deadlock.\n",
            "                 Class     Images  Instances      Box(P          R      mAP50  mAP50-95): 100%|██████████| 2/2 [00:00<00:00,  2.42it/s]\n"
          ]
        },
        {
          "output_type": "stream",
          "name": "stdout",
          "text": [
            "                   all         32         30      0.978       0.91      0.965      0.887\n",
            "                  Gala          8          8      0.993          1      0.995      0.938\n",
            "                Golden          8          8      0.936       0.75      0.874      0.744\n",
            "                Granny          8          8          1      0.891      0.995      0.953\n",
            "                   Red          6          6      0.984          1      0.995      0.912\n",
            "Speed: 0.2ms preprocess, 11.4ms inference, 0.0ms loss, 0.7ms postprocess per image\n",
            "Results saved to \u001b[1mruns/detect/Metrics-test-exp-YOLOV5N\u001b[0m\n"
          ]
        }
      ],
      "source": [
        "metrics = model.val(imgsz = 640, split = 'test', plots = True, name = 'Metrics-test-exp-YOLOV5N')"
      ]
    },
    {
      "cell_type": "code",
      "execution_count": 9,
      "metadata": {
        "colab": {
          "base_uri": "https://localhost:8080/"
        },
        "id": "R5jz54B6wdKq",
        "outputId": "66ac8cd9-431d-4e8c-a039-a84ee725d183"
      },
      "outputs": [
        {
          "output_type": "stream",
          "name": "stdout",
          "text": [
            "Ultralytics YOLOv8.2.69 🚀 Python-3.10.12 torch-2.3.1+cu121 CUDA:0 (NVIDIA L4, 22700MiB)\n"
          ]
        },
        {
          "output_type": "stream",
          "name": "stderr",
          "text": [
            "\u001b[34m\u001b[1mval: \u001b[0mScanning /content/Manzanas-clases-1/valid/labels.cache... 68 images, 6 backgrounds, 0 corrupt: 100%|██████████| 68/68 [00:00<?, ?it/s]\n",
            "os.fork() was called. os.fork() is incompatible with multithreaded code, and JAX is multithreaded, so this will likely lead to a deadlock.\n",
            "                 Class     Images  Instances      Box(P          R      mAP50  mAP50-95): 100%|██████████| 5/5 [00:02<00:00,  2.23it/s]\n"
          ]
        },
        {
          "output_type": "stream",
          "name": "stdout",
          "text": [
            "                   all         68         62      0.978      0.914      0.934      0.862\n",
            "                  Gala         14         14      0.995      0.857       0.91      0.793\n",
            "                Golden         14         14      0.989          1      0.995      0.955\n",
            "                Granny         16         16      0.994          1      0.995      0.977\n",
            "                   Red         18         18      0.935      0.799      0.837      0.721\n",
            "Speed: 0.2ms preprocess, 9.6ms inference, 0.0ms loss, 14.7ms postprocess per image\n",
            "Results saved to \u001b[1mruns/detect/Metrics-val-exp-YOLOV5N\u001b[0m\n"
          ]
        }
      ],
      "source": [
        "metrics = model.val(imgsz = 640, split = 'val', plots = True, name = 'Metrics-val-exp-YOLOV5N')"
      ]
    },
    {
      "cell_type": "code",
      "execution_count": 10,
      "metadata": {
        "colab": {
          "base_uri": "https://localhost:8080/"
        },
        "id": "6Fb7RZyBwdKq",
        "outputId": "0a256d12-8bd2-4a85-b8f3-f0f959e8f7b7"
      },
      "outputs": [
        {
          "output_type": "stream",
          "name": "stdout",
          "text": [
            "Ultralytics YOLOv8.2.69 🚀 Python-3.10.12 torch-2.3.1+cu121 CUDA:0 (NVIDIA L4, 22700MiB)\n"
          ]
        },
        {
          "output_type": "stream",
          "name": "stderr",
          "text": [
            "\u001b[34m\u001b[1mval: \u001b[0mScanning /content/Manzanas-clases-1/train/labels.cache... 684 images, 73 backgrounds, 0 corrupt: 100%|██████████| 684/684 [00:00<?, ?it/s]\n",
            "os.fork() was called. os.fork() is incompatible with multithreaded code, and JAX is multithreaded, so this will likely lead to a deadlock.\n",
            "                 Class     Images  Instances      Box(P          R      mAP50  mAP50-95): 100%|██████████| 43/43 [00:05<00:00,  8.47it/s]\n"
          ]
        },
        {
          "output_type": "stream",
          "name": "stdout",
          "text": [
            "                   all        684        611      0.992      0.952      0.978      0.905\n",
            "                  Gala        144        144          1      0.995      0.995      0.933\n",
            "                Golden        141        141      0.998      0.979      0.994      0.919\n",
            "                Granny        162        162      0.999          1      0.995      0.936\n",
            "                   Red        164        164      0.972      0.835      0.929      0.831\n",
            "Speed: 0.2ms preprocess, 2.7ms inference, 0.0ms loss, 1.4ms postprocess per image\n",
            "Results saved to \u001b[1mruns/detect/Metrics-train-exp-YOLOV5N\u001b[0m\n"
          ]
        }
      ],
      "source": [
        "metrics = model.val(imgsz = 640, split = 'train', plots = True, name = 'Metrics-train-exp-YOLOV5N')"
      ]
    },
    {
      "cell_type": "markdown",
      "metadata": {
        "id": "n0-ugdH4wdKr"
      },
      "source": [
        "# Predicciones"
      ]
    },
    {
      "cell_type": "code",
      "execution_count": 11,
      "metadata": {
        "id": "XhsE5JRNwdKr"
      },
      "outputs": [],
      "source": [
        "from ultralytics import YOLO\n",
        "model = YOLO(r\"/content/runs/detect/exp-YOLOV5N/weights/best.pt\")"
      ]
    },
    {
      "cell_type": "code",
      "execution_count": 12,
      "metadata": {
        "colab": {
          "base_uri": "https://localhost:8080/"
        },
        "collapsed": true,
        "id": "M1UmksDhwdKs",
        "outputId": "593259c7-5706-4423-cd25-da1eb96d70a9"
      },
      "outputs": [
        {
          "output_type": "stream",
          "name": "stdout",
          "text": [
            "\n",
            "image 1/1 /content/Manzanas-clases-1/test/images/Gala-s-6-_png.rf.2ddd212561fc365b60df9f2bf901d896.jpg: 640x640 1 Gala, 10.1ms\n",
            "Speed: 2.7ms preprocess, 10.1ms inference, 2.0ms postprocess per image at shape (1, 3, 640, 640)\n",
            "Results saved to \u001b[1mruns/detect/predict\u001b[0m\n"
          ]
        },
        {
          "output_type": "execute_result",
          "data": {
            "text/plain": [
              "[ultralytics.engine.results.Results object with attributes:\n",
              " \n",
              " boxes: ultralytics.engine.results.Boxes object\n",
              " keypoints: None\n",
              " masks: None\n",
              " names: {0: 'Gala', 1: 'Golden', 2: 'Granny', 3: 'Red'}\n",
              " obb: None\n",
              " orig_img: array([[[158, 158, 158],\n",
              "         [163, 163, 163],\n",
              "         [168, 168, 168],\n",
              "         ...,\n",
              "         [236, 236, 236],\n",
              "         [239, 239, 239],\n",
              "         [239, 239, 239]],\n",
              " \n",
              "        [[161, 161, 161],\n",
              "         [167, 167, 167],\n",
              "         [172, 172, 172],\n",
              "         ...,\n",
              "         [233, 233, 233],\n",
              "         [235, 235, 235],\n",
              "         [235, 235, 235]],\n",
              " \n",
              "        [[166, 166, 166],\n",
              "         [172, 172, 172],\n",
              "         [177, 177, 177],\n",
              "         ...,\n",
              "         [229, 229, 229],\n",
              "         [231, 231, 231],\n",
              "         [232, 232, 232]],\n",
              " \n",
              "        ...,\n",
              " \n",
              "        [[142, 142, 142],\n",
              "         [140, 140, 140],\n",
              "         [136, 136, 136],\n",
              "         ...,\n",
              "         [112, 112, 112],\n",
              "         [110, 110, 110],\n",
              "         [109, 109, 109]],\n",
              " \n",
              "        [[135, 135, 135],\n",
              "         [133, 133, 133],\n",
              "         [129, 129, 129],\n",
              "         ...,\n",
              "         [112, 112, 112],\n",
              "         [110, 110, 110],\n",
              "         [109, 109, 109]],\n",
              " \n",
              "        [[132, 132, 132],\n",
              "         [129, 129, 129],\n",
              "         [125, 125, 125],\n",
              "         ...,\n",
              "         [113, 113, 113],\n",
              "         [111, 111, 111],\n",
              "         [109, 109, 109]]], dtype=uint8)\n",
              " orig_shape: (640, 640)\n",
              " path: '/content/Manzanas-clases-1/test/images/Gala-s-6-_png.rf.2ddd212561fc365b60df9f2bf901d896.jpg'\n",
              " probs: None\n",
              " save_dir: 'runs/detect/predict'\n",
              " speed: {'preprocess': 2.658367156982422, 'inference': 10.116815567016602, 'postprocess': 2.0411014556884766}]"
            ]
          },
          "metadata": {},
          "execution_count": 12
        }
      ],
      "source": [
        "model.predict(r\"/content/Manzanas-clases-1/test/images/Gala-s-6-_png.rf.2ddd212561fc365b60df9f2bf901d896.jpg\", save=True, imgsz=640, conf=0.36)"
      ]
    },
    {
      "cell_type": "code",
      "execution_count": 13,
      "metadata": {
        "colab": {
          "base_uri": "https://localhost:8080/"
        },
        "collapsed": true,
        "id": "9VogtoEGwdKs",
        "outputId": "e95235bc-78e6-449b-cf1e-0667e6dd1130"
      },
      "outputs": [
        {
          "output_type": "stream",
          "name": "stdout",
          "text": [
            "\n",
            "image 1/32 /content/Manzanas-clases-1/test/images/Gala-s-6-_png.rf.2ddd212561fc365b60df9f2bf901d896.jpg: 640x640 1 Gala, 9.9ms\n",
            "image 2/32 /content/Manzanas-clases-1/test/images/Gala-s-6-_png.rf.8129b37fd3984e25aa229699ec685449.jpg: 640x640 1 Gala, 8.5ms\n",
            "image 3/32 /content/Manzanas-clases-1/test/images/Gala-s-6-_png.rf.86e5f40968115b6f9f24b80848690e2c.jpg: 640x640 1 Gala, 8.1ms\n",
            "image 4/32 /content/Manzanas-clases-1/test/images/Gala-s-6-_png.rf.a57c2e370a44c6a4e93b5b872e2b5af0.jpg: 640x640 1 Gala, 9.9ms\n",
            "image 5/32 /content/Manzanas-clases-1/test/images/Gala-s-8-_png.rf.0a042eec877411fdc72a88c29a262320.jpg: 640x640 1 Gala, 7.9ms\n",
            "image 6/32 /content/Manzanas-clases-1/test/images/Gala-s-8-_png.rf.1e2cc253c3065eb2d741a39d33094d35.jpg: 640x640 1 Gala, 7.8ms\n",
            "image 7/32 /content/Manzanas-clases-1/test/images/Gala-s-8-_png.rf.834ee0c55e9c326c22cbcb6c139e6cb6.jpg: 640x640 1 Gala, 7.8ms\n",
            "image 8/32 /content/Manzanas-clases-1/test/images/Gala-s-8-_png.rf.d1b96e412c898ded9dc1185c10f4bed5.jpg: 640x640 1 Gala, 7.4ms\n",
            "image 9/32 /content/Manzanas-clases-1/test/images/Golden-s-27-_png.rf.4491ca3c1cb14d033fb2feff3d7b84bf.jpg: 640x640 1 Golden, 7.8ms\n",
            "image 10/32 /content/Manzanas-clases-1/test/images/Golden-s-27-_png.rf.5bdc01bf067cf8f8e69f0ddb28d84f1f.jpg: 640x640 1 Golden, 7.6ms\n",
            "image 11/32 /content/Manzanas-clases-1/test/images/Golden-s-27-_png.rf.d41232f46b86c71ebd16c5e542b1e4e5.jpg: 640x640 1 Golden, 7.8ms\n",
            "image 12/32 /content/Manzanas-clases-1/test/images/Golden-s-27-_png.rf.d5359c704712693ac332050e7d405b6e.jpg: 640x640 1 Golden, 8.0ms\n",
            "image 13/32 /content/Manzanas-clases-1/test/images/Golden-s-33-_png.rf.2525aa520cd54f0cc9141dee4498a3a3.jpg: 640x640 (no detections), 8.1ms\n",
            "image 14/32 /content/Manzanas-clases-1/test/images/Golden-s-33-_png.rf.745d2114be5bd7698fd94ba0210c9f36.jpg: 640x640 1 Golden, 7.8ms\n",
            "image 15/32 /content/Manzanas-clases-1/test/images/Golden-s-33-_png.rf.77343fc7a8a3e3179d2722d3d4412575.jpg: 640x640 1 Golden, 8.2ms\n",
            "image 16/32 /content/Manzanas-clases-1/test/images/Golden-s-33-_png.rf.8c6c51dd313a1f338b99a9402f956ed8.jpg: 640x640 1 Golden, 8.3ms\n",
            "image 17/32 /content/Manzanas-clases-1/test/images/Granny-s-5-_png.rf.07df22bafc8b795b4fca4a20f90eb572.jpg: 640x640 1 Granny, 8.0ms\n",
            "image 18/32 /content/Manzanas-clases-1/test/images/Granny-s-5-_png.rf.178d0d7cdebbb9a0e85dd1e62106e7b3.jpg: 640x640 1 Granny, 11.2ms\n",
            "image 19/32 /content/Manzanas-clases-1/test/images/Granny-s-5-_png.rf.79bf35679952c860b23574b1b7755cb3.jpg: 640x640 1 Granny, 8.1ms\n",
            "image 20/32 /content/Manzanas-clases-1/test/images/Granny-s-5-_png.rf.d809a9b484dbce194e356e0c6c587c9e.jpg: 640x640 1 Granny, 11.0ms\n",
            "image 21/32 /content/Manzanas-clases-1/test/images/Granny-s-8-_png.rf.35f3d007dbc8a8a34eaa746613fe2770.jpg: 640x640 1 Granny, 9.7ms\n",
            "image 22/32 /content/Manzanas-clases-1/test/images/Granny-s-8-_png.rf.748243f77437bcb502380806bbdfc9a0.jpg: 640x640 1 Granny, 11.0ms\n",
            "image 23/32 /content/Manzanas-clases-1/test/images/Granny-s-8-_png.rf.88effb4d527bedd8ca143845c9804d9b.jpg: 640x640 1 Granny, 10.0ms\n",
            "image 24/32 /content/Manzanas-clases-1/test/images/Granny-s-8-_png.rf.f5b6eecd11a010832c2d78a01f3c0e76.jpg: 640x640 1 Granny, 9.4ms\n",
            "image 25/32 /content/Manzanas-clases-1/test/images/ManzanaV_19_jpg.rf.25ba111050184965be246a7ac421fa0e.jpg: 640x640 1 Red, 8.1ms\n",
            "image 26/32 /content/Manzanas-clases-1/test/images/ManzanaV_19_jpg.rf.2989f823819f2d6e9c0ff15c8795f134.jpg: 640x640 1 Red, 8.1ms\n",
            "image 27/32 /content/Manzanas-clases-1/test/images/ManzanaV_19_jpg.rf.53a86f9ad6f2ade09dc67ea48d5643bc.jpg: 640x640 1 Red, 7.9ms\n",
            "image 28/32 /content/Manzanas-clases-1/test/images/ManzanaV_19_jpg.rf.fe30c13a47caa9cbb2cf30768564afea.jpg: 640x640 1 Red, 7.6ms\n",
            "image 29/32 /content/Manzanas-clases-1/test/images/ManzanaV_5_jpg.rf.37fa923629936695a13044b17d105cd2.jpg: 640x640 (no detections), 7.7ms\n",
            "image 30/32 /content/Manzanas-clases-1/test/images/ManzanaV_5_jpg.rf.3d3ed7d16f619e66a7f7f54d315e7574.jpg: 640x640 (no detections), 7.6ms\n",
            "image 31/32 /content/Manzanas-clases-1/test/images/ManzanaV_5_jpg.rf.b366f5ece8b8b833c170cb6662c61199.jpg: 640x640 1 Red, 7.5ms\n",
            "image 32/32 /content/Manzanas-clases-1/test/images/ManzanaV_5_jpg.rf.d22055fb987c53a23621cfb4b16669ed.jpg: 640x640 1 Red, 7.5ms\n",
            "Speed: 1.8ms preprocess, 8.5ms inference, 1.3ms postprocess per image at shape (1, 3, 640, 640)\n",
            "Results saved to \u001b[1mruns/detect/predict\u001b[0m\n",
            "29 labels saved to runs/detect/predict/labels\n"
          ]
        },
        {
          "output_type": "execute_result",
          "data": {
            "text/plain": [
              "[ultralytics.engine.results.Results object with attributes:\n",
              " \n",
              " boxes: ultralytics.engine.results.Boxes object\n",
              " keypoints: None\n",
              " masks: None\n",
              " names: {0: 'Gala', 1: 'Golden', 2: 'Granny', 3: 'Red'}\n",
              " obb: None\n",
              " orig_img: array([[[158, 158, 158],\n",
              "         [163, 163, 163],\n",
              "         [168, 168, 168],\n",
              "         ...,\n",
              "         [236, 236, 236],\n",
              "         [239, 239, 239],\n",
              "         [239, 239, 239]],\n",
              " \n",
              "        [[161, 161, 161],\n",
              "         [167, 167, 167],\n",
              "         [172, 172, 172],\n",
              "         ...,\n",
              "         [233, 233, 233],\n",
              "         [235, 235, 235],\n",
              "         [235, 235, 235]],\n",
              " \n",
              "        [[166, 166, 166],\n",
              "         [172, 172, 172],\n",
              "         [177, 177, 177],\n",
              "         ...,\n",
              "         [229, 229, 229],\n",
              "         [231, 231, 231],\n",
              "         [232, 232, 232]],\n",
              " \n",
              "        ...,\n",
              " \n",
              "        [[142, 142, 142],\n",
              "         [140, 140, 140],\n",
              "         [136, 136, 136],\n",
              "         ...,\n",
              "         [112, 112, 112],\n",
              "         [110, 110, 110],\n",
              "         [109, 109, 109]],\n",
              " \n",
              "        [[135, 135, 135],\n",
              "         [133, 133, 133],\n",
              "         [129, 129, 129],\n",
              "         ...,\n",
              "         [112, 112, 112],\n",
              "         [110, 110, 110],\n",
              "         [109, 109, 109]],\n",
              " \n",
              "        [[132, 132, 132],\n",
              "         [129, 129, 129],\n",
              "         [125, 125, 125],\n",
              "         ...,\n",
              "         [113, 113, 113],\n",
              "         [111, 111, 111],\n",
              "         [109, 109, 109]]], dtype=uint8)\n",
              " orig_shape: (640, 640)\n",
              " path: '/content/Manzanas-clases-1/test/images/Gala-s-6-_png.rf.2ddd212561fc365b60df9f2bf901d896.jpg'\n",
              " probs: None\n",
              " save_dir: 'runs/detect/predict'\n",
              " speed: {'preprocess': 2.4213790893554688, 'inference': 9.93967056274414, 'postprocess': 1.9257068634033203},\n",
              " ultralytics.engine.results.Results object with attributes:\n",
              " \n",
              " boxes: ultralytics.engine.results.Boxes object\n",
              " keypoints: None\n",
              " masks: None\n",
              " names: {0: 'Gala', 1: 'Golden', 2: 'Granny', 3: 'Red'}\n",
              " obb: None\n",
              " orig_img: array([[[124, 124, 124],\n",
              "         [124, 124, 124],\n",
              "         [124, 124, 124],\n",
              "         ...,\n",
              "         [ 38,  38,  38],\n",
              "         [ 37,  37,  37],\n",
              "         [ 36,  36,  36]],\n",
              " \n",
              "        [[124, 124, 124],\n",
              "         [124, 124, 124],\n",
              "         [124, 124, 124],\n",
              "         ...,\n",
              "         [ 41,  41,  41],\n",
              "         [ 39,  39,  39],\n",
              "         [ 38,  38,  38]],\n",
              " \n",
              "        [[118, 118, 118],\n",
              "         [118, 118, 118],\n",
              "         [118, 118, 118],\n",
              "         ...,\n",
              "         [ 46,  46,  46],\n",
              "         [ 43,  43,  43],\n",
              "         [ 42,  42,  42]],\n",
              " \n",
              "        ...,\n",
              " \n",
              "        [[ 97,  97,  97],\n",
              "         [ 97,  97,  97],\n",
              "         [100, 100, 100],\n",
              "         ...,\n",
              "         [236, 236, 236],\n",
              "         [238, 238, 238],\n",
              "         [240, 240, 240]],\n",
              " \n",
              "        [[ 90,  90,  90],\n",
              "         [ 90,  90,  90],\n",
              "         [ 94,  94,  94],\n",
              "         ...,\n",
              "         [238, 238, 238],\n",
              "         [241, 241, 241],\n",
              "         [244, 244, 244]],\n",
              " \n",
              "        [[ 86,  86,  86],\n",
              "         [ 86,  86,  86],\n",
              "         [ 91,  91,  91],\n",
              "         ...,\n",
              "         [239, 239, 239],\n",
              "         [243, 243, 243],\n",
              "         [247, 247, 247]]], dtype=uint8)\n",
              " orig_shape: (640, 640)\n",
              " path: '/content/Manzanas-clases-1/test/images/Gala-s-6-_png.rf.8129b37fd3984e25aa229699ec685449.jpg'\n",
              " probs: None\n",
              " save_dir: 'runs/detect/predict'\n",
              " speed: {'preprocess': 1.5861988067626953, 'inference': 8.469820022583008, 'postprocess': 1.352548599243164},\n",
              " ultralytics.engine.results.Results object with attributes:\n",
              " \n",
              " boxes: ultralytics.engine.results.Boxes object\n",
              " keypoints: None\n",
              " masks: None\n",
              " names: {0: 'Gala', 1: 'Golden', 2: 'Granny', 3: 'Red'}\n",
              " obb: None\n",
              " orig_img: array([[[ 46,  46,  46],\n",
              "         [ 47,  47,  47],\n",
              "         [ 49,  49,  49],\n",
              "         ...,\n",
              "         [104, 104, 104],\n",
              "         [109, 109, 109],\n",
              "         [113, 113, 113]],\n",
              " \n",
              "        [[ 48,  48,  48],\n",
              "         [ 49,  49,  49],\n",
              "         [ 51,  51,  51],\n",
              "         ...,\n",
              "         [105, 105, 105],\n",
              "         [110, 110, 110],\n",
              "         [113, 113, 113]],\n",
              " \n",
              "        [[ 50,  50,  50],\n",
              "         [ 51,  51,  51],\n",
              "         [ 53,  53,  53],\n",
              "         ...,\n",
              "         [ 90,  90,  90],\n",
              "         [ 94,  94,  94],\n",
              "         [ 96,  96,  96]],\n",
              " \n",
              "        ...,\n",
              " \n",
              "        [[ 50,  50,  50],\n",
              "         [ 74,  74,  74],\n",
              "         [117, 117, 117],\n",
              "         ...,\n",
              "         [ 69,  69,  69],\n",
              "         [ 54,  54,  54],\n",
              "         [ 43,  43,  43]],\n",
              " \n",
              "        [[ 50,  50,  50],\n",
              "         [ 75,  75,  75],\n",
              "         [114, 114, 114],\n",
              "         ...,\n",
              "         [ 58,  58,  58],\n",
              "         [ 45,  45,  45],\n",
              "         [ 36,  36,  36]],\n",
              " \n",
              "        [[ 50,  50,  50],\n",
              "         [ 76,  76,  76],\n",
              "         [114, 114, 114],\n",
              "         ...,\n",
              "         [ 55,  55,  55],\n",
              "         [ 44,  44,  44],\n",
              "         [ 36,  36,  36]]], dtype=uint8)\n",
              " orig_shape: (640, 640)\n",
              " path: '/content/Manzanas-clases-1/test/images/Gala-s-6-_png.rf.86e5f40968115b6f9f24b80848690e2c.jpg'\n",
              " probs: None\n",
              " save_dir: 'runs/detect/predict'\n",
              " speed: {'preprocess': 1.5802383422851562, 'inference': 8.070230484008789, 'postprocess': 1.2793540954589844},\n",
              " ultralytics.engine.results.Results object with attributes:\n",
              " \n",
              " boxes: ultralytics.engine.results.Boxes object\n",
              " keypoints: None\n",
              " masks: None\n",
              " names: {0: 'Gala', 1: 'Golden', 2: 'Granny', 3: 'Red'}\n",
              " obb: None\n",
              " orig_img: array([[[ 30,  30,  30],\n",
              "         [ 54,  54,  54],\n",
              "         [ 83,  83,  83],\n",
              "         ...,\n",
              "         [ 46,  46,  46],\n",
              "         [ 39,  39,  39],\n",
              "         [ 34,  34,  34]],\n",
              " \n",
              "        [[ 35,  35,  35],\n",
              "         [ 57,  57,  57],\n",
              "         [ 83,  83,  83],\n",
              "         ...,\n",
              "         [ 42,  42,  42],\n",
              "         [ 36,  36,  36],\n",
              "         [ 32,  32,  32]],\n",
              " \n",
              "        [[ 27,  27,  27],\n",
              "         [ 46,  46,  46],\n",
              "         [ 67,  67,  67],\n",
              "         ...,\n",
              "         [ 38,  38,  38],\n",
              "         [ 34,  34,  34],\n",
              "         [ 30,  30,  30]],\n",
              " \n",
              "        ...,\n",
              " \n",
              "        [[131, 131, 131],\n",
              "         [131, 131, 131],\n",
              "         [131, 131, 131],\n",
              "         ...,\n",
              "         [127, 127, 127],\n",
              "         [134, 134, 134],\n",
              "         [138, 138, 138]],\n",
              " \n",
              "        [[129, 129, 129],\n",
              "         [129, 129, 129],\n",
              "         [129, 129, 129],\n",
              "         ...,\n",
              "         [123, 123, 123],\n",
              "         [130, 130, 130],\n",
              "         [135, 135, 135]],\n",
              " \n",
              "        [[131, 131, 131],\n",
              "         [131, 131, 131],\n",
              "         [131, 131, 131],\n",
              "         ...,\n",
              "         [120, 120, 120],\n",
              "         [128, 128, 128],\n",
              "         [132, 132, 132]]], dtype=uint8)\n",
              " orig_shape: (640, 640)\n",
              " path: '/content/Manzanas-clases-1/test/images/Gala-s-6-_png.rf.a57c2e370a44c6a4e93b5b872e2b5af0.jpg'\n",
              " probs: None\n",
              " save_dir: 'runs/detect/predict'\n",
              " speed: {'preprocess': 1.4650821685791016, 'inference': 9.937763214111328, 'postprocess': 1.3642311096191406},\n",
              " ultralytics.engine.results.Results object with attributes:\n",
              " \n",
              " boxes: ultralytics.engine.results.Boxes object\n",
              " keypoints: None\n",
              " masks: None\n",
              " names: {0: 'Gala', 1: 'Golden', 2: 'Granny', 3: 'Red'}\n",
              " obb: None\n",
              " orig_img: array([[[ 33,  33,  33],\n",
              "         [ 52,  52,  52],\n",
              "         [ 76,  76,  76],\n",
              "         ...,\n",
              "         [128, 128, 128],\n",
              "         [134, 134, 134],\n",
              "         [134, 134, 134]],\n",
              " \n",
              "        [[ 32,  32,  32],\n",
              "         [ 50,  50,  50],\n",
              "         [ 71,  71,  71],\n",
              "         ...,\n",
              "         [131, 131, 131],\n",
              "         [131, 131, 131],\n",
              "         [129, 129, 129]],\n",
              " \n",
              "        [[ 34,  34,  34],\n",
              "         [ 49,  49,  49],\n",
              "         [ 66,  66,  66],\n",
              "         ...,\n",
              "         [131, 131, 131],\n",
              "         [113, 113, 113],\n",
              "         [100, 100, 100]],\n",
              " \n",
              "        ...,\n",
              " \n",
              "        [[132, 132, 132],\n",
              "         [137, 137, 137],\n",
              "         [144, 144, 144],\n",
              "         ...,\n",
              "         [143, 143, 143],\n",
              "         [144, 144, 144],\n",
              "         [144, 144, 144]],\n",
              " \n",
              "        [[136, 136, 136],\n",
              "         [140, 140, 140],\n",
              "         [146, 146, 146],\n",
              "         ...,\n",
              "         [139, 139, 139],\n",
              "         [139, 139, 139],\n",
              "         [139, 139, 139]],\n",
              " \n",
              "        [[140, 140, 140],\n",
              "         [143, 143, 143],\n",
              "         [149, 149, 149],\n",
              "         ...,\n",
              "         [136, 136, 136],\n",
              "         [135, 135, 135],\n",
              "         [135, 135, 135]]], dtype=uint8)\n",
              " orig_shape: (640, 640)\n",
              " path: '/content/Manzanas-clases-1/test/images/Gala-s-8-_png.rf.0a042eec877411fdc72a88c29a262320.jpg'\n",
              " probs: None\n",
              " save_dir: 'runs/detect/predict'\n",
              " speed: {'preprocess': 1.5475749969482422, 'inference': 7.930517196655273, 'postprocess': 1.256704330444336},\n",
              " ultralytics.engine.results.Results object with attributes:\n",
              " \n",
              " boxes: ultralytics.engine.results.Boxes object\n",
              " keypoints: None\n",
              " masks: None\n",
              " names: {0: 'Gala', 1: 'Golden', 2: 'Granny', 3: 'Red'}\n",
              " obb: None\n",
              " orig_img: array([[[120, 120, 120],\n",
              "         [116, 116, 116],\n",
              "         [113, 113, 113],\n",
              "         ...,\n",
              "         [235, 235, 235],\n",
              "         [238, 238, 238],\n",
              "         [240, 240, 240]],\n",
              " \n",
              "        [[118, 118, 118],\n",
              "         [114, 114, 114],\n",
              "         [113, 113, 113],\n",
              "         ...,\n",
              "         [232, 232, 232],\n",
              "         [235, 235, 235],\n",
              "         [237, 237, 237]],\n",
              " \n",
              "        [[116, 116, 116],\n",
              "         [114, 114, 114],\n",
              "         [115, 115, 115],\n",
              "         ...,\n",
              "         [227, 227, 227],\n",
              "         [231, 231, 231],\n",
              "         [233, 233, 233]],\n",
              " \n",
              "        ...,\n",
              " \n",
              "        [[150, 150, 150],\n",
              "         [150, 150, 150],\n",
              "         [146, 146, 146],\n",
              "         ...,\n",
              "         [108, 108, 108],\n",
              "         [107, 107, 107],\n",
              "         [106, 106, 106]],\n",
              " \n",
              "        [[138, 138, 138],\n",
              "         [137, 137, 137],\n",
              "         [131, 131, 131],\n",
              "         ...,\n",
              "         [110, 110, 110],\n",
              "         [110, 110, 110],\n",
              "         [110, 110, 110]],\n",
              " \n",
              "        [[142, 142, 142],\n",
              "         [139, 139, 139],\n",
              "         [132, 132, 132],\n",
              "         ...,\n",
              "         [112, 112, 112],\n",
              "         [112, 112, 112],\n",
              "         [112, 112, 112]]], dtype=uint8)\n",
              " orig_shape: (640, 640)\n",
              " path: '/content/Manzanas-clases-1/test/images/Gala-s-8-_png.rf.1e2cc253c3065eb2d741a39d33094d35.jpg'\n",
              " probs: None\n",
              " save_dir: 'runs/detect/predict'\n",
              " speed: {'preprocess': 1.4643669128417969, 'inference': 7.785320281982422, 'postprocess': 1.2323856353759766},\n",
              " ultralytics.engine.results.Results object with attributes:\n",
              " \n",
              " boxes: ultralytics.engine.results.Boxes object\n",
              " keypoints: None\n",
              " masks: None\n",
              " names: {0: 'Gala', 1: 'Golden', 2: 'Granny', 3: 'Red'}\n",
              " obb: None\n",
              " orig_img: array([[[ 63,  63,  63],\n",
              "         [ 61,  61,  61],\n",
              "         [ 58,  58,  58],\n",
              "         ...,\n",
              "         [ 79,  79,  79],\n",
              "         [ 81,  81,  81],\n",
              "         [ 81,  81,  81]],\n",
              " \n",
              "        [[ 61,  61,  61],\n",
              "         [ 59,  59,  59],\n",
              "         [ 57,  57,  57],\n",
              "         ...,\n",
              "         [ 74,  74,  74],\n",
              "         [ 78,  78,  78],\n",
              "         [ 79,  79,  79]],\n",
              " \n",
              "        [[ 60,  60,  60],\n",
              "         [ 58,  58,  58],\n",
              "         [ 56,  56,  56],\n",
              "         ...,\n",
              "         [ 67,  67,  67],\n",
              "         [ 71,  71,  71],\n",
              "         [ 73,  73,  73]],\n",
              " \n",
              "        ...,\n",
              " \n",
              "        [[ 48,  48,  48],\n",
              "         [ 76,  76,  76],\n",
              "         [114, 114, 114],\n",
              "         ...,\n",
              "         [ 32,  32,  32],\n",
              "         [ 31,  31,  31],\n",
              "         [ 28,  28,  28]],\n",
              " \n",
              "        [[ 40,  40,  40],\n",
              "         [ 63,  63,  63],\n",
              "         [ 95,  95,  95],\n",
              "         ...,\n",
              "         [ 11,  11,  11],\n",
              "         [ 17,  17,  17],\n",
              "         [ 19,  19,  19]],\n",
              " \n",
              "        [[ 48,  48,  48],\n",
              "         [ 68,  68,  68],\n",
              "         [ 94,  94,  94],\n",
              "         ...,\n",
              "         [  7,   7,   7],\n",
              "         [ 11,  11,  11],\n",
              "         [ 15,  15,  15]]], dtype=uint8)\n",
              " orig_shape: (640, 640)\n",
              " path: '/content/Manzanas-clases-1/test/images/Gala-s-8-_png.rf.834ee0c55e9c326c22cbcb6c139e6cb6.jpg'\n",
              " probs: None\n",
              " save_dir: 'runs/detect/predict'\n",
              " speed: {'preprocess': 1.4460086822509766, 'inference': 7.783412933349609, 'postprocess': 1.2116432189941406},\n",
              " ultralytics.engine.results.Results object with attributes:\n",
              " \n",
              " boxes: ultralytics.engine.results.Boxes object\n",
              " keypoints: None\n",
              " masks: None\n",
              " names: {0: 'Gala', 1: 'Golden', 2: 'Granny', 3: 'Red'}\n",
              " obb: None\n",
              " orig_img: array([[[ 77,  77,  77],\n",
              "         [ 76,  76,  76],\n",
              "         [ 75,  75,  75],\n",
              "         ...,\n",
              "         [ 31,  31,  31],\n",
              "         [ 29,  29,  29],\n",
              "         [ 28,  28,  28]],\n",
              " \n",
              "        [[ 76,  76,  76],\n",
              "         [ 75,  75,  75],\n",
              "         [ 75,  75,  75],\n",
              "         ...,\n",
              "         [ 32,  32,  32],\n",
              "         [ 32,  32,  32],\n",
              "         [ 33,  33,  33]],\n",
              " \n",
              "        [[ 72,  72,  72],\n",
              "         [ 73,  73,  73],\n",
              "         [ 75,  75,  75],\n",
              "         ...,\n",
              "         [ 35,  35,  35],\n",
              "         [ 38,  38,  38],\n",
              "         [ 40,  40,  40]],\n",
              " \n",
              "        ...,\n",
              " \n",
              "        [[ 39,  39,  39],\n",
              "         [ 28,  28,  28],\n",
              "         [ 15,  15,  15],\n",
              "         ...,\n",
              "         [245, 245, 245],\n",
              "         [247, 247, 247],\n",
              "         [248, 248, 248]],\n",
              " \n",
              "        [[ 26,  26,  26],\n",
              "         [ 18,  18,  18],\n",
              "         [  8,   8,   8],\n",
              "         ...,\n",
              "         [244, 244, 244],\n",
              "         [246, 246, 246],\n",
              "         [248, 248, 248]],\n",
              " \n",
              "        [[ 18,  18,  18],\n",
              "         [ 11,  11,  11],\n",
              "         [  4,   4,   4],\n",
              "         ...,\n",
              "         [243, 243, 243],\n",
              "         [245, 245, 245],\n",
              "         [247, 247, 247]]], dtype=uint8)\n",
              " orig_shape: (640, 640)\n",
              " path: '/content/Manzanas-clases-1/test/images/Gala-s-8-_png.rf.d1b96e412c898ded9dc1185c10f4bed5.jpg'\n",
              " probs: None\n",
              " save_dir: 'runs/detect/predict'\n",
              " speed: {'preprocess': 1.4889240264892578, 'inference': 7.447242736816406, 'postprocess': 1.2133121490478516},\n",
              " ultralytics.engine.results.Results object with attributes:\n",
              " \n",
              " boxes: ultralytics.engine.results.Boxes object\n",
              " keypoints: None\n",
              " masks: None\n",
              " names: {0: 'Gala', 1: 'Golden', 2: 'Granny', 3: 'Red'}\n",
              " obb: None\n",
              " orig_img: array([[[ 76,  76,  76],\n",
              "         [ 76,  76,  76],\n",
              "         [ 76,  76,  76],\n",
              "         ...,\n",
              "         [ 35,  35,  35],\n",
              "         [ 34,  34,  34],\n",
              "         [ 34,  34,  34]],\n",
              " \n",
              "        [[ 76,  76,  76],\n",
              "         [ 76,  76,  76],\n",
              "         [ 76,  76,  76],\n",
              "         ...,\n",
              "         [ 37,  37,  37],\n",
              "         [ 36,  36,  36],\n",
              "         [ 37,  37,  37]],\n",
              " \n",
              "        [[ 76,  76,  76],\n",
              "         [ 76,  76,  76],\n",
              "         [ 76,  76,  76],\n",
              "         ...,\n",
              "         [ 40,  40,  40],\n",
              "         [ 41,  41,  41],\n",
              "         [ 41,  41,  41]],\n",
              " \n",
              "        ...,\n",
              " \n",
              "        [[230, 230, 230],\n",
              "         [230, 230, 230],\n",
              "         [230, 230, 230],\n",
              "         ...,\n",
              "         [217, 217, 217],\n",
              "         [212, 212, 212],\n",
              "         [207, 207, 207]],\n",
              " \n",
              "        [[234, 234, 234],\n",
              "         [234, 234, 234],\n",
              "         [235, 235, 235],\n",
              "         ...,\n",
              "         [209, 209, 209],\n",
              "         [204, 204, 204],\n",
              "         [199, 199, 199]],\n",
              " \n",
              "        [[237, 237, 237],\n",
              "         [237, 237, 237],\n",
              "         [238, 238, 238],\n",
              "         ...,\n",
              "         [204, 204, 204],\n",
              "         [198, 198, 198],\n",
              "         [193, 193, 193]]], dtype=uint8)\n",
              " orig_shape: (640, 640)\n",
              " path: '/content/Manzanas-clases-1/test/images/Golden-s-27-_png.rf.4491ca3c1cb14d033fb2feff3d7b84bf.jpg'\n",
              " probs: None\n",
              " save_dir: 'runs/detect/predict'\n",
              " speed: {'preprocess': 1.4786720275878906, 'inference': 7.803201675415039, 'postprocess': 1.241445541381836},\n",
              " ultralytics.engine.results.Results object with attributes:\n",
              " \n",
              " boxes: ultralytics.engine.results.Boxes object\n",
              " keypoints: None\n",
              " masks: None\n",
              " names: {0: 'Gala', 1: 'Golden', 2: 'Granny', 3: 'Red'}\n",
              " obb: None\n",
              " orig_img: array([[[230, 230, 230],\n",
              "         [230, 230, 230],\n",
              "         [229, 229, 229],\n",
              "         ...,\n",
              "         [190, 190, 190],\n",
              "         [194, 194, 194],\n",
              "         [197, 197, 197]],\n",
              " \n",
              "        [[231, 231, 231],\n",
              "         [230, 230, 230],\n",
              "         [230, 230, 230],\n",
              "         ...,\n",
              "         [191, 191, 191],\n",
              "         [197, 197, 197],\n",
              "         [202, 202, 202]],\n",
              " \n",
              "        [[231, 231, 231],\n",
              "         [231, 231, 231],\n",
              "         [231, 231, 231],\n",
              "         ...,\n",
              "         [193, 193, 193],\n",
              "         [202, 202, 202],\n",
              "         [209, 209, 209]],\n",
              " \n",
              "        ...,\n",
              " \n",
              "        [[ 89,  89,  89],\n",
              "         [ 89,  89,  89],\n",
              "         [ 89,  89,  89],\n",
              "         ...,\n",
              "         [ 53,  53,  53],\n",
              "         [ 50,  50,  50],\n",
              "         [ 48,  48,  48]],\n",
              " \n",
              "        [[ 81,  81,  81],\n",
              "         [ 81,  81,  81],\n",
              "         [ 81,  81,  81],\n",
              "         ...,\n",
              "         [ 51,  51,  51],\n",
              "         [ 49,  49,  49],\n",
              "         [ 49,  49,  49]],\n",
              " \n",
              "        [[ 81,  81,  81],\n",
              "         [ 81,  81,  81],\n",
              "         [ 81,  81,  81],\n",
              "         ...,\n",
              "         [ 49,  49,  49],\n",
              "         [ 49,  49,  49],\n",
              "         [ 48,  48,  48]]], dtype=uint8)\n",
              " orig_shape: (640, 640)\n",
              " path: '/content/Manzanas-clases-1/test/images/Golden-s-27-_png.rf.5bdc01bf067cf8f8e69f0ddb28d84f1f.jpg'\n",
              " probs: None\n",
              " save_dir: 'runs/detect/predict'\n",
              " speed: {'preprocess': 1.4834403991699219, 'inference': 7.570028305053711, 'postprocess': 1.211404800415039},\n",
              " ultralytics.engine.results.Results object with attributes:\n",
              " \n",
              " boxes: ultralytics.engine.results.Boxes object\n",
              " keypoints: None\n",
              " masks: None\n",
              " names: {0: 'Gala', 1: 'Golden', 2: 'Granny', 3: 'Red'}\n",
              " obb: None\n",
              " orig_img: array([[[167, 167, 167],\n",
              "         [179, 179, 179],\n",
              "         [197, 197, 197],\n",
              "         ...,\n",
              "         [228, 228, 228],\n",
              "         [231, 231, 231],\n",
              "         [233, 233, 233]],\n",
              " \n",
              "        [[159, 159, 159],\n",
              "         [174, 174, 174],\n",
              "         [197, 197, 197],\n",
              "         ...,\n",
              "         [229, 229, 229],\n",
              "         [230, 230, 230],\n",
              "         [232, 232, 232]],\n",
              " \n",
              "        [[147, 147, 147],\n",
              "         [166, 166, 166],\n",
              "         [196, 196, 196],\n",
              "         ...,\n",
              "         [231, 231, 231],\n",
              "         [231, 231, 231],\n",
              "         [231, 231, 231]],\n",
              " \n",
              "        ...,\n",
              " \n",
              "        [[ 92,  92,  92],\n",
              "         [ 91,  91,  91],\n",
              "         [ 90,  90,  90],\n",
              "         ...,\n",
              "         [ 96,  96,  96],\n",
              "         [ 97,  97,  97],\n",
              "         [ 96,  96,  96]],\n",
              " \n",
              "        [[ 91,  91,  91],\n",
              "         [ 91,  91,  91],\n",
              "         [ 90,  90,  90],\n",
              "         ...,\n",
              "         [ 90,  90,  90],\n",
              "         [ 91,  91,  91],\n",
              "         [ 90,  90,  90]],\n",
              " \n",
              "        [[ 89,  89,  89],\n",
              "         [ 88,  88,  88],\n",
              "         [ 88,  88,  88],\n",
              "         ...,\n",
              "         [ 88,  88,  88],\n",
              "         [ 91,  91,  91],\n",
              "         [ 91,  91,  91]]], dtype=uint8)\n",
              " orig_shape: (640, 640)\n",
              " path: '/content/Manzanas-clases-1/test/images/Golden-s-27-_png.rf.d41232f46b86c71ebd16c5e542b1e4e5.jpg'\n",
              " probs: None\n",
              " save_dir: 'runs/detect/predict'\n",
              " speed: {'preprocess': 1.4557838439941406, 'inference': 7.800817489624023, 'postprocess': 1.2073516845703125},\n",
              " ultralytics.engine.results.Results object with attributes:\n",
              " \n",
              " boxes: ultralytics.engine.results.Boxes object\n",
              " keypoints: None\n",
              " masks: None\n",
              " names: {0: 'Gala', 1: 'Golden', 2: 'Granny', 3: 'Red'}\n",
              " obb: None\n",
              " orig_img: array([[[ 57,  57,  57],\n",
              "         [ 55,  55,  55],\n",
              "         [ 51,  51,  51],\n",
              "         ...,\n",
              "         [ 75,  75,  75],\n",
              "         [ 74,  74,  74],\n",
              "         [ 74,  74,  74]],\n",
              " \n",
              "        [[ 57,  57,  57],\n",
              "         [ 55,  55,  55],\n",
              "         [ 51,  51,  51],\n",
              "         ...,\n",
              "         [ 72,  72,  72],\n",
              "         [ 72,  72,  72],\n",
              "         [ 71,  71,  71]],\n",
              " \n",
              "        [[ 54,  54,  54],\n",
              "         [ 52,  52,  52],\n",
              "         [ 48,  48,  48],\n",
              "         ...,\n",
              "         [ 72,  72,  72],\n",
              "         [ 72,  72,  72],\n",
              "         [ 72,  72,  72]],\n",
              " \n",
              "        ...,\n",
              " \n",
              "        [[232, 232, 232],\n",
              "         [237, 237, 237],\n",
              "         [242, 242, 242],\n",
              "         ...,\n",
              "         [174, 174, 174],\n",
              "         [172, 172, 172],\n",
              "         [170, 170, 170]],\n",
              " \n",
              "        [[229, 229, 229],\n",
              "         [234, 234, 234],\n",
              "         [240, 240, 240],\n",
              "         ...,\n",
              "         [180, 180, 180],\n",
              "         [177, 177, 177],\n",
              "         [176, 176, 176]],\n",
              " \n",
              "        [[226, 226, 226],\n",
              "         [232, 232, 232],\n",
              "         [239, 239, 239],\n",
              "         ...,\n",
              "         [181, 181, 181],\n",
              "         [178, 178, 178],\n",
              "         [177, 177, 177]]], dtype=uint8)\n",
              " orig_shape: (640, 640)\n",
              " path: '/content/Manzanas-clases-1/test/images/Golden-s-27-_png.rf.d5359c704712693ac332050e7d405b6e.jpg'\n",
              " probs: None\n",
              " save_dir: 'runs/detect/predict'\n",
              " speed: {'preprocess': 1.5866756439208984, 'inference': 8.035898208618164, 'postprocess': 1.2650489807128906},\n",
              " ultralytics.engine.results.Results object with attributes:\n",
              " \n",
              " boxes: ultralytics.engine.results.Boxes object\n",
              " keypoints: None\n",
              " masks: None\n",
              " names: {0: 'Gala', 1: 'Golden', 2: 'Granny', 3: 'Red'}\n",
              " obb: None\n",
              " orig_img: array([[[  0,   0,   0],\n",
              "         [  5,   5,   5],\n",
              "         [ 13,  13,  13],\n",
              "         ...,\n",
              "         [185, 185, 185],\n",
              "         [199, 199, 199],\n",
              "         [208, 208, 208]],\n",
              " \n",
              "        [[  0,   0,   0],\n",
              "         [  5,   5,   5],\n",
              "         [ 13,  13,  13],\n",
              "         ...,\n",
              "         [184, 184, 184],\n",
              "         [199, 199, 199],\n",
              "         [210, 210, 210]],\n",
              " \n",
              "        [[  0,   0,   0],\n",
              "         [  5,   5,   5],\n",
              "         [ 14,  14,  14],\n",
              "         ...,\n",
              "         [182, 182, 182],\n",
              "         [200, 200, 200],\n",
              "         [212, 212, 212]],\n",
              " \n",
              "        ...,\n",
              " \n",
              "        [[ 89,  89,  89],\n",
              "         [ 87,  87,  87],\n",
              "         [ 82,  82,  82],\n",
              "         ...,\n",
              "         [ 42,  42,  42],\n",
              "         [ 38,  38,  38],\n",
              "         [ 35,  35,  35]],\n",
              " \n",
              "        [[ 88,  88,  88],\n",
              "         [ 86,  86,  86],\n",
              "         [ 80,  80,  80],\n",
              "         ...,\n",
              "         [ 42,  42,  42],\n",
              "         [ 38,  38,  38],\n",
              "         [ 35,  35,  35]],\n",
              " \n",
              "        [[ 88,  88,  88],\n",
              "         [ 85,  85,  85],\n",
              "         [ 80,  80,  80],\n",
              "         ...,\n",
              "         [ 42,  42,  42],\n",
              "         [ 39,  39,  39],\n",
              "         [ 37,  37,  37]]], dtype=uint8)\n",
              " orig_shape: (640, 640)\n",
              " path: '/content/Manzanas-clases-1/test/images/Golden-s-33-_png.rf.2525aa520cd54f0cc9141dee4498a3a3.jpg'\n",
              " probs: None\n",
              " save_dir: 'runs/detect/predict'\n",
              " speed: {'preprocess': 1.5048980712890625, 'inference': 8.109092712402344, 'postprocess': 0.5021095275878906},\n",
              " ultralytics.engine.results.Results object with attributes:\n",
              " \n",
              " boxes: ultralytics.engine.results.Boxes object\n",
              " keypoints: None\n",
              " masks: None\n",
              " names: {0: 'Gala', 1: 'Golden', 2: 'Granny', 3: 'Red'}\n",
              " obb: None\n",
              " orig_img: array([[[ 64,  64,  64],\n",
              "         [ 66,  66,  66],\n",
              "         [ 68,  68,  68],\n",
              "         ...,\n",
              "         [ 28,  28,  28],\n",
              "         [ 21,  21,  21],\n",
              "         [ 15,  15,  15]],\n",
              " \n",
              "        [[ 66,  66,  66],\n",
              "         [ 66,  66,  66],\n",
              "         [ 66,  66,  66],\n",
              "         ...,\n",
              "         [ 27,  27,  27],\n",
              "         [ 20,  20,  20],\n",
              "         [ 15,  15,  15]],\n",
              " \n",
              "        [[ 67,  67,  67],\n",
              "         [ 66,  66,  66],\n",
              "         [ 63,  63,  63],\n",
              "         ...,\n",
              "         [ 39,  39,  39],\n",
              "         [ 34,  34,  34],\n",
              "         [ 30,  30,  30]],\n",
              " \n",
              "        ...,\n",
              " \n",
              "        [[ 50,  50,  50],\n",
              "         [ 59,  59,  59],\n",
              "         [ 70,  70,  70],\n",
              "         ...,\n",
              "         [204, 204, 204],\n",
              "         [205, 205, 205],\n",
              "         [207, 207, 207]],\n",
              " \n",
              "        [[ 51,  51,  51],\n",
              "         [ 61,  61,  61],\n",
              "         [ 74,  74,  74],\n",
              "         ...,\n",
              "         [192, 192, 192],\n",
              "         [194, 194, 194],\n",
              "         [198, 198, 198]],\n",
              " \n",
              "        [[ 52,  52,  52],\n",
              "         [ 63,  63,  63],\n",
              "         [ 76,  76,  76],\n",
              "         ...,\n",
              "         [189, 189, 189],\n",
              "         [192, 192, 192],\n",
              "         [196, 196, 196]]], dtype=uint8)\n",
              " orig_shape: (640, 640)\n",
              " path: '/content/Manzanas-clases-1/test/images/Golden-s-33-_png.rf.745d2114be5bd7698fd94ba0210c9f36.jpg'\n",
              " probs: None\n",
              " save_dir: 'runs/detect/predict'\n",
              " speed: {'preprocess': 1.4834403991699219, 'inference': 7.843971252441406, 'postprocess': 1.3470649719238281},\n",
              " ultralytics.engine.results.Results object with attributes:\n",
              " \n",
              " boxes: ultralytics.engine.results.Boxes object\n",
              " keypoints: None\n",
              " masks: None\n",
              " names: {0: 'Gala', 1: 'Golden', 2: 'Granny', 3: 'Red'}\n",
              " obb: None\n",
              " orig_img: array([[[ 60,  60,  60],\n",
              "         [ 56,  56,  56],\n",
              "         [ 50,  50,  50],\n",
              "         ...,\n",
              "         [ 88,  88,  88],\n",
              "         [ 88,  88,  88],\n",
              "         [ 88,  88,  88]],\n",
              " \n",
              "        [[ 61,  61,  61],\n",
              "         [ 57,  57,  57],\n",
              "         [ 52,  52,  52],\n",
              "         ...,\n",
              "         [ 88,  88,  88],\n",
              "         [ 89,  89,  89],\n",
              "         [ 89,  89,  89]],\n",
              " \n",
              "        [[ 61,  61,  61],\n",
              "         [ 58,  58,  58],\n",
              "         [ 54,  54,  54],\n",
              "         ...,\n",
              "         [ 90,  90,  90],\n",
              "         [ 92,  92,  92],\n",
              "         [ 94,  94,  94]],\n",
              " \n",
              "        ...,\n",
              " \n",
              "        [[225, 225, 225],\n",
              "         [236, 236, 236],\n",
              "         [244, 244, 244],\n",
              "         ...,\n",
              "         [ 59,  59,  59],\n",
              "         [ 60,  60,  60],\n",
              "         [ 61,  61,  61]],\n",
              " \n",
              "        [[224, 224, 224],\n",
              "         [236, 236, 236],\n",
              "         [244, 244, 244],\n",
              "         ...,\n",
              "         [ 61,  61,  61],\n",
              "         [ 63,  63,  63],\n",
              "         [ 64,  64,  64]],\n",
              " \n",
              "        [[222, 222, 222],\n",
              "         [234, 234, 234],\n",
              "         [243, 243, 243],\n",
              "         ...,\n",
              "         [ 63,  63,  63],\n",
              "         [ 65,  65,  65],\n",
              "         [ 66,  66,  66]]], dtype=uint8)\n",
              " orig_shape: (640, 640)\n",
              " path: '/content/Manzanas-clases-1/test/images/Golden-s-33-_png.rf.77343fc7a8a3e3179d2722d3d4412575.jpg'\n",
              " probs: None\n",
              " save_dir: 'runs/detect/predict'\n",
              " speed: {'preprocess': 1.5342235565185547, 'inference': 8.231639862060547, 'postprocess': 1.215219497680664},\n",
              " ultralytics.engine.results.Results object with attributes:\n",
              " \n",
              " boxes: ultralytics.engine.results.Boxes object\n",
              " keypoints: None\n",
              " masks: None\n",
              " names: {0: 'Gala', 1: 'Golden', 2: 'Granny', 3: 'Red'}\n",
              " obb: None\n",
              " orig_img: array([[[178, 178, 178],\n",
              "         [186, 186, 186],\n",
              "         [201, 201, 201],\n",
              "         ...,\n",
              "         [166, 166, 166],\n",
              "         [170, 170, 170],\n",
              "         [172, 172, 172]],\n",
              " \n",
              "        [[170, 170, 170],\n",
              "         [180, 180, 180],\n",
              "         [199, 199, 199],\n",
              "         ...,\n",
              "         [165, 165, 165],\n",
              "         [170, 170, 170],\n",
              "         [172, 172, 172]],\n",
              " \n",
              "        [[149, 149, 149],\n",
              "         [164, 164, 164],\n",
              "         [190, 190, 190],\n",
              "         ...,\n",
              "         [164, 164, 164],\n",
              "         [168, 168, 168],\n",
              "         [171, 171, 171]],\n",
              " \n",
              "        ...,\n",
              " \n",
              "        [[139, 139, 139],\n",
              "         [139, 139, 139],\n",
              "         [140, 140, 140],\n",
              "         ...,\n",
              "         [133, 133, 133],\n",
              "         [135, 135, 135],\n",
              "         [136, 136, 136]],\n",
              " \n",
              "        [[143, 143, 143],\n",
              "         [142, 142, 142],\n",
              "         [141, 141, 141],\n",
              "         ...,\n",
              "         [125, 125, 125],\n",
              "         [127, 127, 127],\n",
              "         [127, 127, 127]],\n",
              " \n",
              "        [[146, 146, 146],\n",
              "         [144, 144, 144],\n",
              "         [141, 141, 141],\n",
              "         ...,\n",
              "         [122, 122, 122],\n",
              "         [123, 123, 123],\n",
              "         [122, 122, 122]]], dtype=uint8)\n",
              " orig_shape: (640, 640)\n",
              " path: '/content/Manzanas-clases-1/test/images/Golden-s-33-_png.rf.8c6c51dd313a1f338b99a9402f956ed8.jpg'\n",
              " probs: None\n",
              " save_dir: 'runs/detect/predict'\n",
              " speed: {'preprocess': 1.5513896942138672, 'inference': 8.308649063110352, 'postprocess': 1.3041496276855469},\n",
              " ultralytics.engine.results.Results object with attributes:\n",
              " \n",
              " boxes: ultralytics.engine.results.Boxes object\n",
              " keypoints: None\n",
              " masks: None\n",
              " names: {0: 'Gala', 1: 'Golden', 2: 'Granny', 3: 'Red'}\n",
              " obb: None\n",
              " orig_img: array([[[ 34,  34,  34],\n",
              "         [ 34,  34,  34],\n",
              "         [ 40,  40,  40],\n",
              "         ...,\n",
              "         [ 62,  62,  62],\n",
              "         [ 63,  63,  63],\n",
              "         [ 65,  65,  65]],\n",
              " \n",
              "        [[ 33,  33,  33],\n",
              "         [ 33,  33,  33],\n",
              "         [ 38,  38,  38],\n",
              "         ...,\n",
              "         [ 63,  63,  63],\n",
              "         [ 63,  63,  63],\n",
              "         [ 64,  64,  64]],\n",
              " \n",
              "        [[ 32,  32,  32],\n",
              "         [ 32,  32,  32],\n",
              "         [ 38,  38,  38],\n",
              "         ...,\n",
              "         [ 63,  63,  63],\n",
              "         [ 63,  63,  63],\n",
              "         [ 62,  62,  62]],\n",
              " \n",
              "        ...,\n",
              " \n",
              "        [[210, 210, 210],\n",
              "         [207, 207, 207],\n",
              "         [201, 201, 201],\n",
              "         ...,\n",
              "         [165, 165, 165],\n",
              "         [165, 165, 165],\n",
              "         [167, 167, 167]],\n",
              " \n",
              "        [[226, 226, 226],\n",
              "         [222, 222, 222],\n",
              "         [216, 216, 216],\n",
              "         ...,\n",
              "         [166, 166, 166],\n",
              "         [168, 168, 168],\n",
              "         [171, 171, 171]],\n",
              " \n",
              "        [[228, 228, 228],\n",
              "         [224, 224, 224],\n",
              "         [218, 218, 218],\n",
              "         ...,\n",
              "         [167, 167, 167],\n",
              "         [169, 169, 169],\n",
              "         [173, 173, 173]]], dtype=uint8)\n",
              " orig_shape: (640, 640)\n",
              " path: '/content/Manzanas-clases-1/test/images/Granny-s-5-_png.rf.07df22bafc8b795b4fca4a20f90eb572.jpg'\n",
              " probs: None\n",
              " save_dir: 'runs/detect/predict'\n",
              " speed: {'preprocess': 1.554727554321289, 'inference': 8.040904998779297, 'postprocess': 1.3146400451660156},\n",
              " ultralytics.engine.results.Results object with attributes:\n",
              " \n",
              " boxes: ultralytics.engine.results.Boxes object\n",
              " keypoints: None\n",
              " masks: None\n",
              " names: {0: 'Gala', 1: 'Golden', 2: 'Granny', 3: 'Red'}\n",
              " obb: None\n",
              " orig_img: array([[[ 99,  99,  99],\n",
              "         [ 96,  96,  96],\n",
              "         [ 89,  89,  89],\n",
              "         ...,\n",
              "         [ 33,  33,  33],\n",
              "         [ 32,  32,  32],\n",
              "         [ 31,  31,  31]],\n",
              " \n",
              "        [[101, 101, 101],\n",
              "         [ 98,  98,  98],\n",
              "         [ 91,  91,  91],\n",
              "         ...,\n",
              "         [ 37,  37,  37],\n",
              "         [ 36,  36,  36],\n",
              "         [ 35,  35,  35]],\n",
              " \n",
              "        [[103, 103, 103],\n",
              "         [100, 100, 100],\n",
              "         [ 92,  92,  92],\n",
              "         ...,\n",
              "         [ 41,  41,  41],\n",
              "         [ 40,  40,  40],\n",
              "         [ 38,  38,  38]],\n",
              " \n",
              "        ...,\n",
              " \n",
              "        [[137, 137, 137],\n",
              "         [136, 136, 136],\n",
              "         [136, 136, 136],\n",
              "         ...,\n",
              "         [221, 221, 221],\n",
              "         [226, 226, 226],\n",
              "         [230, 230, 230]],\n",
              " \n",
              "        [[140, 140, 140],\n",
              "         [140, 140, 140],\n",
              "         [140, 140, 140],\n",
              "         ...,\n",
              "         [218, 218, 218],\n",
              "         [224, 224, 224],\n",
              "         [229, 229, 229]],\n",
              " \n",
              "        [[142, 142, 142],\n",
              "         [143, 143, 143],\n",
              "         [143, 143, 143],\n",
              "         ...,\n",
              "         [218, 218, 218],\n",
              "         [224, 224, 224],\n",
              "         [230, 230, 230]]], dtype=uint8)\n",
              " orig_shape: (640, 640)\n",
              " path: '/content/Manzanas-clases-1/test/images/Granny-s-5-_png.rf.178d0d7cdebbb9a0e85dd1e62106e7b3.jpg'\n",
              " probs: None\n",
              " save_dir: 'runs/detect/predict'\n",
              " speed: {'preprocess': 2.005338668823242, 'inference': 11.15107536315918, 'postprocess': 1.6720294952392578},\n",
              " ultralytics.engine.results.Results object with attributes:\n",
              " \n",
              " boxes: ultralytics.engine.results.Boxes object\n",
              " keypoints: None\n",
              " masks: None\n",
              " names: {0: 'Gala', 1: 'Golden', 2: 'Granny', 3: 'Red'}\n",
              " obb: None\n",
              " orig_img: array([[[225, 225, 225],\n",
              "         [220, 220, 220],\n",
              "         [209, 209, 209],\n",
              "         ...,\n",
              "         [135, 135, 135],\n",
              "         [139, 139, 139],\n",
              "         [137, 137, 137]],\n",
              " \n",
              "        [[225, 225, 225],\n",
              "         [220, 220, 220],\n",
              "         [209, 209, 209],\n",
              "         ...,\n",
              "         [134, 134, 134],\n",
              "         [141, 141, 141],\n",
              "         [141, 141, 141]],\n",
              " \n",
              "        [[241, 241, 241],\n",
              "         [233, 233, 233],\n",
              "         [218, 218, 218],\n",
              "         ...,\n",
              "         [132, 132, 132],\n",
              "         [141, 141, 141],\n",
              "         [144, 144, 144]],\n",
              " \n",
              "        ...,\n",
              " \n",
              "        [[ 97,  97,  97],\n",
              "         [ 97,  97,  97],\n",
              "         [ 97,  97,  97],\n",
              "         ...,\n",
              "         [109, 109, 109],\n",
              "         [109, 109, 109],\n",
              "         [110, 110, 110]],\n",
              " \n",
              "        [[ 97,  97,  97],\n",
              "         [ 97,  97,  97],\n",
              "         [ 97,  97,  97],\n",
              "         ...,\n",
              "         [107, 107, 107],\n",
              "         [109, 109, 109],\n",
              "         [110, 110, 110]],\n",
              " \n",
              "        [[ 97,  97,  97],\n",
              "         [ 97,  97,  97],\n",
              "         [ 97,  97,  97],\n",
              "         ...,\n",
              "         [106, 106, 106],\n",
              "         [109, 109, 109],\n",
              "         [112, 112, 112]]], dtype=uint8)\n",
              " orig_shape: (640, 640)\n",
              " path: '/content/Manzanas-clases-1/test/images/Granny-s-5-_png.rf.79bf35679952c860b23574b1b7755cb3.jpg'\n",
              " probs: None\n",
              " save_dir: 'runs/detect/predict'\n",
              " speed: {'preprocess': 1.5130043029785156, 'inference': 8.135795593261719, 'postprocess': 1.2967586517333984},\n",
              " ultralytics.engine.results.Results object with attributes:\n",
              " \n",
              " boxes: ultralytics.engine.results.Boxes object\n",
              " keypoints: None\n",
              " masks: None\n",
              " names: {0: 'Gala', 1: 'Golden', 2: 'Granny', 3: 'Red'}\n",
              " obb: None\n",
              " orig_img: array([[[133, 133, 133],\n",
              "         [132, 132, 132],\n",
              "         [130, 130, 130],\n",
              "         ...,\n",
              "         [238, 238, 238],\n",
              "         [242, 242, 242],\n",
              "         [245, 245, 245]],\n",
              " \n",
              "        [[136, 136, 136],\n",
              "         [135, 135, 135],\n",
              "         [132, 132, 132],\n",
              "         ...,\n",
              "         [239, 239, 239],\n",
              "         [241, 241, 241],\n",
              "         [243, 243, 243]],\n",
              " \n",
              "        [[135, 135, 135],\n",
              "         [134, 134, 134],\n",
              "         [131, 131, 131],\n",
              "         ...,\n",
              "         [240, 240, 240],\n",
              "         [240, 240, 240],\n",
              "         [238, 238, 238]],\n",
              " \n",
              "        ...,\n",
              " \n",
              "        [[110, 110, 110],\n",
              "         [113, 113, 113],\n",
              "         [116, 116, 116],\n",
              "         ...,\n",
              "         [119, 119, 119],\n",
              "         [122, 122, 122],\n",
              "         [124, 124, 124]],\n",
              " \n",
              "        [[107, 107, 107],\n",
              "         [110, 110, 110],\n",
              "         [113, 113, 113],\n",
              "         ...,\n",
              "         [121, 121, 121],\n",
              "         [125, 125, 125],\n",
              "         [128, 128, 128]],\n",
              " \n",
              "        [[103, 103, 103],\n",
              "         [106, 106, 106],\n",
              "         [109, 109, 109],\n",
              "         ...,\n",
              "         [123, 123, 123],\n",
              "         [128, 128, 128],\n",
              "         [130, 130, 130]]], dtype=uint8)\n",
              " orig_shape: (640, 640)\n",
              " path: '/content/Manzanas-clases-1/test/images/Granny-s-5-_png.rf.d809a9b484dbce194e356e0c6c587c9e.jpg'\n",
              " probs: None\n",
              " save_dir: 'runs/detect/predict'\n",
              " speed: {'preprocess': 1.9948482513427734, 'inference': 11.029243469238281, 'postprocess': 1.6713142395019531},\n",
              " ultralytics.engine.results.Results object with attributes:\n",
              " \n",
              " boxes: ultralytics.engine.results.Boxes object\n",
              " keypoints: None\n",
              " masks: None\n",
              " names: {0: 'Gala', 1: 'Golden', 2: 'Granny', 3: 'Red'}\n",
              " obb: None\n",
              " orig_img: array([[[ 46,  46,  46],\n",
              "         [ 46,  46,  46],\n",
              "         [ 47,  47,  47],\n",
              "         ...,\n",
              "         [ 80,  80,  80],\n",
              "         [ 78,  78,  78],\n",
              "         [ 76,  76,  76]],\n",
              " \n",
              "        [[ 47,  47,  47],\n",
              "         [ 46,  46,  46],\n",
              "         [ 45,  45,  45],\n",
              "         ...,\n",
              "         [ 78,  78,  78],\n",
              "         [ 77,  77,  77],\n",
              "         [ 77,  77,  77]],\n",
              " \n",
              "        [[ 51,  51,  51],\n",
              "         [ 49,  49,  49],\n",
              "         [ 46,  46,  46],\n",
              "         ...,\n",
              "         [ 77,  77,  77],\n",
              "         [ 79,  79,  79],\n",
              "         [ 80,  80,  80]],\n",
              " \n",
              "        ...,\n",
              " \n",
              "        [[198, 198, 198],\n",
              "         [199, 199, 199],\n",
              "         [199, 199, 199],\n",
              "         ...,\n",
              "         [ 74,  74,  74],\n",
              "         [ 74,  74,  74],\n",
              "         [ 74,  74,  74]],\n",
              " \n",
              "        [[224, 224, 224],\n",
              "         [223, 223, 223],\n",
              "         [221, 221, 221],\n",
              "         ...,\n",
              "         [ 74,  74,  74],\n",
              "         [ 74,  74,  74],\n",
              "         [ 74,  74,  74]],\n",
              " \n",
              "        [[233, 233, 233],\n",
              "         [230, 230, 230],\n",
              "         [226, 226, 226],\n",
              "         ...,\n",
              "         [ 75,  75,  75],\n",
              "         [ 74,  74,  74],\n",
              "         [ 74,  74,  74]]], dtype=uint8)\n",
              " orig_shape: (640, 640)\n",
              " path: '/content/Manzanas-clases-1/test/images/Granny-s-8-_png.rf.35f3d007dbc8a8a34eaa746613fe2770.jpg'\n",
              " probs: None\n",
              " save_dir: 'runs/detect/predict'\n",
              " speed: {'preprocess': 2.0198822021484375, 'inference': 9.671211242675781, 'postprocess': 1.2674331665039062},\n",
              " ultralytics.engine.results.Results object with attributes:\n",
              " \n",
              " boxes: ultralytics.engine.results.Boxes object\n",
              " keypoints: None\n",
              " masks: None\n",
              " names: {0: 'Gala', 1: 'Golden', 2: 'Granny', 3: 'Red'}\n",
              " obb: None\n",
              " orig_img: array([[[ 97,  97,  97],\n",
              "         [ 98,  98,  98],\n",
              "         [100, 100, 100],\n",
              "         ...,\n",
              "         [ 36,  36,  36],\n",
              "         [ 35,  35,  35],\n",
              "         [ 35,  35,  35]],\n",
              " \n",
              "        [[ 99,  99,  99],\n",
              "         [ 99,  99,  99],\n",
              "         [ 99,  99,  99],\n",
              "         ...,\n",
              "         [ 40,  40,  40],\n",
              "         [ 41,  41,  41],\n",
              "         [ 41,  41,  41]],\n",
              " \n",
              "        [[102, 102, 102],\n",
              "         [101, 101, 101],\n",
              "         [100, 100, 100],\n",
              "         ...,\n",
              "         [ 47,  47,  47],\n",
              "         [ 50,  50,  50],\n",
              "         [ 52,  52,  52]],\n",
              " \n",
              "        ...,\n",
              " \n",
              "        [[149, 149, 149],\n",
              "         [149, 149, 149],\n",
              "         [147, 147, 147],\n",
              "         ...,\n",
              "         [236, 236, 236],\n",
              "         [237, 237, 237],\n",
              "         [239, 239, 239]],\n",
              " \n",
              "        [[149, 149, 149],\n",
              "         [149, 149, 149],\n",
              "         [147, 147, 147],\n",
              "         ...,\n",
              "         [221, 221, 221],\n",
              "         [224, 224, 224],\n",
              "         [227, 227, 227]],\n",
              " \n",
              "        [[149, 149, 149],\n",
              "         [149, 149, 149],\n",
              "         [147, 147, 147],\n",
              "         ...,\n",
              "         [226, 226, 226],\n",
              "         [231, 231, 231],\n",
              "         [235, 235, 235]]], dtype=uint8)\n",
              " orig_shape: (640, 640)\n",
              " path: '/content/Manzanas-clases-1/test/images/Granny-s-8-_png.rf.748243f77437bcb502380806bbdfc9a0.jpg'\n",
              " probs: None\n",
              " save_dir: 'runs/detect/predict'\n",
              " speed: {'preprocess': 1.972198486328125, 'inference': 10.999917984008789, 'postprocess': 1.6887187957763672},\n",
              " ultralytics.engine.results.Results object with attributes:\n",
              " \n",
              " boxes: ultralytics.engine.results.Boxes object\n",
              " keypoints: None\n",
              " masks: None\n",
              " names: {0: 'Gala', 1: 'Golden', 2: 'Granny', 3: 'Red'}\n",
              " obb: None\n",
              " orig_img: array([[[ 94,  94,  94],\n",
              "         [ 95,  95,  95],\n",
              "         [ 95,  95,  95],\n",
              "         ...,\n",
              "         [239, 239, 239],\n",
              "         [242, 242, 242],\n",
              "         [247, 247, 247]],\n",
              " \n",
              "        [[ 94,  94,  94],\n",
              "         [ 95,  95,  95],\n",
              "         [ 95,  95,  95],\n",
              "         ...,\n",
              "         [239, 239, 239],\n",
              "         [241, 241, 241],\n",
              "         [245, 245, 245]],\n",
              " \n",
              "        [[ 94,  94,  94],\n",
              "         [ 95,  95,  95],\n",
              "         [ 95,  95,  95],\n",
              "         ...,\n",
              "         [245, 245, 245],\n",
              "         [244, 244, 244],\n",
              "         [245, 245, 245]],\n",
              " \n",
              "        ...,\n",
              " \n",
              "        [[148, 148, 148],\n",
              "         [147, 147, 147],\n",
              "         [144, 144, 144],\n",
              "         ...,\n",
              "         [131, 131, 131],\n",
              "         [138, 138, 138],\n",
              "         [142, 142, 142]],\n",
              " \n",
              "        [[148, 148, 148],\n",
              "         [146, 146, 146],\n",
              "         [141, 141, 141],\n",
              "         ...,\n",
              "         [137, 137, 137],\n",
              "         [143, 143, 143],\n",
              "         [146, 146, 146]],\n",
              " \n",
              "        [[147, 147, 147],\n",
              "         [143, 143, 143],\n",
              "         [139, 139, 139],\n",
              "         ...,\n",
              "         [140, 140, 140],\n",
              "         [145, 145, 145],\n",
              "         [147, 147, 147]]], dtype=uint8)\n",
              " orig_shape: (640, 640)\n",
              " path: '/content/Manzanas-clases-1/test/images/Granny-s-8-_png.rf.88effb4d527bedd8ca143845c9804d9b.jpg'\n",
              " probs: None\n",
              " save_dir: 'runs/detect/predict'\n",
              " speed: {'preprocess': 2.0275115966796875, 'inference': 9.95635986328125, 'postprocess': 1.2426376342773438},\n",
              " ultralytics.engine.results.Results object with attributes:\n",
              " \n",
              " boxes: ultralytics.engine.results.Boxes object\n",
              " keypoints: None\n",
              " masks: None\n",
              " names: {0: 'Gala', 1: 'Golden', 2: 'Granny', 3: 'Red'}\n",
              " obb: None\n",
              " orig_img: array([[[220, 220, 220],\n",
              "         [215, 215, 215],\n",
              "         [210, 210, 210],\n",
              "         ...,\n",
              "         [ 93,  93,  93],\n",
              "         [ 98,  98,  98],\n",
              "         [102, 102, 102]],\n",
              " \n",
              "        [[230, 230, 230],\n",
              "         [224, 224, 224],\n",
              "         [217, 217, 217],\n",
              "         ...,\n",
              "         [ 93,  93,  93],\n",
              "         [ 97,  97,  97],\n",
              "         [101, 101, 101]],\n",
              " \n",
              "        [[243, 243, 243],\n",
              "         [237, 237, 237],\n",
              "         [227, 227, 227],\n",
              "         ...,\n",
              "         [ 93,  93,  93],\n",
              "         [ 97,  97,  97],\n",
              "         [100, 100, 100]],\n",
              " \n",
              "        ...,\n",
              " \n",
              "        [[135, 135, 135],\n",
              "         [135, 135, 135],\n",
              "         [135, 135, 135],\n",
              "         ...,\n",
              "         [146, 146, 146],\n",
              "         [147, 147, 147],\n",
              "         [148, 148, 148]],\n",
              " \n",
              "        [[138, 138, 138],\n",
              "         [138, 138, 138],\n",
              "         [138, 138, 138],\n",
              "         ...,\n",
              "         [143, 143, 143],\n",
              "         [146, 146, 146],\n",
              "         [147, 147, 147]],\n",
              " \n",
              "        [[141, 141, 141],\n",
              "         [141, 141, 141],\n",
              "         [141, 141, 141],\n",
              "         ...,\n",
              "         [142, 142, 142],\n",
              "         [145, 145, 145],\n",
              "         [146, 146, 146]]], dtype=uint8)\n",
              " orig_shape: (640, 640)\n",
              " path: '/content/Manzanas-clases-1/test/images/Granny-s-8-_png.rf.f5b6eecd11a010832c2d78a01f3c0e76.jpg'\n",
              " probs: None\n",
              " save_dir: 'runs/detect/predict'\n",
              " speed: {'preprocess': 1.9688606262207031, 'inference': 9.422063827514648, 'postprocess': 1.2364387512207031},\n",
              " ultralytics.engine.results.Results object with attributes:\n",
              " \n",
              " boxes: ultralytics.engine.results.Boxes object\n",
              " keypoints: None\n",
              " masks: None\n",
              " names: {0: 'Gala', 1: 'Golden', 2: 'Granny', 3: 'Red'}\n",
              " obb: None\n",
              " orig_img: array([[[238, 238, 238],\n",
              "         [223, 223, 223],\n",
              "         [208, 208, 208],\n",
              "         ...,\n",
              "         [  5,   5,   5],\n",
              "         [  5,   5,   5],\n",
              "         [  5,   5,   5]],\n",
              " \n",
              "        [[239, 239, 239],\n",
              "         [224, 224, 224],\n",
              "         [207, 207, 207],\n",
              "         ...,\n",
              "         [  5,   5,   5],\n",
              "         [  5,   5,   5],\n",
              "         [  5,   5,   5]],\n",
              " \n",
              "        [[239, 239, 239],\n",
              "         [224, 224, 224],\n",
              "         [206, 206, 206],\n",
              "         ...,\n",
              "         [  5,   5,   5],\n",
              "         [  5,   5,   5],\n",
              "         [  5,   5,   5]],\n",
              " \n",
              "        ...,\n",
              " \n",
              "        [[131, 131, 131],\n",
              "         [143, 143, 143],\n",
              "         [159, 159, 159],\n",
              "         ...,\n",
              "         [ 64,  64,  64],\n",
              "         [ 68,  68,  68],\n",
              "         [ 71,  71,  71]],\n",
              " \n",
              "        [[ 93,  93,  93],\n",
              "         [107, 107, 107],\n",
              "         [127, 127, 127],\n",
              "         ...,\n",
              "         [ 73,  73,  73],\n",
              "         [ 75,  75,  75],\n",
              "         [ 76,  76,  76]],\n",
              " \n",
              "        [[ 84,  84,  84],\n",
              "         [100, 100, 100],\n",
              "         [121, 121, 121],\n",
              "         ...,\n",
              "         [ 77,  77,  77],\n",
              "         [ 75,  75,  75],\n",
              "         [ 75,  75,  75]]], dtype=uint8)\n",
              " orig_shape: (640, 640)\n",
              " path: '/content/Manzanas-clases-1/test/images/ManzanaV_19_jpg.rf.25ba111050184965be246a7ac421fa0e.jpg'\n",
              " probs: None\n",
              " save_dir: 'runs/detect/predict'\n",
              " speed: {'preprocess': 1.6856193542480469, 'inference': 8.116722106933594, 'postprocess': 1.2688636779785156},\n",
              " ultralytics.engine.results.Results object with attributes:\n",
              " \n",
              " boxes: ultralytics.engine.results.Boxes object\n",
              " keypoints: None\n",
              " masks: None\n",
              " names: {0: 'Gala', 1: 'Golden', 2: 'Granny', 3: 'Red'}\n",
              " obb: None\n",
              " orig_img: array([[[  7,   7,   7],\n",
              "         [  8,   8,   8],\n",
              "         [  0,   0,   0],\n",
              "         ...,\n",
              "         [144, 144, 144],\n",
              "         [184, 184, 184],\n",
              "         [204, 204, 204]],\n",
              " \n",
              "        [[ 13,  13,  13],\n",
              "         [ 11,  11,  11],\n",
              "         [  1,   1,   1],\n",
              "         ...,\n",
              "         [145, 145, 145],\n",
              "         [187, 187, 187],\n",
              "         [208, 208, 208]],\n",
              " \n",
              "        [[ 20,  20,  20],\n",
              "         [ 15,  15,  15],\n",
              "         [  2,   2,   2],\n",
              "         ...,\n",
              "         [148, 148, 148],\n",
              "         [193, 193, 193],\n",
              "         [215, 215, 215]],\n",
              " \n",
              "        ...,\n",
              " \n",
              "        [[ 78,  78,  78],\n",
              "         [ 79,  79,  79],\n",
              "         [ 79,  79,  79],\n",
              "         ...,\n",
              "         [ 46,  46,  46],\n",
              "         [ 46,  46,  46],\n",
              "         [ 45,  45,  45]],\n",
              " \n",
              "        [[ 78,  78,  78],\n",
              "         [ 79,  79,  79],\n",
              "         [ 79,  79,  79],\n",
              "         ...,\n",
              "         [ 51,  51,  51],\n",
              "         [ 51,  51,  51],\n",
              "         [ 50,  50,  50]],\n",
              " \n",
              "        [[ 78,  78,  78],\n",
              "         [ 79,  79,  79],\n",
              "         [ 79,  79,  79],\n",
              "         ...,\n",
              "         [ 54,  54,  54],\n",
              "         [ 54,  54,  54],\n",
              "         [ 54,  54,  54]]], dtype=uint8)\n",
              " orig_shape: (640, 640)\n",
              " path: '/content/Manzanas-clases-1/test/images/ManzanaV_19_jpg.rf.2989f823819f2d6e9c0ff15c8795f134.jpg'\n",
              " probs: None\n",
              " save_dir: 'runs/detect/predict'\n",
              " speed: {'preprocess': 2.086162567138672, 'inference': 8.06283950805664, 'postprocess': 1.2180805206298828},\n",
              " ultralytics.engine.results.Results object with attributes:\n",
              " \n",
              " boxes: ultralytics.engine.results.Boxes object\n",
              " keypoints: None\n",
              " masks: None\n",
              " names: {0: 'Gala', 1: 'Golden', 2: 'Granny', 3: 'Red'}\n",
              " obb: None\n",
              " orig_img: array([[[112, 112, 112],\n",
              "         [111, 111, 111],\n",
              "         [116, 116, 116],\n",
              "         ...,\n",
              "         [121, 121, 121],\n",
              "         [121, 121, 121],\n",
              "         [122, 122, 122]],\n",
              " \n",
              "        [[112, 112, 112],\n",
              "         [111, 111, 111],\n",
              "         [116, 116, 116],\n",
              "         ...,\n",
              "         [122, 122, 122],\n",
              "         [121, 121, 121],\n",
              "         [121, 121, 121]],\n",
              " \n",
              "        [[ 96,  96,  96],\n",
              "         [ 95,  95,  95],\n",
              "         [100, 100, 100],\n",
              "         ...,\n",
              "         [123, 123, 123],\n",
              "         [121, 121, 121],\n",
              "         [121, 121, 121]],\n",
              " \n",
              "        ...,\n",
              " \n",
              "        [[  9,   9,   9],\n",
              "         [ 11,  11,  11],\n",
              "         [ 18,  18,  18],\n",
              "         ...,\n",
              "         [123, 123, 123],\n",
              "         [170, 170, 170],\n",
              "         [200, 200, 200]],\n",
              " \n",
              "        [[  7,   7,   7],\n",
              "         [ 10,  10,  10],\n",
              "         [ 18,  18,  18],\n",
              "         ...,\n",
              "         [129, 129, 129],\n",
              "         [174, 174, 174],\n",
              "         [204, 204, 204]],\n",
              " \n",
              "        [[  7,   7,   7],\n",
              "         [ 10,  10,  10],\n",
              "         [ 20,  20,  20],\n",
              "         ...,\n",
              "         [128, 128, 128],\n",
              "         [172, 172, 172],\n",
              "         [201, 201, 201]]], dtype=uint8)\n",
              " orig_shape: (640, 640)\n",
              " path: '/content/Manzanas-clases-1/test/images/ManzanaV_19_jpg.rf.53a86f9ad6f2ade09dc67ea48d5643bc.jpg'\n",
              " probs: None\n",
              " save_dir: 'runs/detect/predict'\n",
              " speed: {'preprocess': 3.1516551971435547, 'inference': 7.859230041503906, 'postprocess': 1.2235641479492188},\n",
              " ultralytics.engine.results.Results object with attributes:\n",
              " \n",
              " boxes: ultralytics.engine.results.Boxes object\n",
              " keypoints: None\n",
              " masks: None\n",
              " names: {0: 'Gala', 1: 'Golden', 2: 'Granny', 3: 'Red'}\n",
              " obb: None\n",
              " orig_img: array([[[ 63,  63,  63],\n",
              "         [ 64,  64,  64],\n",
              "         [ 64,  64,  64],\n",
              "         ...,\n",
              "         [ 63,  63,  63],\n",
              "         [ 78,  78,  78],\n",
              "         [ 87,  87,  87]],\n",
              " \n",
              "        [[ 63,  63,  63],\n",
              "         [ 63,  63,  63],\n",
              "         [ 63,  63,  63],\n",
              "         ...,\n",
              "         [ 66,  66,  66],\n",
              "         [ 77,  77,  77],\n",
              "         [ 85,  85,  85]],\n",
              " \n",
              "        [[ 63,  63,  63],\n",
              "         [ 63,  63,  63],\n",
              "         [ 61,  61,  61],\n",
              "         ...,\n",
              "         [ 69,  69,  69],\n",
              "         [ 78,  78,  78],\n",
              "         [ 84,  84,  84]],\n",
              " \n",
              "        ...,\n",
              " \n",
              "        [[166, 166, 166],\n",
              "         [166, 166, 166],\n",
              "         [167, 167, 167],\n",
              "         ...,\n",
              "         [ 28,  28,  28],\n",
              "         [ 29,  29,  29],\n",
              "         [ 30,  30,  30]],\n",
              " \n",
              "        [[204, 204, 204],\n",
              "         [198, 198, 198],\n",
              "         [186, 186, 186],\n",
              "         ...,\n",
              "         [ 31,  31,  31],\n",
              "         [ 32,  32,  32],\n",
              "         [ 33,  33,  33]],\n",
              " \n",
              "        [[206, 206, 206],\n",
              "         [199, 199, 199],\n",
              "         [186, 186, 186],\n",
              "         ...,\n",
              "         [ 32,  32,  32],\n",
              "         [ 34,  34,  34],\n",
              "         [ 35,  35,  35]]], dtype=uint8)\n",
              " orig_shape: (640, 640)\n",
              " path: '/content/Manzanas-clases-1/test/images/ManzanaV_19_jpg.rf.fe30c13a47caa9cbb2cf30768564afea.jpg'\n",
              " probs: None\n",
              " save_dir: 'runs/detect/predict'\n",
              " speed: {'preprocess': 1.4069080352783203, 'inference': 7.63392448425293, 'postprocess': 1.2753009796142578},\n",
              " ultralytics.engine.results.Results object with attributes:\n",
              " \n",
              " boxes: ultralytics.engine.results.Boxes object\n",
              " keypoints: None\n",
              " masks: None\n",
              " names: {0: 'Gala', 1: 'Golden', 2: 'Granny', 3: 'Red'}\n",
              " obb: None\n",
              " orig_img: array([[[ 46,  46,  46],\n",
              "         [ 45,  45,  45],\n",
              "         [ 42,  42,  42],\n",
              "         ...,\n",
              "         [ 55,  55,  55],\n",
              "         [ 62,  62,  62],\n",
              "         [ 63,  63,  63]],\n",
              " \n",
              "        [[ 42,  42,  42],\n",
              "         [ 41,  41,  41],\n",
              "         [ 39,  39,  39],\n",
              "         ...,\n",
              "         [ 55,  55,  55],\n",
              "         [ 58,  58,  58],\n",
              "         [ 57,  57,  57]],\n",
              " \n",
              "        [[ 35,  35,  35],\n",
              "         [ 34,  34,  34],\n",
              "         [ 33,  33,  33],\n",
              "         ...,\n",
              "         [ 54,  54,  54],\n",
              "         [ 55,  55,  55],\n",
              "         [ 52,  52,  52]],\n",
              " \n",
              "        ...,\n",
              " \n",
              "        [[161, 161, 161],\n",
              "         [151, 151, 151],\n",
              "         [131, 131, 131],\n",
              "         ...,\n",
              "         [ 49,  49,  49],\n",
              "         [ 49,  49,  49],\n",
              "         [ 49,  49,  49]],\n",
              " \n",
              "        [[171, 171, 171],\n",
              "         [157, 157, 157],\n",
              "         [130, 130, 130],\n",
              "         ...,\n",
              "         [ 49,  49,  49],\n",
              "         [ 49,  49,  49],\n",
              "         [ 49,  49,  49]],\n",
              " \n",
              "        [[179, 179, 179],\n",
              "         [162, 162, 162],\n",
              "         [130, 130, 130],\n",
              "         ...,\n",
              "         [ 49,  49,  49],\n",
              "         [ 49,  49,  49],\n",
              "         [ 49,  49,  49]]], dtype=uint8)\n",
              " orig_shape: (640, 640)\n",
              " path: '/content/Manzanas-clases-1/test/images/ManzanaV_5_jpg.rf.37fa923629936695a13044b17d105cd2.jpg'\n",
              " probs: None\n",
              " save_dir: 'runs/detect/predict'\n",
              " speed: {'preprocess': 2.092599868774414, 'inference': 7.720232009887695, 'postprocess': 0.4992485046386719},\n",
              " ultralytics.engine.results.Results object with attributes:\n",
              " \n",
              " boxes: ultralytics.engine.results.Boxes object\n",
              " keypoints: None\n",
              " masks: None\n",
              " names: {0: 'Gala', 1: 'Golden', 2: 'Granny', 3: 'Red'}\n",
              " obb: None\n",
              " orig_img: array([[[191, 191, 191],\n",
              "         [167, 167, 167],\n",
              "         [138, 138, 138],\n",
              "         ...,\n",
              "         [ 32,  32,  32],\n",
              "         [ 32,  32,  32],\n",
              "         [ 32,  32,  32]],\n",
              " \n",
              "        [[188, 188, 188],\n",
              "         [165, 165, 165],\n",
              "         [138, 138, 138],\n",
              "         ...,\n",
              "         [ 32,  32,  32],\n",
              "         [ 32,  32,  32],\n",
              "         [ 32,  32,  32]],\n",
              " \n",
              "        [[199, 199, 199],\n",
              "         [176, 176, 176],\n",
              "         [147, 147, 147],\n",
              "         ...,\n",
              "         [ 40,  40,  40],\n",
              "         [ 40,  40,  40],\n",
              "         [ 40,  40,  40]],\n",
              " \n",
              "        ...,\n",
              " \n",
              "        [[ 81,  81,  81],\n",
              "         [ 84,  84,  84],\n",
              "         [ 98,  98,  98],\n",
              "         ...,\n",
              "         [ 37,  37,  37],\n",
              "         [ 39,  39,  39],\n",
              "         [ 40,  40,  40]],\n",
              " \n",
              "        [[ 39,  39,  39],\n",
              "         [ 43,  43,  43],\n",
              "         [ 59,  59,  59],\n",
              "         ...,\n",
              "         [ 31,  31,  31],\n",
              "         [ 33,  33,  33],\n",
              "         [ 33,  33,  33]],\n",
              " \n",
              "        [[ 34,  34,  34],\n",
              "         [ 37,  37,  37],\n",
              "         [ 54,  54,  54],\n",
              "         ...,\n",
              "         [ 27,  27,  27],\n",
              "         [ 28,  28,  28],\n",
              "         [ 28,  28,  28]]], dtype=uint8)\n",
              " orig_shape: (640, 640)\n",
              " path: '/content/Manzanas-clases-1/test/images/ManzanaV_5_jpg.rf.3d3ed7d16f619e66a7f7f54d315e7574.jpg'\n",
              " probs: None\n",
              " save_dir: 'runs/detect/predict'\n",
              " speed: {'preprocess': 2.0279884338378906, 'inference': 7.601261138916016, 'postprocess': 0.5147457122802734},\n",
              " ultralytics.engine.results.Results object with attributes:\n",
              " \n",
              " boxes: ultralytics.engine.results.Boxes object\n",
              " keypoints: None\n",
              " masks: None\n",
              " names: {0: 'Gala', 1: 'Golden', 2: 'Granny', 3: 'Red'}\n",
              " obb: None\n",
              " orig_img: array([[[104, 104, 104],\n",
              "         [109, 109, 109],\n",
              "         [119, 119, 119],\n",
              "         ...,\n",
              "         [123, 123, 123],\n",
              "         [123, 123, 123],\n",
              "         [123, 123, 123]],\n",
              " \n",
              "        [[111, 111, 111],\n",
              "         [115, 115, 115],\n",
              "         [124, 124, 124],\n",
              "         ...,\n",
              "         [124, 124, 124],\n",
              "         [122, 122, 122],\n",
              "         [121, 121, 121]],\n",
              " \n",
              "        [[ 88,  88,  88],\n",
              "         [ 92,  92,  92],\n",
              "         [ 99,  99,  99],\n",
              "         ...,\n",
              "         [125, 125, 125],\n",
              "         [121, 121, 121],\n",
              "         [119, 119, 119]],\n",
              " \n",
              "        ...,\n",
              " \n",
              "        [[214, 214, 214],\n",
              "         [217, 217, 217],\n",
              "         [215, 215, 215],\n",
              "         ...,\n",
              "         [177, 177, 177],\n",
              "         [193, 193, 193],\n",
              "         [195, 195, 195]],\n",
              " \n",
              "        [[214, 214, 214],\n",
              "         [217, 217, 217],\n",
              "         [215, 215, 215],\n",
              "         ...,\n",
              "         [197, 197, 197],\n",
              "         [211, 211, 211],\n",
              "         [210, 210, 210]],\n",
              " \n",
              "        [[214, 214, 214],\n",
              "         [217, 217, 217],\n",
              "         [215, 215, 215],\n",
              "         ...,\n",
              "         [195, 195, 195],\n",
              "         [208, 208, 208],\n",
              "         [204, 204, 204]]], dtype=uint8)\n",
              " orig_shape: (640, 640)\n",
              " path: '/content/Manzanas-clases-1/test/images/ManzanaV_5_jpg.rf.b366f5ece8b8b833c170cb6662c61199.jpg'\n",
              " probs: None\n",
              " save_dir: 'runs/detect/predict'\n",
              " speed: {'preprocess': 1.9545555114746094, 'inference': 7.526636123657227, 'postprocess': 1.2629032135009766},\n",
              " ultralytics.engine.results.Results object with attributes:\n",
              " \n",
              " boxes: ultralytics.engine.results.Boxes object\n",
              " keypoints: None\n",
              " masks: None\n",
              " names: {0: 'Gala', 1: 'Golden', 2: 'Granny', 3: 'Red'}\n",
              " obb: None\n",
              " orig_img: array([[[213, 213, 213],\n",
              "         [216, 216, 216],\n",
              "         [215, 215, 215],\n",
              "         ...,\n",
              "         [219, 219, 219],\n",
              "         [226, 226, 226],\n",
              "         [224, 224, 224]],\n",
              " \n",
              "        [[213, 213, 213],\n",
              "         [216, 216, 216],\n",
              "         [215, 215, 215],\n",
              "         ...,\n",
              "         [223, 223, 223],\n",
              "         [230, 230, 230],\n",
              "         [228, 228, 228]],\n",
              " \n",
              "        [[213, 213, 213],\n",
              "         [216, 216, 216],\n",
              "         [215, 215, 215],\n",
              "         ...,\n",
              "         [229, 229, 229],\n",
              "         [236, 236, 236],\n",
              "         [234, 234, 234]],\n",
              " \n",
              "        ...,\n",
              " \n",
              "        [[ 84,  84,  84],\n",
              "         [ 84,  84,  84],\n",
              "         [ 84,  84,  84],\n",
              "         ...,\n",
              "         [ 55,  55,  55],\n",
              "         [ 53,  53,  53],\n",
              "         [ 51,  51,  51]],\n",
              " \n",
              "        [[ 81,  81,  81],\n",
              "         [ 81,  81,  81],\n",
              "         [ 80,  80,  80],\n",
              "         ...,\n",
              "         [ 55,  55,  55],\n",
              "         [ 52,  52,  52],\n",
              "         [ 50,  50,  50]],\n",
              " \n",
              "        [[ 80,  80,  80],\n",
              "         [ 80,  80,  80],\n",
              "         [ 79,  79,  79],\n",
              "         ...,\n",
              "         [ 56,  56,  56],\n",
              "         [ 53,  53,  53],\n",
              "         [ 51,  51,  51]]], dtype=uint8)\n",
              " orig_shape: (640, 640)\n",
              " path: '/content/Manzanas-clases-1/test/images/ManzanaV_5_jpg.rf.d22055fb987c53a23621cfb4b16669ed.jpg'\n",
              " probs: None\n",
              " save_dir: 'runs/detect/predict'\n",
              " speed: {'preprocess': 1.978158950805664, 'inference': 7.545709609985352, 'postprocess': 1.260519027709961}]"
            ]
          },
          "metadata": {},
          "execution_count": 13
        }
      ],
      "source": [
        "model.predict(r\"/content/Manzanas-clases-1/test/images\", save=True, imgsz=640, conf=0.35, save_txt = True, save_conf = False)"
      ]
    }
  ],
  "metadata": {
    "kernelspec": {
      "display_name": "Python 3",
      "name": "python3"
    },
    "language_info": {
      "codemirror_mode": {
        "name": "ipython",
        "version": 3
      },
      "file_extension": ".py",
      "mimetype": "text/x-python",
      "name": "python",
      "nbconvert_exporter": "python",
      "pygments_lexer": "ipython3",
      "version": "3.12.3"
    },
    "colab": {
      "provenance": [],
      "machine_shape": "hm",
      "gpuType": "L4",
      "include_colab_link": true
    },
    "accelerator": "GPU"
  },
  "nbformat": 4,
  "nbformat_minor": 0
}